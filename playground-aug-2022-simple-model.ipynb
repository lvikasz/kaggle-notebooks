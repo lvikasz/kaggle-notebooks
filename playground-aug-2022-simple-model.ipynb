{
 "cells": [
  {
   "cell_type": "code",
   "execution_count": 1,
   "id": "fa2cd4bb",
   "metadata": {
    "_cell_guid": "b1076dfc-b9ad-4769-8c92-a6c4dae69d19",
    "_uuid": "8f2839f25d086af736a60e9eeb907d3b93b6e0e5",
    "execution": {
     "iopub.execute_input": "2022-08-21T10:03:22.692243Z",
     "iopub.status.busy": "2022-08-21T10:03:22.691237Z",
     "iopub.status.idle": "2022-08-21T10:03:25.722764Z",
     "shell.execute_reply": "2022-08-21T10:03:25.721491Z"
    },
    "papermill": {
     "duration": 3.046124,
     "end_time": "2022-08-21T10:03:25.725718",
     "exception": false,
     "start_time": "2022-08-21T10:03:22.679594",
     "status": "completed"
    },
    "tags": []
   },
   "outputs": [
    {
     "data": {
      "text/html": [
       "<style type='text/css'>\n",
       ".datatable table.frame { margin-bottom: 0; }\n",
       ".datatable table.frame thead { border-bottom: none; }\n",
       ".datatable table.frame tr.coltypes td {  color: #FFFFFF;  line-height: 6px;  padding: 0 0.5em;}\n",
       ".datatable .bool    { background: #DDDD99; }\n",
       ".datatable .object  { background: #565656; }\n",
       ".datatable .int     { background: #5D9E5D; }\n",
       ".datatable .float   { background: #4040CC; }\n",
       ".datatable .str     { background: #CC4040; }\n",
       ".datatable .time    { background: #40CC40; }\n",
       ".datatable .row_index {  background: var(--jp-border-color3);  border-right: 1px solid var(--jp-border-color0);  color: var(--jp-ui-font-color3);  font-size: 9px;}\n",
       ".datatable .frame tbody td { text-align: left; }\n",
       ".datatable .frame tr.coltypes .row_index {  background: var(--jp-border-color0);}\n",
       ".datatable th:nth-child(2) { padding-left: 12px; }\n",
       ".datatable .hellipsis {  color: var(--jp-cell-editor-border-color);}\n",
       ".datatable .vellipsis {  background: var(--jp-layout-color0);  color: var(--jp-cell-editor-border-color);}\n",
       ".datatable .na {  color: var(--jp-cell-editor-border-color);  font-size: 80%;}\n",
       ".datatable .sp {  opacity: 0.25;}\n",
       ".datatable .footer { font-size: 9px; }\n",
       ".datatable .frame_dimensions {  background: var(--jp-border-color3);  border-top: 1px solid var(--jp-border-color0);  color: var(--jp-ui-font-color3);  display: inline-block;  opacity: 0.6;  padding: 1px 10px 1px 5px;}\n",
       "</style>\n"
      ],
      "text/plain": [
       "<IPython.core.display.HTML object>"
      ]
     },
     "metadata": {},
     "output_type": "display_data"
    }
   ],
   "source": [
    "from sklearn.experimental import enable_iterative_imputer\n",
    "from sklearn.preprocessing import OneHotEncoder, StandardScaler\n",
    "from sklearn.model_selection import train_test_split\n",
    "from sklearn.pipeline import make_pipeline\n",
    "from sklearn.model_selection import cross_validate, KFold\n",
    "from sklearn.compose import make_column_transformer\n",
    "from sklearn.impute import SimpleImputer, IterativeImputer, KNNImputer\n",
    "from sklearn.ensemble import HistGradientBoostingClassifier\n",
    "from sklearn.linear_model import LogisticRegression\n",
    "from sklearn.decomposition import PCA\n",
    "\n",
    "import xgboost as xgb\n",
    "import lightgbm as lgb\n",
    "\n",
    "from imblearn.over_sampling import RandomOverSampler\n",
    "\n",
    "import pandas as pd\n",
    "import numpy as np\n",
    "from matplotlib import pyplot as plt\n",
    "import seaborn as sns\n",
    "\n",
    "import warnings\n",
    "warnings.filterwarnings(\"ignore\")\n",
    "\n",
    "RANDOM_STATE = 9485"
   ]
  },
  {
   "cell_type": "code",
   "execution_count": 2,
   "id": "40aa3250",
   "metadata": {
    "execution": {
     "iopub.execute_input": "2022-08-21T10:03:25.743275Z",
     "iopub.status.busy": "2022-08-21T10:03:25.742852Z",
     "iopub.status.idle": "2022-08-21T10:03:26.020758Z",
     "shell.execute_reply": "2022-08-21T10:03:26.019629Z"
    },
    "papermill": {
     "duration": 0.29003,
     "end_time": "2022-08-21T10:03:26.023939",
     "exception": false,
     "start_time": "2022-08-21T10:03:25.733909",
     "status": "completed"
    },
    "tags": []
   },
   "outputs": [],
   "source": [
    "train_raw = pd.read_csv(\"../input/tabular-playground-series-aug-2022/train.csv\", index_col='id')\n",
    "test_raw = pd.read_csv(\"../input/tabular-playground-series-aug-2022/test.csv\", index_col='id')\n",
    "\n",
    "X_train = train_raw.drop(columns=['failure'])\n",
    "X_sub = test_raw\n",
    "\n",
    "y_train = train_raw['failure']"
   ]
  },
  {
   "cell_type": "code",
   "execution_count": 3,
   "id": "f91ac16a",
   "metadata": {
    "execution": {
     "iopub.execute_input": "2022-08-21T10:03:26.042369Z",
     "iopub.status.busy": "2022-08-21T10:03:26.041960Z",
     "iopub.status.idle": "2022-08-21T10:03:26.049141Z",
     "shell.execute_reply": "2022-08-21T10:03:26.047812Z"
    },
    "papermill": {
     "duration": 0.019279,
     "end_time": "2022-08-21T10:03:26.051539",
     "exception": false,
     "start_time": "2022-08-21T10:03:26.032260",
     "status": "completed"
    },
    "tags": []
   },
   "outputs": [],
   "source": [
    "int_cols = [f for f in train_raw.columns if train_raw[f].dtype == int and f != 'failure']\n",
    "float_cols = [f for f in train_raw.columns if train_raw[f].dtype == float]\n",
    "categorical_cols = ['attribute_0', 'attribute_1']"
   ]
  },
  {
   "cell_type": "code",
   "execution_count": 4,
   "id": "d3e66f09",
   "metadata": {
    "execution": {
     "iopub.execute_input": "2022-08-21T10:03:26.069693Z",
     "iopub.status.busy": "2022-08-21T10:03:26.068963Z",
     "iopub.status.idle": "2022-08-21T10:03:26.076352Z",
     "shell.execute_reply": "2022-08-21T10:03:26.075060Z"
    },
    "papermill": {
     "duration": 0.018634,
     "end_time": "2022-08-21T10:03:26.078489",
     "exception": false,
     "start_time": "2022-08-21T10:03:26.059855",
     "status": "completed"
    },
    "tags": []
   },
   "outputs": [],
   "source": [
    "def ohe(X_train, X_test, columns):\n",
    "    transformer = make_column_transformer(\n",
    "        (OneHotEncoder(handle_unknown='ignore', \n",
    "                       drop='first', \n",
    "                       categories=[['material_5', 'material_7'],\n",
    "                                   ['material_5', 'material_6', 'material_8']]), columns),\n",
    "        remainder='passthrough')\n",
    "\n",
    "    X_train = pd.DataFrame(\n",
    "        transformer.fit_transform(X_train), \n",
    "        columns=transformer.get_feature_names()\n",
    "    )\n",
    "    X_test = pd.DataFrame(\n",
    "        transformer.transform(X_test),\n",
    "        columns=transformer.get_feature_names()\n",
    "    )\n",
    "    \n",
    "    return X_train, X_test"
   ]
  },
  {
   "cell_type": "code",
   "execution_count": 5,
   "id": "2b9b4a1e",
   "metadata": {
    "execution": {
     "iopub.execute_input": "2022-08-21T10:03:26.096309Z",
     "iopub.status.busy": "2022-08-21T10:03:26.095892Z",
     "iopub.status.idle": "2022-08-21T10:03:26.105400Z",
     "shell.execute_reply": "2022-08-21T10:03:26.104268Z"
    },
    "papermill": {
     "duration": 0.021409,
     "end_time": "2022-08-21T10:03:26.107864",
     "exception": false,
     "start_time": "2022-08-21T10:03:26.086455",
     "status": "completed"
    },
    "tags": []
   },
   "outputs": [],
   "source": [
    "def impute_per_product_code(X, imputer):\n",
    "    \"\"\"Impute missing values in TPS2208 data.\n",
    "    \n",
    "    Imputation is performed over separate \"per-product-code\" batches, and is designed to leave all non-imputed \n",
    "    data in the exact same format as before imputation.\"\"\"\n",
    "    # source: https://www.kaggle.com/code/purist1024/per-product-code-imputation\n",
    "    def transform(X):\n",
    "        return pd.DataFrame(imputer.fit_transform(X), index=X.index, columns=X.columns)\n",
    "\n",
    "    cats = [\"product_code\", \"attribute_0\", \"attribute_1\", \"attribute_2\", \"attribute_3\"]\n",
    "    ints = [\"measurement_0\", \"measurement_1\", \"measurement_2\"]\n",
    "    right = pd.concat([transform(gdf.drop(columns=cats)) for g, gdf in X.groupby(\"product_code\")],\n",
    "                      axis=\"rows\")\n",
    "    right[ints] = right[ints].round().astype(int)\n",
    "    return pd.concat([X[cats], right], axis=\"columns\").reindex(columns=X.columns)\n",
    "\n",
    "def impute(X_train, X_test, imputer, columns):\n",
    "    X_train[columns] = imputer.fit_transform(X_train[columns])\n",
    "    X_test[columns] = imputer.transform(X_test[columns])\n",
    "    \n",
    "    return X_train, X_test"
   ]
  },
  {
   "cell_type": "code",
   "execution_count": 6,
   "id": "42ac83a7",
   "metadata": {
    "execution": {
     "iopub.execute_input": "2022-08-21T10:03:26.125655Z",
     "iopub.status.busy": "2022-08-21T10:03:26.124682Z",
     "iopub.status.idle": "2022-08-21T10:03:26.130229Z",
     "shell.execute_reply": "2022-08-21T10:03:26.129094Z"
    },
    "papermill": {
     "duration": 0.016801,
     "end_time": "2022-08-21T10:03:26.132500",
     "exception": false,
     "start_time": "2022-08-21T10:03:26.115699",
     "status": "completed"
    },
    "tags": []
   },
   "outputs": [],
   "source": [
    "def oversample(X_train, y_train, oversampler):\n",
    "    return oversampler.fit_resample(X_train, y_train)"
   ]
  },
  {
   "cell_type": "code",
   "execution_count": 7,
   "id": "92d20fa5",
   "metadata": {
    "execution": {
     "iopub.execute_input": "2022-08-21T10:03:26.150901Z",
     "iopub.status.busy": "2022-08-21T10:03:26.150079Z",
     "iopub.status.idle": "2022-08-21T10:03:26.159591Z",
     "shell.execute_reply": "2022-08-21T10:03:26.158630Z"
    },
    "papermill": {
     "duration": 0.021611,
     "end_time": "2022-08-21T10:03:26.162152",
     "exception": false,
     "start_time": "2022-08-21T10:03:26.140541",
     "status": "completed"
    },
    "tags": []
   },
   "outputs": [],
   "source": [
    "def prepare_data(X_train, X_test, y_train, imputer, oversampler, per_product_code=False):\n",
    "    if not per_product_code:\n",
    "        print(\"Dropping product code...\")\n",
    "        X_train = X_train.drop(columns=['product_code'], axis=1)\n",
    "        X_test = X_test.drop(columns=['product_code'], axis=1)\n",
    "    \n",
    "    if imputer != None:\n",
    "        print(\"Imputing...\")\n",
    "        if per_product_code:\n",
    "            X_train = impute_per_product_code(X_train, imputer)\n",
    "            X_test = impute_per_product_code(X_test, imputer)\n",
    "        else:\n",
    "            X_train, X_test = impute(X_train, X_test, imputer, float_cols)\n",
    "    \n",
    "    if per_product_code:\n",
    "        print(\"Dropping product code...\")\n",
    "        X_train = X_train.drop(columns=['product_code'], axis=1)\n",
    "        X_test = X_test.drop(columns=['product_code'], axis=1)\n",
    "    \n",
    "    print(\"OHE...\")\n",
    "    X_train, X_test = ohe(X_train, X_test, categorical_cols)\n",
    "    \n",
    "\n",
    "    if oversampler != None:\n",
    "        print(\"Oversampling...\")\n",
    "        X_train, y_train = oversample(X_train, y_train, oversampler)\n",
    "    \n",
    "    return X_train, X_test, y_train"
   ]
  },
  {
   "cell_type": "code",
   "execution_count": 8,
   "id": "b142c9e9",
   "metadata": {
    "execution": {
     "iopub.execute_input": "2022-08-21T10:03:26.180220Z",
     "iopub.status.busy": "2022-08-21T10:03:26.179446Z",
     "iopub.status.idle": "2022-08-21T10:03:26.184953Z",
     "shell.execute_reply": "2022-08-21T10:03:26.183948Z"
    },
    "papermill": {
     "duration": 0.017404,
     "end_time": "2022-08-21T10:03:26.187601",
     "exception": false,
     "start_time": "2022-08-21T10:03:26.170197",
     "status": "completed"
    },
    "tags": []
   },
   "outputs": [],
   "source": [
    "def create_submission_data(model, X_sub):\n",
    "    probs = model.predict_proba(X_sub)\n",
    "    \n",
    "    return probs[:, 1]"
   ]
  },
  {
   "cell_type": "code",
   "execution_count": 9,
   "id": "ffda9cc3",
   "metadata": {
    "execution": {
     "iopub.execute_input": "2022-08-21T10:03:26.206504Z",
     "iopub.status.busy": "2022-08-21T10:03:26.205765Z",
     "iopub.status.idle": "2022-08-21T10:03:26.215321Z",
     "shell.execute_reply": "2022-08-21T10:03:26.214194Z"
    },
    "papermill": {
     "duration": 0.021884,
     "end_time": "2022-08-21T10:03:26.217446",
     "exception": false,
     "start_time": "2022-08-21T10:03:26.195562",
     "status": "completed"
    },
    "tags": []
   },
   "outputs": [],
   "source": [
    "def train_model(model, X_train, X_sub, y_train, imputer=None, oversampler=None, *, per_product_code=False):\n",
    "    X_train, X_sub, y_train = prepare_data(X_train, X_sub, y_train, imputer, oversampler, per_product_code)\n",
    "    X_train, X_test, y_train, y_test = train_test_split(X_train, y_train, test_size = 0.25, random_state=RANDOM_STATE)\n",
    "    \n",
    "    scores = cross_validate(model, X=X_train, y=y_train, cv=5, n_jobs=-1, scoring=('roc_auc', 'neg_log_loss'))\n",
    "    \n",
    "    print(\"-------------\")\n",
    "    print(scores)\n",
    "    print(\"-------------\")\n",
    "\n",
    "    print(\"METRICS: \")\n",
    "    print(\"ROC_AUC \\t\", end=\"\")\n",
    "    print(\"Scores: \", scores['test_roc_auc'], end=\"\\t\")\n",
    "    print(\"Mean: \", scores['test_roc_auc'].mean())\n",
    "    \n",
    "    print(\"LOG_LOSS \\t\", end=\"\")\n",
    "    print(\"Scores: \", -1*scores['test_neg_log_loss'], end='\\t')\n",
    "    print(\"Mean: \", -1*scores['test_neg_log_loss'].mean())\n",
    "    \n",
    "    model.fit(X_train, y_train)\n",
    "    roc_scores = scores['test_roc_auc']\n",
    "    return (model, roc_scores)"
   ]
  },
  {
   "cell_type": "code",
   "execution_count": 10,
   "id": "1b79d28e",
   "metadata": {
    "execution": {
     "iopub.execute_input": "2022-08-21T10:03:26.235300Z",
     "iopub.status.busy": "2022-08-21T10:03:26.234606Z",
     "iopub.status.idle": "2022-08-21T10:03:26.239864Z",
     "shell.execute_reply": "2022-08-21T10:03:26.238913Z"
    },
    "papermill": {
     "duration": 0.016736,
     "end_time": "2022-08-21T10:03:26.242089",
     "exception": false,
     "start_time": "2022-08-21T10:03:26.225353",
     "status": "completed"
    },
    "tags": []
   },
   "outputs": [],
   "source": [
    "def create_submission(trained_model, X_sub, filename):\n",
    "    sub_probs = create_submission_data(model, X_sub)\n",
    "    \n",
    "    submission = pd.DataFrame({'id': X_sub.index,\n",
    "                               'failure': sub_probs})\n",
    "    submission.to_csv(filename, index=False)"
   ]
  },
  {
   "cell_type": "markdown",
   "id": "ea2316aa",
   "metadata": {
    "papermill": {
     "duration": 0.007438,
     "end_time": "2022-08-21T10:03:26.257378",
     "exception": false,
     "start_time": "2022-08-21T10:03:26.249940",
     "status": "completed"
    },
    "tags": []
   },
   "source": [
    "### LGBM"
   ]
  },
  {
   "cell_type": "code",
   "execution_count": 11,
   "id": "b38ac043",
   "metadata": {
    "execution": {
     "iopub.execute_input": "2022-08-21T10:03:26.274633Z",
     "iopub.status.busy": "2022-08-21T10:03:26.274231Z",
     "iopub.status.idle": "2022-08-21T10:03:26.279927Z",
     "shell.execute_reply": "2022-08-21T10:03:26.278717Z"
    },
    "papermill": {
     "duration": 0.016913,
     "end_time": "2022-08-21T10:03:26.282104",
     "exception": false,
     "start_time": "2022-08-21T10:03:26.265191",
     "status": "completed"
    },
    "tags": []
   },
   "outputs": [],
   "source": [
    "clf = lgb.LGBMClassifier()\n",
    "lgb_model = make_pipeline(StandardScaler(), clf)"
   ]
  },
  {
   "cell_type": "code",
   "execution_count": 12,
   "id": "135eb660",
   "metadata": {
    "execution": {
     "iopub.execute_input": "2022-08-21T10:03:26.299700Z",
     "iopub.status.busy": "2022-08-21T10:03:26.299260Z",
     "iopub.status.idle": "2022-08-21T10:03:31.242999Z",
     "shell.execute_reply": "2022-08-21T10:03:31.241887Z"
    },
    "papermill": {
     "duration": 4.956034,
     "end_time": "2022-08-21T10:03:31.246022",
     "exception": false,
     "start_time": "2022-08-21T10:03:26.289988",
     "status": "completed"
    },
    "tags": []
   },
   "outputs": [
    {
     "name": "stdout",
     "output_type": "stream",
     "text": [
      "Dropping product code...\n",
      "Imputing...\n",
      "OHE...\n",
      "-------------\n",
      "{'fit_time': array([0.97634459, 0.95068955, 0.94467354, 0.88170791, 0.69985342]), 'score_time': array([0.0399611 , 0.03942633, 0.04022217, 0.03933692, 0.0308938 ]), 'test_roc_auc': array([0.53758243, 0.56642281, 0.53868342, 0.56758659, 0.56936897]), 'test_neg_log_loss': array([-0.52449669, -0.51637706, -0.52536045, -0.5181993 , -0.51577524])}\n",
      "-------------\n",
      "METRICS: \n",
      "ROC_AUC \tScores:  [0.53758243 0.56642281 0.53868342 0.56758659 0.56936897]\tMean:  0.5559288440148661\n",
      "LOG_LOSS \tScores:  [0.52449669 0.51637706 0.52536045 0.5181993  0.51577524]\tMean:  0.5200417494645174\n"
     ]
    }
   ],
   "source": [
    "simple_imputer_model = train_model(lgb_model, X_train, X_sub, y_train, SimpleImputer())"
   ]
  },
  {
   "cell_type": "code",
   "execution_count": 13,
   "id": "ec868172",
   "metadata": {
    "execution": {
     "iopub.execute_input": "2022-08-21T10:03:31.265056Z",
     "iopub.status.busy": "2022-08-21T10:03:31.264249Z",
     "iopub.status.idle": "2022-08-21T10:03:39.376353Z",
     "shell.execute_reply": "2022-08-21T10:03:39.375381Z"
    },
    "papermill": {
     "duration": 8.124512,
     "end_time": "2022-08-21T10:03:39.379061",
     "exception": false,
     "start_time": "2022-08-21T10:03:31.254549",
     "status": "completed"
    },
    "tags": []
   },
   "outputs": [
    {
     "name": "stdout",
     "output_type": "stream",
     "text": [
      "Dropping product code...\n",
      "Imputing...\n",
      "OHE...\n",
      "-------------\n",
      "{'fit_time': array([0.91542125, 0.92613626, 0.93780351, 0.92688656, 0.71291614]), 'score_time': array([0.03777838, 0.03917098, 0.04030704, 0.03566718, 0.02941513]), 'test_roc_auc': array([0.5529843 , 0.57647396, 0.55017507, 0.56040497, 0.55632109]), 'test_neg_log_loss': array([-0.52077222, -0.51437113, -0.52308235, -0.51763408, -0.519177  ])}\n",
      "-------------\n",
      "METRICS: \n",
      "ROC_AUC \tScores:  [0.5529843  0.57647396 0.55017507 0.56040497 0.55632109]\tMean:  0.5592718759037718\n",
      "LOG_LOSS \tScores:  [0.52077222 0.51437113 0.52308235 0.51763408 0.519177  ]\tMean:  0.5190073561500073\n"
     ]
    }
   ],
   "source": [
    "iterative_imputer_model = train_model(lgb_model, X_train, X_sub, y_train, IterativeImputer(random_state=RANDOM_STATE))"
   ]
  },
  {
   "cell_type": "code",
   "execution_count": 14,
   "id": "3493e90b",
   "metadata": {
    "execution": {
     "iopub.execute_input": "2022-08-21T10:03:39.398117Z",
     "iopub.status.busy": "2022-08-21T10:03:39.397023Z",
     "iopub.status.idle": "2022-08-21T10:04:30.577927Z",
     "shell.execute_reply": "2022-08-21T10:04:30.576941Z"
    },
    "papermill": {
     "duration": 51.193289,
     "end_time": "2022-08-21T10:04:30.580733",
     "exception": false,
     "start_time": "2022-08-21T10:03:39.387444",
     "status": "completed"
    },
    "tags": []
   },
   "outputs": [
    {
     "name": "stdout",
     "output_type": "stream",
     "text": [
      "Dropping product code...\n",
      "Imputing...\n",
      "OHE...\n",
      "-------------\n",
      "{'fit_time': array([0.91000628, 0.91623402, 0.93598318, 0.88507295, 0.69146776]), 'score_time': array([0.03902221, 0.03717279, 0.03230095, 0.03867483, 0.02873969]), 'test_roc_auc': array([0.55624221, 0.56323284, 0.55225873, 0.57023883, 0.56155006]), 'test_neg_log_loss': array([-0.52222015, -0.51608512, -0.52261039, -0.51627024, -0.51736992])}\n",
      "-------------\n",
      "METRICS: \n",
      "ROC_AUC \tScores:  [0.55624221 0.56323284 0.55225873 0.57023883 0.56155006]\tMean:  0.5607045313849565\n",
      "LOG_LOSS \tScores:  [0.52222015 0.51608512 0.52261039 0.51627024 0.51736992]\tMean:  0.5189111655097329\n"
     ]
    }
   ],
   "source": [
    "iterative_imputer_model = train_model(lgb_model, X_train, X_sub, y_train, KNNImputer(n_neighbors=3))"
   ]
  },
  {
   "cell_type": "markdown",
   "id": "833c8218",
   "metadata": {
    "papermill": {
     "duration": 0.008104,
     "end_time": "2022-08-21T10:04:30.597414",
     "exception": false,
     "start_time": "2022-08-21T10:04:30.589310",
     "status": "completed"
    },
    "tags": []
   },
   "source": [
    "### LogisticRegression"
   ]
  },
  {
   "cell_type": "code",
   "execution_count": 15,
   "id": "af059903",
   "metadata": {
    "execution": {
     "iopub.execute_input": "2022-08-21T10:04:30.616391Z",
     "iopub.status.busy": "2022-08-21T10:04:30.615432Z",
     "iopub.status.idle": "2022-08-21T10:04:30.621043Z",
     "shell.execute_reply": "2022-08-21T10:04:30.620009Z"
    },
    "papermill": {
     "duration": 0.017481,
     "end_time": "2022-08-21T10:04:30.623406",
     "exception": false,
     "start_time": "2022-08-21T10:04:30.605925",
     "status": "completed"
    },
    "tags": []
   },
   "outputs": [],
   "source": [
    "log_reg_clf = LogisticRegression(penalty='l1', C=0.011, solver='liblinear', random_state=RANDOM_STATE)\n",
    "log_reg_model = make_pipeline(StandardScaler(), clf)"
   ]
  },
  {
   "cell_type": "code",
   "execution_count": 16,
   "id": "e9b4234d",
   "metadata": {
    "execution": {
     "iopub.execute_input": "2022-08-21T10:04:30.641728Z",
     "iopub.status.busy": "2022-08-21T10:04:30.641307Z",
     "iopub.status.idle": "2022-08-21T10:04:32.933449Z",
     "shell.execute_reply": "2022-08-21T10:04:32.932505Z"
    },
    "papermill": {
     "duration": 2.304494,
     "end_time": "2022-08-21T10:04:32.936115",
     "exception": false,
     "start_time": "2022-08-21T10:04:30.631621",
     "status": "completed"
    },
    "tags": []
   },
   "outputs": [
    {
     "name": "stdout",
     "output_type": "stream",
     "text": [
      "Dropping product code...\n",
      "Imputing...\n",
      "OHE...\n",
      "-------------\n",
      "{'fit_time': array([0.93092132, 0.9598608 , 0.9274838 , 0.90373683, 0.70224714]), 'score_time': array([0.03964162, 0.03281403, 0.03840804, 0.03888464, 0.02918124]), 'test_roc_auc': array([0.53758243, 0.56642281, 0.53868342, 0.56758659, 0.56936897]), 'test_neg_log_loss': array([-0.52449669, -0.51637706, -0.52536045, -0.5181993 , -0.51577524])}\n",
      "-------------\n",
      "METRICS: \n",
      "ROC_AUC \tScores:  [0.53758243 0.56642281 0.53868342 0.56758659 0.56936897]\tMean:  0.5559288440148661\n",
      "LOG_LOSS \tScores:  [0.52449669 0.51637706 0.52536045 0.5181993  0.51577524]\tMean:  0.5200417494645174\n"
     ]
    }
   ],
   "source": [
    "simple_imputer_model = train_model(log_reg_model, X_train, X_sub, y_train, SimpleImputer())"
   ]
  },
  {
   "cell_type": "code",
   "execution_count": 17,
   "id": "c091a7b9",
   "metadata": {
    "execution": {
     "iopub.execute_input": "2022-08-21T10:04:32.955397Z",
     "iopub.status.busy": "2022-08-21T10:04:32.954696Z",
     "iopub.status.idle": "2022-08-21T10:04:39.770604Z",
     "shell.execute_reply": "2022-08-21T10:04:39.769625Z"
    },
    "papermill": {
     "duration": 6.828564,
     "end_time": "2022-08-21T10:04:39.773250",
     "exception": false,
     "start_time": "2022-08-21T10:04:32.944686",
     "status": "completed"
    },
    "tags": []
   },
   "outputs": [
    {
     "name": "stdout",
     "output_type": "stream",
     "text": [
      "Dropping product code...\n",
      "Imputing...\n",
      "OHE...\n",
      "-------------\n",
      "{'fit_time': array([0.89887786, 0.93098617, 0.89139414, 0.92003369, 0.70927405]), 'score_time': array([0.0373776 , 0.03219771, 0.03931808, 0.03829122, 0.02940631]), 'test_roc_auc': array([0.5529843 , 0.57647396, 0.55017507, 0.56040497, 0.55632109]), 'test_neg_log_loss': array([-0.52077222, -0.51437113, -0.52308235, -0.51763408, -0.519177  ])}\n",
      "-------------\n",
      "METRICS: \n",
      "ROC_AUC \tScores:  [0.5529843  0.57647396 0.55017507 0.56040497 0.55632109]\tMean:  0.5592718759037718\n",
      "LOG_LOSS \tScores:  [0.52077222 0.51437113 0.52308235 0.51763408 0.519177  ]\tMean:  0.5190073561500073\n"
     ]
    }
   ],
   "source": [
    "iterative_imputer_model = train_model(log_reg_model, X_train, X_sub, y_train, IterativeImputer(random_state=RANDOM_STATE))"
   ]
  },
  {
   "cell_type": "code",
   "execution_count": 18,
   "id": "ab77bbfd",
   "metadata": {
    "execution": {
     "iopub.execute_input": "2022-08-21T10:04:39.792712Z",
     "iopub.status.busy": "2022-08-21T10:04:39.792085Z",
     "iopub.status.idle": "2022-08-21T10:04:47.883046Z",
     "shell.execute_reply": "2022-08-21T10:04:47.881956Z"
    },
    "papermill": {
     "duration": 8.103668,
     "end_time": "2022-08-21T10:04:47.885823",
     "exception": false,
     "start_time": "2022-08-21T10:04:39.782155",
     "status": "completed"
    },
    "tags": []
   },
   "outputs": [
    {
     "name": "stdout",
     "output_type": "stream",
     "text": [
      "Imputing...\n",
      "Dropping product code...\n",
      "OHE...\n",
      "-------------\n",
      "{'fit_time': array([0.92489338, 0.9125843 , 0.92289305, 0.93967509, 0.70073915]), 'score_time': array([0.04030347, 0.03873348, 0.03815651, 0.03223467, 0.02954268]), 'test_roc_auc': array([0.55651886, 0.57238119, 0.5376716 , 0.55945092, 0.56333092]), 'test_neg_log_loss': array([-0.52107582, -0.51503373, -0.52696255, -0.5180722 , -0.51708934])}\n",
      "-------------\n",
      "METRICS: \n",
      "ROC_AUC \tScores:  [0.55651886 0.57238119 0.5376716  0.55945092 0.56333092]\tMean:  0.5578706989192004\n",
      "LOG_LOSS \tScores:  [0.52107582 0.51503373 0.52696255 0.5180722  0.51708934]\tMean:  0.5196467277046224\n"
     ]
    }
   ],
   "source": [
    "iterative_imputer_model = train_model(log_reg_model, X_train, X_sub, y_train, IterativeImputer(random_state=RANDOM_STATE), per_product_code=True)"
   ]
  },
  {
   "cell_type": "code",
   "execution_count": 19,
   "id": "bd4911a8",
   "metadata": {
    "execution": {
     "iopub.execute_input": "2022-08-21T10:04:47.905604Z",
     "iopub.status.busy": "2022-08-21T10:04:47.905200Z",
     "iopub.status.idle": "2022-08-21T10:13:11.828675Z",
     "shell.execute_reply": "2022-08-21T10:13:11.827019Z"
    },
    "papermill": {
     "duration": 503.937052,
     "end_time": "2022-08-21T10:13:11.831950",
     "exception": false,
     "start_time": "2022-08-21T10:04:47.894898",
     "status": "completed"
    },
    "tags": []
   },
   "outputs": [
    {
     "name": "stdout",
     "output_type": "stream",
     "text": [
      "n_neighbors:  2\n",
      "Dropping product code...\n",
      "Imputing...\n",
      "OHE...\n",
      "-------------\n",
      "{'fit_time': array([0.89778399, 0.91658354, 0.90398121, 0.93309021, 0.71558285]), 'score_time': array([0.03857422, 0.03781128, 0.04145932, 0.02928686, 0.03403711]), 'test_roc_auc': array([0.55378632, 0.56705424, 0.55400411, 0.56331016, 0.55892726]), 'test_neg_log_loss': array([-0.52173573, -0.51637525, -0.52163412, -0.5175371 , -0.51945526])}\n",
      "-------------\n",
      "METRICS: \n",
      "ROC_AUC \tScores:  [0.55378632 0.56705424 0.55400411 0.56331016 0.55892726]\tMean:  0.5594164192932789\n",
      "LOG_LOSS \tScores:  [0.52173573 0.51637525 0.52163412 0.5175371  0.51945526]\tMean:  0.5193474925775263\n",
      "-----------------------\n",
      "n_neighbors:  3\n",
      "Dropping product code...\n",
      "Imputing...\n",
      "OHE...\n",
      "-------------\n",
      "{'fit_time': array([0.92378449, 0.91437316, 0.95984006, 0.93950009, 0.69946003]), 'score_time': array([0.04030943, 0.04030967, 0.04114318, 0.04165816, 0.02873349]), 'test_roc_auc': array([0.55624221, 0.56323284, 0.55225873, 0.57023883, 0.56155006]), 'test_neg_log_loss': array([-0.52222015, -0.51608512, -0.52261039, -0.51627024, -0.51736992])}\n",
      "-------------\n",
      "METRICS: \n",
      "ROC_AUC \tScores:  [0.55624221 0.56323284 0.55225873 0.57023883 0.56155006]\tMean:  0.5607045313849565\n",
      "LOG_LOSS \tScores:  [0.52222015 0.51608512 0.52261039 0.51627024 0.51736992]\tMean:  0.5189111655097329\n",
      "-----------------------\n",
      "n_neighbors:  4\n",
      "Dropping product code...\n",
      "Imputing...\n",
      "OHE...\n",
      "-------------\n",
      "{'fit_time': array([0.87033319, 0.92542553, 0.93384361, 0.91937923, 0.71522927]), 'score_time': array([0.03727078, 0.0366931 , 0.03826809, 0.03763199, 0.02936888]), 'test_roc_auc': array([0.55034461, 0.57171541, 0.53856902, 0.56617986, 0.55308517]), 'test_neg_log_loss': array([-0.52269893, -0.51624303, -0.52682345, -0.51705642, -0.51937852])}\n",
      "-------------\n",
      "METRICS: \n",
      "ROC_AUC \tScores:  [0.55034461 0.57171541 0.53856902 0.56617986 0.55308517]\tMean:  0.5559788140627454\n",
      "LOG_LOSS \tScores:  [0.52269893 0.51624303 0.52682345 0.51705642 0.51937852]\tMean:  0.5204400713948809\n",
      "-----------------------\n",
      "n_neighbors:  5\n",
      "Dropping product code...\n",
      "Imputing...\n",
      "OHE...\n",
      "-------------\n",
      "{'fit_time': array([0.91572905, 0.91498017, 0.90184474, 0.93953466, 0.73194432]), 'score_time': array([0.03877711, 0.03718972, 0.03747153, 0.03178573, 0.03115249]), 'test_roc_auc': array([0.5507292 , 0.5709851 , 0.55055601, 0.56803435, 0.55828544]), 'test_neg_log_loss': array([-0.52329321, -0.51593601, -0.52225012, -0.51628782, -0.51870392])}\n",
      "-------------\n",
      "METRICS: \n",
      "ROC_AUC \tScores:  [0.5507292  0.5709851  0.55055601 0.56803435 0.55828544]\tMean:  0.5597180204103959\n",
      "LOG_LOSS \tScores:  [0.52329321 0.51593601 0.52225012 0.51628782 0.51870392]\tMean:  0.5192942163543304\n",
      "-----------------------\n",
      "n_neighbors:  6\n",
      "Dropping product code...\n",
      "Imputing...\n",
      "OHE...\n",
      "-------------\n",
      "{'fit_time': array([0.90864944, 0.92837024, 0.90611839, 0.91215682, 0.69356728]), 'score_time': array([0.0387044 , 0.03626299, 0.04008055, 0.03778529, 0.02867675]), 'test_roc_auc': array([0.56502182, 0.56189223, 0.54722004, 0.56753713, 0.56432575]), 'test_neg_log_loss': array([-0.51825842, -0.51759231, -0.52336608, -0.51577239, -0.51706725])}\n",
      "-------------\n",
      "METRICS: \n",
      "ROC_AUC \tScores:  [0.56502182 0.56189223 0.54722004 0.56753713 0.56432575]\tMean:  0.5611993940780159\n",
      "LOG_LOSS \tScores:  [0.51825842 0.51759231 0.52336608 0.51577239 0.51706725]\tMean:  0.5184112894983224\n",
      "-----------------------\n",
      "n_neighbors:  7\n",
      "Dropping product code...\n",
      "Imputing...\n",
      "OHE...\n",
      "-------------\n",
      "{'fit_time': array([0.90823126, 0.91718268, 0.94781446, 0.91126323, 0.70940232]), 'score_time': array([0.03713822, 0.03694224, 0.03025532, 0.03887582, 0.02959037]), 'test_roc_auc': array([0.56465987, 0.56715766, 0.54282733, 0.56599562, 0.55677187]), 'test_neg_log_loss': array([-0.51846517, -0.51683743, -0.52458952, -0.51666296, -0.51951823])}\n",
      "-------------\n",
      "METRICS: \n",
      "ROC_AUC \tScores:  [0.56465987 0.56715766 0.54282733 0.56599562 0.55677187]\tMean:  0.5594824701438162\n",
      "LOG_LOSS \tScores:  [0.51846517 0.51683743 0.52458952 0.51666296 0.51951823]\tMean:  0.5192146623702973\n",
      "-----------------------\n",
      "n_neighbors:  8\n",
      "Dropping product code...\n",
      "Imputing...\n",
      "OHE...\n",
      "-------------\n",
      "{'fit_time': array([0.93584991, 0.9347105 , 0.93196321, 0.92773986, 0.69907188]), 'score_time': array([0.03919888, 0.04123449, 0.03930974, 0.03919077, 0.02864218]), 'test_roc_auc': array([0.54937954, 0.572819  , 0.55005161, 0.5698341 , 0.54895145]), 'test_neg_log_loss': array([-0.52282855, -0.51484761, -0.52288723, -0.51584045, -0.52088254])}\n",
      "-------------\n",
      "METRICS: \n",
      "ROC_AUC \tScores:  [0.54937954 0.572819   0.55005161 0.5698341  0.54895145]\tMean:  0.5582071386282186\n",
      "LOG_LOSS \tScores:  [0.52282855 0.51484761 0.52288723 0.51584045 0.52088254]\tMean:  0.5194572762936677\n",
      "-----------------------\n",
      "n_neighbors:  9\n",
      "Dropping product code...\n",
      "Imputing...\n",
      "OHE...\n",
      "-------------\n",
      "{'fit_time': array([0.91393852, 0.91069055, 0.90790009, 0.93116045, 0.72658443]), 'score_time': array([0.03938293, 0.03923631, 0.03899264, 0.03098464, 0.0297823 ]), 'test_roc_auc': array([0.54936746, 0.56365781, 0.54909001, 0.55853009, 0.55208128]), 'test_neg_log_loss': array([-0.5227871 , -0.51772626, -0.52148397, -0.52025679, -0.52050944])}\n",
      "-------------\n",
      "METRICS: \n",
      "ROC_AUC \tScores:  [0.54936746 0.56365781 0.54909001 0.55853009 0.55208128]\tMean:  0.5545453304137613\n",
      "LOG_LOSS \tScores:  [0.5227871  0.51772626 0.52148397 0.52025679 0.52050944]\tMean:  0.5205527121441367\n",
      "-----------------------\n",
      "n_neighbors:  10\n",
      "Dropping product code...\n",
      "Imputing...\n",
      "OHE...\n",
      "-------------\n",
      "{'fit_time': array([0.89511514, 0.91094565, 0.94078803, 0.92064071, 0.70851207]), 'score_time': array([0.03622031, 0.03759789, 0.03094316, 0.03914785, 0.02901578]), 'test_roc_auc': array([0.5487398 , 0.57251291, 0.53806123, 0.56874149, 0.55775046]), 'test_neg_log_loss': array([-0.5225911 , -0.51574474, -0.52454636, -0.51678   , -0.52054504])}\n",
      "-------------\n",
      "METRICS: \n",
      "ROC_AUC \tScores:  [0.5487398  0.57251291 0.53806123 0.56874149 0.55775046]\tMean:  0.5571611786256659\n",
      "LOG_LOSS \tScores:  [0.5225911  0.51574474 0.52454636 0.51678    0.52054504]\tMean:  0.5200414500324824\n",
      "-----------------------\n"
     ]
    }
   ],
   "source": [
    "for n in range(2, 11):\n",
    "    print(\"n_neighbors: \", n)\n",
    "    train_model(log_reg_model, X_train, X_sub, y_train, KNNImputer(n_neighbors=n))\n",
    "    print(\"-----------------------\")"
   ]
  },
  {
   "cell_type": "code",
   "execution_count": 20,
   "id": "5c931702",
   "metadata": {
    "execution": {
     "iopub.execute_input": "2022-08-21T10:13:11.856584Z",
     "iopub.status.busy": "2022-08-21T10:13:11.855323Z",
     "iopub.status.idle": "2022-08-21T10:15:16.508676Z",
     "shell.execute_reply": "2022-08-21T10:15:16.507593Z"
    },
    "papermill": {
     "duration": 124.668326,
     "end_time": "2022-08-21T10:15:16.511102",
     "exception": false,
     "start_time": "2022-08-21T10:13:11.842776",
     "status": "completed"
    },
    "tags": []
   },
   "outputs": [
    {
     "name": "stdout",
     "output_type": "stream",
     "text": [
      "n_neighbors:  2\n",
      "Imputing...\n",
      "Dropping product code...\n",
      "OHE...\n",
      "-------------\n",
      "{'fit_time': array([0.92405558, 0.90696692, 0.93304682, 0.93794894, 0.71194577]), 'score_time': array([0.03899598, 0.03820968, 0.03401232, 0.0382359 , 0.03039193]), 'test_roc_auc': array([0.55375877, 0.57133686, 0.55410113, 0.56110418, 0.56376321]), 'test_neg_log_loss': array([-0.52171047, -0.51532673, -0.52094809, -0.5194361 , -0.51787219])}\n",
      "-------------\n",
      "METRICS: \n",
      "ROC_AUC \tScores:  [0.55375877 0.57133686 0.55410113 0.56110418 0.56376321]\tMean:  0.5608128304450812\n",
      "LOG_LOSS \tScores:  [0.52171047 0.51532673 0.52094809 0.5194361  0.51787219]\tMean:  0.5190587161358975\n",
      "-----------------------\n",
      "n_neighbors:  3\n",
      "Imputing...\n",
      "Dropping product code...\n",
      "OHE...\n",
      "-------------\n",
      "{'fit_time': array([0.87071419, 0.91401458, 0.93116903, 0.92499042, 0.70591307]), 'score_time': array([0.03682137, 0.0360024 , 0.04109955, 0.03912377, 0.02937531]), 'test_roc_auc': array([0.5547061 , 0.57963827, 0.54237843, 0.56754883, 0.54522359]), 'test_neg_log_loss': array([-0.52088412, -0.51317996, -0.52367991, -0.51681232, -0.5224441 ])}\n",
      "-------------\n",
      "METRICS: \n",
      "ROC_AUC \tScores:  [0.5547061  0.57963827 0.54237843 0.56754883 0.54522359]\tMean:  0.5578990456240358\n",
      "LOG_LOSS \tScores:  [0.52088412 0.51317996 0.52367991 0.51681232 0.5224441 ]\tMean:  0.519400080684699\n",
      "-----------------------\n",
      "n_neighbors:  4\n",
      "Imputing...\n",
      "Dropping product code...\n",
      "OHE...\n",
      "-------------\n",
      "{'fit_time': array([0.86892653, 0.92034531, 0.88877535, 0.93830371, 0.71553969]), 'score_time': array([0.03638697, 0.03650761, 0.03835702, 0.02925253, 0.02943516]), 'test_roc_auc': array([0.55544434, 0.5679661 , 0.55057715, 0.56145378, 0.56338038]), 'test_neg_log_loss': array([-0.52075454, -0.51543558, -0.52327155, -0.51813218, -0.51782116])}\n",
      "-------------\n",
      "METRICS: \n",
      "ROC_AUC \tScores:  [0.55544434 0.5679661  0.55057715 0.56145378 0.56338038]\tMean:  0.5597643502149042\n",
      "LOG_LOSS \tScores:  [0.52075454 0.51543558 0.52327155 0.51813218 0.51782116]\tMean:  0.51908300324896\n",
      "-----------------------\n",
      "n_neighbors:  5\n",
      "Imputing...\n",
      "Dropping product code...\n",
      "OHE...\n",
      "-------------\n",
      "{'fit_time': array([0.90869761, 0.91264057, 0.95208287, 0.89092898, 0.70471835]), 'score_time': array([0.03821468, 0.03978062, 0.03013968, 0.0380919 , 0.0288527 ]), 'test_roc_auc': array([0.55966997, 0.56138837, 0.55558865, 0.56987903, 0.55237388]), 'test_neg_log_loss': array([-0.52001262, -0.51648143, -0.52084332, -0.51622413, -0.52024461])}\n",
      "-------------\n",
      "METRICS: \n",
      "ROC_AUC \tScores:  [0.55966997 0.56138837 0.55558865 0.56987903 0.55237388]\tMean:  0.5597799791913902\n",
      "LOG_LOSS \tScores:  [0.52001262 0.51648143 0.52084332 0.51622413 0.52024461]\tMean:  0.51876122028316\n",
      "-----------------------\n",
      "n_neighbors:  6\n",
      "Imputing...\n",
      "Dropping product code...\n",
      "OHE...\n",
      "-------------\n",
      "{'fit_time': array([0.91652036, 0.90890288, 0.93442678, 0.92363024, 0.69532061]), 'score_time': array([0.03831959, 0.03955507, 0.03992629, 0.03904223, 0.03004289]), 'test_roc_auc': array([0.55593159, 0.56995662, 0.55190044, 0.56996058, 0.55283146]), 'test_neg_log_loss': array([-0.52118391, -0.51633133, -0.5218528 , -0.51693984, -0.51911472])}\n",
      "-------------\n",
      "METRICS: \n",
      "ROC_AUC \tScores:  [0.55593159 0.56995662 0.55190044 0.56996058 0.55283146]\tMean:  0.5601161379354974\n",
      "LOG_LOSS \tScores:  [0.52118391 0.51633133 0.5218528  0.51693984 0.51911472]\tMean:  0.5190845231123093\n",
      "-----------------------\n",
      "n_neighbors:  7\n",
      "Imputing...\n",
      "Dropping product code...\n",
      "OHE...\n",
      "-------------\n",
      "{'fit_time': array([0.933743  , 0.88230085, 0.94536638, 0.89233828, 0.72650552]), 'score_time': array([0.03978777, 0.03753495, 0.03104281, 0.03760099, 0.03339624]), 'test_roc_auc': array([0.55174824, 0.57464836, 0.54943093, 0.56580345, 0.56009161]), 'test_neg_log_loss': array([-0.5223918 , -0.51482932, -0.52269806, -0.51664949, -0.51879438])}\n",
      "-------------\n",
      "METRICS: \n",
      "ROC_AUC \tScores:  [0.55174824 0.57464836 0.54943093 0.56580345 0.56009161]\tMean:  0.5603445189961793\n",
      "LOG_LOSS \tScores:  [0.5223918  0.51482932 0.52269806 0.51664949 0.51879438]\tMean:  0.5190726100496523\n",
      "-----------------------\n",
      "n_neighbors:  8\n",
      "Imputing...\n",
      "Dropping product code...\n",
      "OHE...\n",
      "-------------\n",
      "{'fit_time': array([0.94518495, 0.91778946, 0.96102929, 0.88770032, 0.71982622]), 'score_time': array([0.04269314, 0.04216862, 0.03954434, 0.04688978, 0.02953601]), 'test_roc_auc': array([0.55165653, 0.5670165 , 0.54204279, 0.56087992, 0.55755376]), 'test_neg_log_loss': array([-0.52053481, -0.51633817, -0.52531176, -0.51920236, -0.51941401])}\n",
      "-------------\n",
      "METRICS: \n",
      "ROC_AUC \tScores:  [0.55165653 0.5670165  0.54204279 0.56087992 0.55755376]\tMean:  0.5558299002334154\n",
      "LOG_LOSS \tScores:  [0.52053481 0.51633817 0.52531176 0.51920236 0.51941401]\tMean:  0.52016022173059\n",
      "-----------------------\n",
      "n_neighbors:  9\n",
      "Imputing...\n",
      "Dropping product code...\n",
      "OHE...\n",
      "-------------\n",
      "{'fit_time': array([0.92337132, 0.90841126, 0.95335722, 0.92942476, 0.70318866]), 'score_time': array([0.04128647, 0.03934145, 0.0351603 , 0.03787351, 0.02910662]), 'test_roc_auc': array([0.5570314 , 0.57447551, 0.55532135, 0.56352196, 0.55253962]), 'test_neg_log_loss': array([-0.51941808, -0.51384922, -0.52083664, -0.51778232, -0.51995001])}\n",
      "-------------\n",
      "METRICS: \n",
      "ROC_AUC \tScores:  [0.5570314  0.57447551 0.55532135 0.56352196 0.55253962]\tMean:  0.5605779682362233\n",
      "LOG_LOSS \tScores:  [0.51941808 0.51384922 0.52083664 0.51778232 0.51995001]\tMean:  0.5183672542355656\n",
      "-----------------------\n",
      "n_neighbors:  10\n",
      "Imputing...\n",
      "Dropping product code...\n",
      "OHE...\n",
      "-------------\n",
      "{'fit_time': array([0.9293294 , 0.9187088 , 0.93984056, 0.94836044, 0.71865368]), 'score_time': array([0.0379777 , 0.03660035, 0.03394055, 0.03754807, 0.03097558]), 'test_roc_auc': array([0.55766472, 0.56359177, 0.55399807, 0.56859047, 0.55443148]), 'test_neg_log_loss': array([-0.51928582, -0.51735622, -0.52242487, -0.51637413, -0.52017894])}\n",
      "-------------\n",
      "METRICS: \n",
      "ROC_AUC \tScores:  [0.55766472 0.56359177 0.55399807 0.56859047 0.55443148]\tMean:  0.5596553019310329\n",
      "LOG_LOSS \tScores:  [0.51928582 0.51735622 0.52242487 0.51637413 0.52017894]\tMean:  0.5191239966617427\n",
      "-----------------------\n"
     ]
    }
   ],
   "source": [
    "for n in range(2, 11):\n",
    "    print(\"n_neighbors: \", n)\n",
    "    train_model(log_reg_model, X_train, X_sub, y_train, KNNImputer(n_neighbors=n), per_product_code=True)\n",
    "    print(\"-----------------------\")"
   ]
  },
  {
   "cell_type": "code",
   "execution_count": 21,
   "id": "1970ffb9",
   "metadata": {
    "execution": {
     "iopub.execute_input": "2022-08-21T10:15:16.538353Z",
     "iopub.status.busy": "2022-08-21T10:15:16.537661Z",
     "iopub.status.idle": "2022-08-21T10:15:16.542480Z",
     "shell.execute_reply": "2022-08-21T10:15:16.541697Z"
    },
    "papermill": {
     "duration": 0.020983,
     "end_time": "2022-08-21T10:15:16.544811",
     "exception": false,
     "start_time": "2022-08-21T10:15:16.523828",
     "status": "completed"
    },
    "tags": []
   },
   "outputs": [],
   "source": [
    "# best 9"
   ]
  },
  {
   "cell_type": "markdown",
   "id": "09ab8534",
   "metadata": {
    "papermill": {
     "duration": 0.012491,
     "end_time": "2022-08-21T10:15:16.570415",
     "exception": false,
     "start_time": "2022-08-21T10:15:16.557924",
     "status": "completed"
    },
    "tags": []
   },
   "source": [
    "### HistGradientBoostingClassifier"
   ]
  },
  {
   "cell_type": "code",
   "execution_count": 22,
   "id": "986e56f2",
   "metadata": {
    "execution": {
     "iopub.execute_input": "2022-08-21T10:15:16.597087Z",
     "iopub.status.busy": "2022-08-21T10:15:16.596658Z",
     "iopub.status.idle": "2022-08-21T10:15:16.602727Z",
     "shell.execute_reply": "2022-08-21T10:15:16.601779Z"
    },
    "papermill": {
     "duration": 0.022156,
     "end_time": "2022-08-21T10:15:16.605042",
     "exception": false,
     "start_time": "2022-08-21T10:15:16.582886",
     "status": "completed"
    },
    "tags": []
   },
   "outputs": [],
   "source": [
    "hist = HistGradientBoostingClassifier(learning_rate=0.05, max_leaf_nodes=25,\n",
    "                                           max_iter=1000, min_samples_leaf=500,\n",
    "                                           l2_regularization=1,\n",
    "                                           max_bins=255,\n",
    "                                           random_state=RANDOM_STATE, verbose=0)\n",
    "hist_gradient_model = make_pipeline(StandardScaler(), hist)"
   ]
  },
  {
   "cell_type": "code",
   "execution_count": 23,
   "id": "155ba573",
   "metadata": {
    "execution": {
     "iopub.execute_input": "2022-08-21T10:15:16.632984Z",
     "iopub.status.busy": "2022-08-21T10:15:16.632065Z",
     "iopub.status.idle": "2022-08-21T10:15:18.209558Z",
     "shell.execute_reply": "2022-08-21T10:15:18.208538Z"
    },
    "papermill": {
     "duration": 1.59405,
     "end_time": "2022-08-21T10:15:18.212261",
     "exception": false,
     "start_time": "2022-08-21T10:15:16.618211",
     "status": "completed"
    },
    "tags": []
   },
   "outputs": [
    {
     "name": "stdout",
     "output_type": "stream",
     "text": [
      "Dropping product code...\n",
      "Imputing...\n",
      "OHE...\n",
      "-------------\n",
      "{'fit_time': array([0.41945171, 0.35061574, 0.3383112 , 0.41394901, 0.34924579]), 'score_time': array([0.04278016, 0.03628135, 0.03524351, 0.03431273, 0.03897357]), 'test_roc_auc': array([0.5747865 , 0.58982114, 0.56559675, 0.59230016, 0.58103202]), 'test_neg_log_loss': array([-0.51004668, -0.50833716, -0.51152774, -0.5081071 , -0.5093248 ])}\n",
      "-------------\n",
      "METRICS: \n",
      "ROC_AUC \tScores:  [0.5747865  0.58982114 0.56559675 0.59230016 0.58103202]\tMean:  0.5807073141195748\n",
      "LOG_LOSS \tScores:  [0.51004668 0.50833716 0.51152774 0.5081071  0.5093248 ]\tMean:  0.509468695049611\n"
     ]
    }
   ],
   "source": [
    "simple_imputer_model_hist = train_model(hist_gradient_model, X_train, X_sub, y_train, SimpleImputer())"
   ]
  },
  {
   "cell_type": "code",
   "execution_count": 24,
   "id": "0ffc1ae7",
   "metadata": {
    "execution": {
     "iopub.execute_input": "2022-08-21T10:15:18.239412Z",
     "iopub.status.busy": "2022-08-21T10:15:18.239015Z",
     "iopub.status.idle": "2022-08-21T10:15:23.993592Z",
     "shell.execute_reply": "2022-08-21T10:15:23.992667Z"
    },
    "papermill": {
     "duration": 5.771172,
     "end_time": "2022-08-21T10:15:23.996214",
     "exception": false,
     "start_time": "2022-08-21T10:15:18.225042",
     "status": "completed"
    },
    "tags": []
   },
   "outputs": [
    {
     "name": "stdout",
     "output_type": "stream",
     "text": [
      "Dropping product code...\n",
      "Imputing...\n",
      "OHE...\n",
      "-------------\n",
      "{'fit_time': array([0.40859342, 0.43060088, 0.39390945, 0.41946149, 0.26795673]), 'score_time': array([0.03966546, 0.04545569, 0.03922725, 0.03441095, 0.02821732]), 'test_roc_auc': array([0.56858809, 0.58619146, 0.56726039, 0.590968  , 0.57921528]), 'test_neg_log_loss': array([-0.51100718, -0.5082613 , -0.51140148, -0.5082939 , -0.50954264])}\n",
      "-------------\n",
      "METRICS: \n",
      "ROC_AUC \tScores:  [0.56858809 0.58619146 0.56726039 0.590968   0.57921528]\tMean:  0.578444645864053\n",
      "LOG_LOSS \tScores:  [0.51100718 0.5082613  0.51140148 0.5082939  0.50954264]\tMean:  0.5097012987613285\n"
     ]
    }
   ],
   "source": [
    "iterative_imputer_model = train_model(hist_gradient_model, X_train, X_sub, y_train, IterativeImputer(random_state=RANDOM_STATE))"
   ]
  },
  {
   "cell_type": "markdown",
   "id": "53294712",
   "metadata": {
    "papermill": {
     "duration": 0.01227,
     "end_time": "2022-08-21T10:15:24.021525",
     "exception": false,
     "start_time": "2022-08-21T10:15:24.009255",
     "status": "completed"
    },
    "tags": []
   },
   "source": [
    "PCA"
   ]
  },
  {
   "cell_type": "code",
   "execution_count": 25,
   "id": "f9e69dcb",
   "metadata": {
    "execution": {
     "iopub.execute_input": "2022-08-21T10:15:24.049471Z",
     "iopub.status.busy": "2022-08-21T10:15:24.048549Z",
     "iopub.status.idle": "2022-08-21T10:15:24.054319Z",
     "shell.execute_reply": "2022-08-21T10:15:24.053495Z"
    },
    "papermill": {
     "duration": 0.02233,
     "end_time": "2022-08-21T10:15:24.056517",
     "exception": false,
     "start_time": "2022-08-21T10:15:24.034187",
     "status": "completed"
    },
    "tags": []
   },
   "outputs": [],
   "source": [
    "log_reg_clf = LogisticRegression(penalty='l1', C=0.011, solver='liblinear', random_state=RANDOM_STATE)\n",
    "# log_reg_clf = LogisticRegression()"
   ]
  },
  {
   "cell_type": "code",
   "execution_count": 26,
   "id": "05e90474",
   "metadata": {
    "execution": {
     "iopub.execute_input": "2022-08-21T10:15:24.083908Z",
     "iopub.status.busy": "2022-08-21T10:15:24.083145Z",
     "iopub.status.idle": "2022-08-21T10:15:24.090741Z",
     "shell.execute_reply": "2022-08-21T10:15:24.089638Z"
    },
    "papermill": {
     "duration": 0.023885,
     "end_time": "2022-08-21T10:15:24.093001",
     "exception": false,
     "start_time": "2022-08-21T10:15:24.069116",
     "status": "completed"
    },
    "tags": []
   },
   "outputs": [
    {
     "data": {
      "text/plain": [
       "24"
      ]
     },
     "execution_count": 26,
     "metadata": {},
     "output_type": "execute_result"
    }
   ],
   "source": [
    "len(X_train.columns)"
   ]
  },
  {
   "cell_type": "code",
   "execution_count": 27,
   "id": "a4433952",
   "metadata": {
    "execution": {
     "iopub.execute_input": "2022-08-21T10:15:24.120593Z",
     "iopub.status.busy": "2022-08-21T10:15:24.119857Z",
     "iopub.status.idle": "2022-08-21T10:20:10.074317Z",
     "shell.execute_reply": "2022-08-21T10:20:10.071175Z"
    },
    "papermill": {
     "duration": 285.972331,
     "end_time": "2022-08-21T10:20:10.078037",
     "exception": false,
     "start_time": "2022-08-21T10:15:24.105706",
     "status": "completed"
    },
    "tags": []
   },
   "outputs": [
    {
     "name": "stdout",
     "output_type": "stream",
     "text": [
      "n_neighbors:  2\n",
      "Imputing...\n",
      "Dropping product code...\n",
      "OHE...\n",
      "-------------\n",
      "{'fit_time': array([0.10172987, 0.09892893, 0.09611392, 0.11723495, 0.05970097]), 'score_time': array([0.01397371, 0.01454949, 0.0198586 , 0.01027918, 0.00932288]), 'test_roc_auc': array([0.52401446, 0.54703385, 0.51254726, 0.53209001, 0.50426246]), 'test_neg_log_loss': array([-0.5155112 , -0.5152772 , -0.51609485, -0.51544237, -0.51628596])}\n",
      "-------------\n",
      "METRICS: \n",
      "ROC_AUC \tScores:  [0.52401446 0.54703385 0.51254726 0.53209001 0.50426246]\tMean:  0.5239896089840017\n",
      "LOG_LOSS \tScores:  [0.5155112  0.5152772  0.51609485 0.51544237 0.51628596]\tMean:  0.5157223166775605\n",
      "-----------------------\n",
      "n_neighbors:  3\n",
      "Imputing...\n",
      "Dropping product code...\n",
      "OHE...\n",
      "-------------\n",
      "{'fit_time': array([0.07959008, 0.08976603, 0.0850482 , 0.09801793, 0.06203413]), 'score_time': array([0.01678562, 0.01422381, 0.01395679, 0.01172495, 0.00965714]), 'test_roc_auc': array([0.52760111, 0.55175202, 0.51021291, 0.53814768, 0.50324611]), 'test_neg_log_loss': array([-0.51543648, -0.51520996, -0.51621268, -0.51527336, -0.51623706])}\n",
      "-------------\n",
      "METRICS: \n",
      "ROC_AUC \tScores:  [0.52760111 0.55175202 0.51021291 0.53814768 0.50324611]\tMean:  0.5261919673465757\n",
      "LOG_LOSS \tScores:  [0.51543648 0.51520996 0.51621268 0.51527336 0.51623706]\tMean:  0.5156739064723697\n",
      "-----------------------\n",
      "n_neighbors:  4\n",
      "Imputing...\n",
      "Dropping product code...\n",
      "OHE...\n",
      "-------------\n",
      "{'fit_time': array([0.09535027, 0.09338403, 0.09028339, 0.09743166, 0.06337953]), 'score_time': array([0.01446414, 0.0143528 , 0.01384187, 0.01509285, 0.00978994]), 'test_roc_auc': array([0.52531091, 0.54670399, 0.50940686, 0.53744545, 0.50432136]), 'test_neg_log_loss': array([-0.51547932, -0.51527106, -0.51623245, -0.51530032, -0.51627881])}\n",
      "-------------\n",
      "METRICS: \n",
      "ROC_AUC \tScores:  [0.52531091 0.54670399 0.50940686 0.53744545 0.50432136]\tMean:  0.5246377130146795\n",
      "LOG_LOSS \tScores:  [0.51547932 0.51527106 0.51623245 0.51530032 0.51627881]\tMean:  0.515712393048267\n",
      "-----------------------\n",
      "n_neighbors:  5\n",
      "Imputing...\n",
      "Dropping product code...\n",
      "OHE...\n",
      "-------------\n",
      "{'fit_time': array([0.10041595, 0.09527302, 0.10200953, 0.10620165, 0.06499505]), 'score_time': array([0.01436996, 0.01370382, 0.01416731, 0.01142836, 0.0101707 ]), 'test_roc_auc': array([0.52646167, 0.54696969, 0.5101593 , 0.53722308, 0.50416014]), 'test_neg_log_loss': array([-0.51545113, -0.51531299, -0.51620694, -0.51525448, -0.51626309])}\n",
      "-------------\n",
      "METRICS: \n",
      "ROC_AUC \tScores:  [0.52646167 0.54696969 0.5101593  0.53722308 0.50416014]\tMean:  0.5249947783830453\n",
      "LOG_LOSS \tScores:  [0.51545113 0.51531299 0.51620694 0.51525448 0.51626309]\tMean:  0.515697723191189\n",
      "-----------------------\n",
      "n_neighbors:  6\n",
      "Imputing...\n",
      "Dropping product code...\n",
      "OHE...\n",
      "-------------\n",
      "{'fit_time': array([0.13056374, 0.12821054, 0.12677646, 0.13335109, 0.08567119]), 'score_time': array([0.01404476, 0.01457644, 0.01414824, 0.01082754, 0.00952268]), 'test_roc_auc': array([0.52152121, 0.54937274, 0.51039904, 0.53788718, 0.50431267]), 'test_neg_log_loss': array([-0.51563912, -0.51486425, -0.5162011 , -0.51527412, -0.51626086])}\n",
      "-------------\n",
      "METRICS: \n",
      "ROC_AUC \tScores:  [0.52152121 0.54937274 0.51039904 0.53788718 0.50431267]\tMean:  0.5246985687651514\n",
      "LOG_LOSS \tScores:  [0.51563912 0.51486425 0.5162011  0.51527412 0.51626086]\tMean:  0.5156478902248262\n",
      "-----------------------\n",
      "n_neighbors:  7\n",
      "Imputing...\n",
      "Dropping product code...\n",
      "OHE...\n",
      "-------------\n",
      "{'fit_time': array([0.14147687, 0.13026071, 0.14456606, 0.13071585, 0.09245133]), 'score_time': array([0.01437473, 0.01441813, 0.01337695, 0.01377678, 0.01008439]), 'test_roc_auc': array([0.55433094, 0.56180769, 0.5422595 , 0.55522734, 0.54271029]), 'test_neg_log_loss': array([-0.51350137, -0.51349592, -0.5141771 , -0.51408663, -0.51402749])}\n",
      "-------------\n",
      "METRICS: \n",
      "ROC_AUC \tScores:  [0.55433094 0.56180769 0.5422595  0.55522734 0.54271029]\tMean:  0.5512671542354673\n",
      "LOG_LOSS \tScores:  [0.51350137 0.51349592 0.5141771  0.51408663 0.51402749]\tMean:  0.5138577015318588\n",
      "-----------------------\n",
      "n_neighbors:  8\n",
      "Imputing...\n",
      "Dropping product code...\n",
      "OHE...\n",
      "-------------\n",
      "{'fit_time': array([0.13726616, 0.13876462, 0.13820791, 0.14303088, 0.10131979]), 'score_time': array([0.01562929, 0.01350212, 0.01210427, 0.01535034, 0.00990486]), 'test_roc_auc': array([0.54169332, 0.55051784, 0.54162259, 0.5502955 , 0.50092498]), 'test_neg_log_loss': array([-0.5141684 , -0.51482583, -0.5141011 , -0.51378701, -0.51647811])}\n",
      "-------------\n",
      "METRICS: \n",
      "ROC_AUC \tScores:  [0.54169332 0.55051784 0.54162259 0.5502955  0.50092498]\tMean:  0.5370108472580882\n",
      "LOG_LOSS \tScores:  [0.5141684  0.51482583 0.5141011  0.51378701 0.51647811]\tMean:  0.5146720876022828\n",
      "-----------------------\n",
      "n_neighbors:  9\n",
      "Imputing...\n",
      "Dropping product code...\n",
      "OHE...\n",
      "-------------\n",
      "{'fit_time': array([0.16793132, 0.25661826, 0.21327233, 0.17879581, 0.13214231]), 'score_time': array([0.01395202, 0.01114869, 0.01833749, 0.0213654 , 0.01206589]), 'test_roc_auc': array([0.56417337, 0.57496578, 0.55290961, 0.56503553, 0.56886986]), 'test_neg_log_loss': array([-0.51126056, -0.51092009, -0.51271497, -0.51199306, -0.5114192 ])}\n",
      "-------------\n",
      "METRICS: \n",
      "ROC_AUC \tScores:  [0.56417337 0.57496578 0.55290961 0.56503553 0.56886986]\tMean:  0.5651908294612686\n",
      "LOG_LOSS \tScores:  [0.51126056 0.51092009 0.51271497 0.51199306 0.5114192 ]\tMean:  0.5116615760220158\n",
      "-----------------------\n",
      "n_neighbors:  10\n",
      "Imputing...\n",
      "Dropping product code...\n",
      "OHE...\n",
      "-------------\n",
      "{'fit_time': array([0.17582917, 0.15320277, 0.1620307 , 0.17595124, 0.10934234]), 'score_time': array([0.01775789, 0.01480961, 0.01619959, 0.01000047, 0.01016307]), 'test_roc_auc': array([0.55950239, 0.58760529, 0.5454807 , 0.57437707, 0.56977558]), 'test_neg_log_loss': array([-0.51211878, -0.5086742 , -0.51360344, -0.51078887, -0.51134498])}\n",
      "-------------\n",
      "METRICS: \n",
      "ROC_AUC \tScores:  [0.55950239 0.58760529 0.5454807  0.57437707 0.56977558]\tMean:  0.5673482061223712\n",
      "LOG_LOSS \tScores:  [0.51211878 0.5086742  0.51360344 0.51078887 0.51134498]\tMean:  0.5113060524226667\n",
      "-----------------------\n",
      "n_neighbors:  11\n",
      "Imputing...\n",
      "Dropping product code...\n",
      "OHE...\n",
      "-------------\n",
      "{'fit_time': array([0.17030931, 0.16244793, 0.16431975, 0.17416286, 0.11015391]), 'score_time': array([0.01552224, 0.01529741, 0.01438761, 0.01012611, 0.01015186]), 'test_roc_auc': array([0.56033914, 0.58513807, 0.5551239 , 0.58475271, 0.56902427]), 'test_neg_log_loss': array([-0.51214408, -0.50922729, -0.51197873, -0.5092509 , -0.51144415])}\n",
      "-------------\n",
      "METRICS: \n",
      "ROC_AUC \tScores:  [0.56033914 0.58513807 0.5551239  0.58475271 0.56902427]\tMean:  0.5708756172040828\n",
      "LOG_LOSS \tScores:  [0.51214408 0.50922729 0.51197873 0.5092509  0.51144415]\tMean:  0.510809030530317\n",
      "-----------------------\n",
      "n_neighbors:  12\n",
      "Imputing...\n",
      "Dropping product code...\n",
      "OHE...\n",
      "-------------\n",
      "{'fit_time': array([0.18095732, 0.17509675, 0.18210363, 0.18548965, 0.1175015 ]), 'score_time': array([0.01540136, 0.01498413, 0.01457953, 0.01202893, 0.01030946]), 'test_roc_auc': array([0.56063806, 0.58639187, 0.5548834 , 0.57956527, 0.58590081]), 'test_neg_log_loss': array([-0.5121062 , -0.50912559, -0.51201267, -0.51003576, -0.50909983])}\n",
      "-------------\n",
      "METRICS: \n",
      "ROC_AUC \tScores:  [0.56063806 0.58639187 0.5548834  0.57956527 0.58590081]\tMean:  0.5734758824701786\n",
      "LOG_LOSS \tScores:  [0.5121062  0.50912559 0.51201267 0.51003576 0.50909983]\tMean:  0.5104760119423027\n",
      "-----------------------\n",
      "n_neighbors:  13\n",
      "Imputing...\n",
      "Dropping product code...\n",
      "OHE...\n",
      "-------------\n",
      "{'fit_time': array([0.18822074, 0.21566844, 0.18731523, 0.1955986 , 0.13083196]), 'score_time': array([0.01512098, 0.01650906, 0.01539159, 0.0112431 , 0.00969672]), 'test_roc_auc': array([0.57758962, 0.58824313, 0.55570267, 0.5929148 , 0.58589893]), 'test_neg_log_loss': array([-0.5099821 , -0.50880296, -0.51189085, -0.50871374, -0.50909979])}\n",
      "-------------\n",
      "METRICS: \n",
      "ROC_AUC \tScores:  [0.57758962 0.58824313 0.55570267 0.5929148  0.58589893]\tMean:  0.5800698305505234\n",
      "LOG_LOSS \tScores:  [0.5099821  0.50880296 0.51189085 0.50871374 0.50909979]\tMean:  0.50969788694734\n",
      "-----------------------\n",
      "n_neighbors:  14\n",
      "Imputing...\n",
      "Dropping product code...\n",
      "OHE...\n",
      "-------------\n",
      "{'fit_time': array([0.18533826, 0.191432  , 0.19481778, 0.22210026, 0.14334083]), 'score_time': array([0.0186975 , 0.0148499 , 0.01171017, 0.0102458 , 0.01176333]), 'test_roc_auc': array([0.57958279, 0.596577  , 0.57415659, 0.59620622, 0.58604239]), 'test_neg_log_loss': array([-0.50978777, -0.50659523, -0.50936339, -0.50829861, -0.50907626])}\n",
      "-------------\n",
      "METRICS: \n",
      "ROC_AUC \tScores:  [0.57958279 0.596577   0.57415659 0.59620622 0.58604239]\tMean:  0.5865129989735045\n",
      "LOG_LOSS \tScores:  [0.50978777 0.50659523 0.50936339 0.50829861 0.50907626]\tMean:  0.5086242529148178\n",
      "-----------------------\n",
      "n_neighbors:  15\n",
      "Imputing...\n",
      "Dropping product code...\n",
      "OHE...\n",
      "-------------\n",
      "{'fit_time': array([0.20357394, 0.19545078, 0.19234705, 0.20142841, 0.12711406]), 'score_time': array([0.01589608, 0.01591563, 0.01489258, 0.01073194, 0.01054621]), 'test_roc_auc': array([0.57958279, 0.59657474, 0.57415734, 0.59620434, 0.58604277]), 'test_neg_log_loss': array([-0.50978769, -0.50659523, -0.50936334, -0.50829851, -0.50907628])}\n",
      "-------------\n",
      "METRICS: \n",
      "ROC_AUC \tScores:  [0.57958279 0.59657474 0.57415734 0.59620434 0.58604277]\tMean:  0.586512395049098\n",
      "LOG_LOSS \tScores:  [0.50978769 0.50659523 0.50936334 0.50829851 0.50907628]\tMean:  0.5086242092574002\n",
      "-----------------------\n",
      "n_neighbors:  16\n",
      "Imputing...\n",
      "Dropping product code...\n",
      "OHE...\n",
      "-------------\n",
      "{'fit_time': array([0.19458032, 0.20231342, 0.20967269, 0.20179343, 0.14303756]), 'score_time': array([0.01527739, 0.014853  , 0.01203656, 0.01572871, 0.01020908]), 'test_roc_auc': array([0.57958241, 0.59657813, 0.57415772, 0.59620547, 0.58604315]), 'test_neg_log_loss': array([-0.50978767, -0.50659536, -0.50936333, -0.50829843, -0.50907625])}\n",
      "-------------\n",
      "METRICS: \n",
      "ROC_AUC \tScores:  [0.57958241 0.59657813 0.57415772 0.59620547 0.58604315]\tMean:  0.5865133764683014\n",
      "LOG_LOSS \tScores:  [0.50978767 0.50659536 0.50936333 0.50829843 0.50907625]\tMean:  0.5086242091238572\n",
      "-----------------------\n",
      "n_neighbors:  17\n",
      "Imputing...\n",
      "Dropping product code...\n",
      "OHE...\n",
      "-------------\n",
      "{'fit_time': array([0.20040345, 0.20132256, 0.20653963, 0.21210432, 0.1089375 ]), 'score_time': array([0.01481342, 0.01600766, 0.01562166, 0.01157188, 0.0099926 ]), 'test_roc_auc': array([0.57958241, 0.59657436, 0.57415659, 0.59620509, 0.58604239]), 'test_neg_log_loss': array([-0.50978767, -0.50659521, -0.50936333, -0.50829847, -0.50907626])}\n",
      "-------------\n",
      "METRICS: \n",
      "ROC_AUC \tScores:  [0.57958241 0.59657436 0.57415659 0.59620509 0.58604239]\tMean:  0.5865121685714395\n",
      "LOG_LOSS \tScores:  [0.50978767 0.50659521 0.50936333 0.50829847 0.50907626]\tMean:  0.5086241874312044\n",
      "-----------------------\n",
      "n_neighbors:  18\n",
      "Imputing...\n",
      "Dropping product code...\n",
      "OHE...\n",
      "-------------\n",
      "{'fit_time': array([0.17339301, 0.17333817, 0.17356443, 0.18104506, 0.10706186]), 'score_time': array([0.0153296 , 0.01518106, 0.01501751, 0.01006269, 0.00988412]), 'test_roc_auc': array([0.57958392, 0.59657549, 0.57459907, 0.59605219, 0.58470967]), 'test_neg_log_loss': array([-0.50978765, -0.50659534, -0.50934259, -0.5082357 , -0.50930314])}\n",
      "-------------\n",
      "METRICS: \n",
      "ROC_AUC \tScores:  [0.57958392 0.59657549 0.57459907 0.59605219 0.58470967]\tMean:  0.5863040667868569\n",
      "LOG_LOSS \tScores:  [0.50978765 0.50659534 0.50934259 0.5082357  0.50930314]\tMean:  0.5086528848664286\n",
      "-----------------------\n",
      "n_neighbors:  19\n",
      "Imputing...\n",
      "Dropping product code...\n",
      "OHE...\n",
      "-------------\n",
      "{'fit_time': array([0.17407203, 0.17993927, 0.19076896, 0.19245076, 0.11355329]), 'score_time': array([0.01547933, 0.0160048 , 0.0149312 , 0.01236129, 0.01008892]), 'test_roc_auc': array([0.57958354, 0.59657662, 0.5746002 , 0.59605143, 0.58471042]), 'test_neg_log_loss': array([-0.50978766, -0.50659529, -0.50934258, -0.50823563, -0.50930319])}\n",
      "-------------\n",
      "METRICS: \n",
      "ROC_AUC \tScores:  [0.57958354 0.59657662 0.5746002  0.59605143 0.58471042]\tMean:  0.5863044442816537\n",
      "LOG_LOSS \tScores:  [0.50978766 0.50659529 0.50934258 0.50823563 0.50930319]\tMean:  0.5086528690504801\n",
      "-----------------------\n",
      "n_neighbors:  20\n",
      "Imputing...\n",
      "Dropping product code...\n",
      "OHE...\n",
      "-------------\n",
      "{'fit_time': array([0.10271335, 0.09825134, 0.10437489, 0.08987188, 0.06115866]), 'score_time': array([0.02505565, 0.01861906, 0.01710248, 0.01711154, 0.01096416]), 'test_roc_auc': array([0.57958241, 0.59657474, 0.57459869, 0.5960537 , 0.58470929]), 'test_neg_log_loss': array([-0.50978768, -0.50659552, -0.5093426 , -0.50823569, -0.5093032 ])}\n",
      "-------------\n",
      "METRICS: \n",
      "ROC_AUC \tScores:  [0.57958241 0.59657474 0.57459869 0.5960537  0.58470929]\tMean:  0.5863037648967268\n",
      "LOG_LOSS \tScores:  [0.50978768 0.50659552 0.5093426  0.50823569 0.5093032 ]\tMean:  0.5086529370974973\n",
      "-----------------------\n",
      "n_neighbors:  21\n",
      "Imputing...\n",
      "Dropping product code...\n",
      "OHE...\n",
      "-------------\n",
      "{'fit_time': array([0.09216022, 0.0901196 , 0.11664844, 0.11925745, 0.08451843]), 'score_time': array([0.02191615, 0.0161972 , 0.01741982, 0.01507258, 0.01344943]), 'test_roc_auc': array([0.57958203, 0.59657549, 0.57459945, 0.59605219, 0.58470891]), 'test_neg_log_loss': array([-0.50978762, -0.50659552, -0.50934263, -0.50823563, -0.50930316])}\n",
      "-------------\n",
      "METRICS: \n",
      "ROC_AUC \tScores:  [0.57958203 0.59657549 0.57459945 0.59605219 0.58470891]\tMean:  0.5863036138555643\n",
      "LOG_LOSS \tScores:  [0.50978762 0.50659552 0.50934263 0.50823563 0.50930316]\tMean:  0.5086529103773716\n",
      "-----------------------\n",
      "n_neighbors:  22\n",
      "Imputing...\n",
      "Dropping product code...\n",
      "OHE...\n",
      "-------------\n",
      "{'fit_time': array([0.08840322, 0.09742999, 0.0842452 , 0.09855437, 0.077003  ]), 'score_time': array([0.01629019, 0.01573229, 0.0153327 , 0.01090741, 0.01091123]), 'test_roc_auc': array([0.57958279, 0.59657474, 0.57459907, 0.59605256, 0.58470967]), 'test_neg_log_loss': array([-0.50978769, -0.50659519, -0.50934264, -0.50823567, -0.50930321])}\n",
      "-------------\n",
      "METRICS: \n",
      "ROC_AUC \tScores:  [0.57958279 0.59657474 0.57459907 0.59605256 0.58470967]\tMean:  0.5863037648727024\n",
      "LOG_LOSS \tScores:  [0.50978769 0.50659519 0.50934264 0.50823567 0.50930321]\tMean:  0.5086528808075891\n",
      "-----------------------\n",
      "n_neighbors:  23\n",
      "Imputing...\n",
      "Dropping product code...\n",
      "OHE...\n",
      "-------------\n",
      "{'fit_time': array([0.09618711, 0.09526324, 0.09315872, 0.10636067, 0.06374645]), 'score_time': array([0.01798058, 0.01553512, 0.0158906 , 0.01220417, 0.01067972]), 'test_roc_auc': array([0.57958279, 0.59657587, 0.57459869, 0.59605445, 0.58470929]), 'test_neg_log_loss': array([-0.50978764, -0.50659526, -0.50934266, -0.50823567, -0.50930312])}\n",
      "-------------\n",
      "METRICS: \n",
      "ROC_AUC \tScores:  [0.57958279 0.59657587 0.57459869 0.59605445 0.58470929]\tMean:  0.5863042178520439\n",
      "LOG_LOSS \tScores:  [0.50978764 0.50659526 0.50934266 0.50823567 0.50930312]\tMean:  0.508652870323274\n",
      "-----------------------\n",
      "n_neighbors:  24\n",
      "Imputing...\n",
      "Dropping product code...\n",
      "OHE...\n",
      "-------------\n",
      "{'fit_time': array([0.09615445, 0.09284234, 0.10996962, 0.1119678 , 0.07807684]), 'score_time': array([0.0163815 , 0.01636052, 0.01211905, 0.01518583, 0.0110321 ]), 'test_roc_auc': array([0.57958279, 0.59657587, 0.57459756, 0.59604917, 0.58470929]), 'test_neg_log_loss': array([-0.50978771, -0.50659547, -0.50934259, -0.50823567, -0.50930311])}\n",
      "-------------\n",
      "METRICS: \n",
      "ROC_AUC \tScores:  [0.57958279 0.59657587 0.57459756 0.59604917 0.58470929]\tMean:  0.5863029342063694\n",
      "LOG_LOSS \tScores:  [0.50978771 0.50659547 0.50934259 0.50823567 0.50930311]\tMean:  0.5086529088757384\n",
      "-----------------------\n"
     ]
    }
   ],
   "source": [
    "roc_scores = []\n",
    "ns = range(2, 25)\n",
    "for n in range(2, 25):\n",
    "    print(\"n_neighbors: \", n)\n",
    "    model_PCA = make_pipeline(StandardScaler(), PCA(n_components=n), log_reg_clf)    \n",
    "    model, roc = train_model(model_PCA, X_train, X_sub, y_train, KNNImputer(n_neighbors=9), per_product_code=True)\n",
    "    roc_scores.append(roc.mean())\n",
    "    print(\"-----------------------\")"
   ]
  },
  {
   "cell_type": "code",
   "execution_count": 28,
   "id": "f4c478d1",
   "metadata": {
    "execution": {
     "iopub.execute_input": "2022-08-21T10:20:10.136491Z",
     "iopub.status.busy": "2022-08-21T10:20:10.134881Z",
     "iopub.status.idle": "2022-08-21T10:20:10.355429Z",
     "shell.execute_reply": "2022-08-21T10:20:10.354531Z"
    },
    "papermill": {
     "duration": 0.251647,
     "end_time": "2022-08-21T10:20:10.357959",
     "exception": false,
     "start_time": "2022-08-21T10:20:10.106312",
     "status": "completed"
    },
    "tags": []
   },
   "outputs": [
    {
     "data": {
      "image/png": "[encoded data removed]",
      "text/plain": [
       "<Figure size 1152x648 with 1 Axes>"
      ]
     },
     "metadata": {
      "needs_background": "light"
     },
     "output_type": "display_data"
    }
   ],
   "source": [
    "plt.figure(figsize=(16,9))\n",
    "plt.plot(ns, roc_scores)\n",
    "plt.grid()\n",
    "plt.show()"
   ]
  }
 ],
 "metadata": {
  "kernelspec": {
   "display_name": "Python 3",
   "language": "python",
   "name": "python3"
  },
  "language_info": {
   "codemirror_mode": {
    "name": "ipython",
    "version": 3
   },
   "file_extension": ".py",
   "mimetype": "text/x-python",
   "name": "python",
   "nbconvert_exporter": "python",
   "pygments_lexer": "ipython3",
   "version": "3.7.12"
  },
  "papermill": {
   "default_parameters": {},
   "duration": 1019.800195,
   "end_time": "2022-08-21T10:20:13.001778",
   "environment_variables": {},
   "exception": null,
   "input_path": "__notebook__.ipynb",
   "output_path": "__notebook__.ipynb",
   "parameters": {},
   "start_time": "2022-08-21T10:03:13.201583",
   "version": "2.3.4"
  }
 },
 "nbformat": 4,
 "nbformat_minor": 5
}

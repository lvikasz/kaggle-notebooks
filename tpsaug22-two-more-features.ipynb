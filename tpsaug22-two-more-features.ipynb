{
 "cells": [
  {
   "cell_type": "code",
   "execution_count": 1,
   "id": "e8f2f061",
   "metadata": {
    "_cell_guid": "b1076dfc-b9ad-4769-8c92-a6c4dae69d19",
    "_uuid": "8f2839f25d086af736a60e9eeb907d3b93b6e0e5",
    "execution": {
     "iopub.execute_input": "2022-08-21T10:04:10.930705Z",
     "iopub.status.busy": "2022-08-21T10:04:10.929823Z",
     "iopub.status.idle": "2022-08-21T10:04:12.745015Z",
     "shell.execute_reply": "2022-08-21T10:04:12.743793Z"
    },
    "papermill": {
     "duration": 1.826488,
     "end_time": "2022-08-21T10:04:12.747840",
     "exception": false,
     "start_time": "2022-08-21T10:04:10.921352",
     "status": "completed"
    },
    "tags": []
   },
   "outputs": [],
   "source": [
    "from sklearn.preprocessing import OneHotEncoder, StandardScaler\n",
    "from sklearn.model_selection import train_test_split, GridSearchCV\n",
    "from sklearn.pipeline import make_pipeline\n",
    "from sklearn.model_selection import cross_validate, KFold\n",
    "from sklearn.compose import make_column_transformer\n",
    "from sklearn.impute import  KNNImputer\n",
    "from sklearn.decomposition import PCA\n",
    "from imblearn.over_sampling import SMOTE\n",
    "from sklearn.ensemble import VotingClassifier\n",
    "\n",
    "from sklearn.linear_model import LogisticRegression, PoissonRegressor\n",
    "\n",
    "\n",
    "import pandas as pd\n",
    "import numpy as np\n",
    "from matplotlib import pyplot as plt\n",
    "import seaborn as sns\n",
    "\n",
    "import warnings\n",
    "warnings.filterwarnings(\"ignore\")\n",
    "\n",
    "RANDOM_STATE = 1"
   ]
  },
  {
   "cell_type": "code",
   "execution_count": 2,
   "id": "0c5a6ba6",
   "metadata": {
    "execution": {
     "iopub.execute_input": "2022-08-21T10:04:12.759356Z",
     "iopub.status.busy": "2022-08-21T10:04:12.758914Z",
     "iopub.status.idle": "2022-08-21T10:04:13.084190Z",
     "shell.execute_reply": "2022-08-21T10:04:13.082871Z"
    },
    "papermill": {
     "duration": 0.33457,
     "end_time": "2022-08-21T10:04:13.087313",
     "exception": false,
     "start_time": "2022-08-21T10:04:12.752743",
     "status": "completed"
    },
    "tags": []
   },
   "outputs": [],
   "source": [
    "train = pd.read_csv(\"../input/tabular-playground-series-aug-2022/train.csv\", index_col='id')\n",
    "test = pd.read_csv(\"../input/tabular-playground-series-aug-2022/test.csv\", index_col='id')\n",
    "\n",
    "X = train.drop(columns=['failure'])\n",
    "y = train['failure']"
   ]
  },
  {
   "cell_type": "code",
   "execution_count": 3,
   "id": "4f50c6dd",
   "metadata": {
    "execution": {
     "iopub.execute_input": "2022-08-21T10:04:13.099594Z",
     "iopub.status.busy": "2022-08-21T10:04:13.099001Z",
     "iopub.status.idle": "2022-08-21T10:04:13.109102Z",
     "shell.execute_reply": "2022-08-21T10:04:13.107811Z"
    },
    "papermill": {
     "duration": 0.019913,
     "end_time": "2022-08-21T10:04:13.112118",
     "exception": false,
     "start_time": "2022-08-21T10:04:13.092205",
     "status": "completed"
    },
    "tags": []
   },
   "outputs": [],
   "source": [
    "# https://www.kaggle.com/competitions/tabular-playground-series-aug-2022/discussion/342319\n",
    "X['m_3_missing'] = X.measurement_3.isna()\n",
    "X['m_5_missing'] = X.measurement_5.isna()\n",
    "\n",
    "test['m_3_missing'] = test.measurement_3.isna()\n",
    "test['m_5_missing'] = test.measurement_5.isna()"
   ]
  },
  {
   "cell_type": "code",
   "execution_count": 4,
   "id": "79ccbced",
   "metadata": {
    "execution": {
     "iopub.execute_input": "2022-08-21T10:04:13.124110Z",
     "iopub.status.busy": "2022-08-21T10:04:13.123605Z",
     "iopub.status.idle": "2022-08-21T10:04:13.131896Z",
     "shell.execute_reply": "2022-08-21T10:04:13.130715Z"
    },
    "papermill": {
     "duration": 0.017091,
     "end_time": "2022-08-21T10:04:13.134344",
     "exception": false,
     "start_time": "2022-08-21T10:04:13.117253",
     "status": "completed"
    },
    "tags": []
   },
   "outputs": [],
   "source": [
    "int_cols = [f for f in train.columns if train[f].dtype == int and f != 'failure']\n",
    "float_cols = [f for f in train.columns if train[f].dtype == float]\n",
    "categorical_cols = ['attribute_0', 'attribute_1']"
   ]
  },
  {
   "cell_type": "code",
   "execution_count": 5,
   "id": "c3e922a8",
   "metadata": {
    "execution": {
     "iopub.execute_input": "2022-08-21T10:04:13.147603Z",
     "iopub.status.busy": "2022-08-21T10:04:13.147131Z",
     "iopub.status.idle": "2022-08-21T10:04:13.164320Z",
     "shell.execute_reply": "2022-08-21T10:04:13.163131Z"
    },
    "papermill": {
     "duration": 0.027886,
     "end_time": "2022-08-21T10:04:13.167022",
     "exception": false,
     "start_time": "2022-08-21T10:04:13.139136",
     "status": "completed"
    },
    "tags": []
   },
   "outputs": [],
   "source": [
    "def ohe(X_train, X_test, columns):\n",
    "    transformer = make_column_transformer(\n",
    "        (OneHotEncoder(handle_unknown='ignore', \n",
    "                       drop='first', \n",
    "                       categories=[['material_5', 'material_7'],\n",
    "                                   ['material_5', 'material_6', 'material_8']]), columns),\n",
    "        remainder='passthrough')\n",
    "\n",
    "    X_train = pd.DataFrame(\n",
    "        transformer.fit_transform(X_train), \n",
    "        columns=transformer.get_feature_names()\n",
    "    )\n",
    "    X_test = pd.DataFrame(\n",
    "        transformer.transform(X_test),\n",
    "        columns=transformer.get_feature_names()\n",
    "    )\n",
    "    \n",
    "    return X_train, X_test\n",
    "\n",
    "def impute(X, imputer):\n",
    "    # source: https://www.kaggle.com/code/purist1024/per-product-code-imputation\n",
    "    \n",
    "    def transform(X):\n",
    "        return pd.DataFrame(imputer.fit_transform(X), index=X.index, columns=X.columns)\n",
    "\n",
    "    cats = [\"product_code\", \"attribute_0\", \"attribute_1\", \"attribute_2\", \"attribute_3\"]\n",
    "    ints = [\"measurement_0\", \"measurement_1\", \"measurement_2\"]\n",
    "    right = pd.concat([transform(gdf.drop(columns=cats)) for g, gdf in X.groupby(\"product_code\")],\n",
    "                      axis=\"rows\")\n",
    "    right[ints] = right[ints].round().astype(int)\n",
    "    return pd.concat([X[cats], right], axis=\"columns\").reindex(columns=X.columns)\n",
    "\n",
    "def oversample(X_train, y_train, oversampler):\n",
    "    return oversampler.fit_resample(X_train, y_train)\n",
    "\n",
    "def prepare_data(X_train, X_test, y_train, *, imputer, oversampler):\n",
    "    if imputer != None:\n",
    "        print(\"Imputing...\")\n",
    "        X_train = impute(X_train, imputer)\n",
    "        X_test = impute(X_test, imputer)\n",
    "    \n",
    "    print(\"Dropping product code...\")\n",
    "    X_train = X_train.drop(columns=['product_code'], axis=1)\n",
    "    X_test = X_test.drop(columns=['product_code'], axis=1)\n",
    "    \n",
    "    print(\"OHE...\")\n",
    "    X_train, X_test = ohe(X_train, X_test, categorical_cols)\n",
    "\n",
    "    if oversampler != None:\n",
    "        print(\"Oversampling...\")\n",
    "        X_train, y_train = oversampler(X_train, y_train, oversampler)\n",
    "    \n",
    "    return X_train, X_test, y_train"
   ]
  },
  {
   "cell_type": "code",
   "execution_count": 6,
   "id": "9fbddc66",
   "metadata": {
    "execution": {
     "iopub.execute_input": "2022-08-21T10:04:13.179796Z",
     "iopub.status.busy": "2022-08-21T10:04:13.178512Z",
     "iopub.status.idle": "2022-08-21T10:04:25.693633Z",
     "shell.execute_reply": "2022-08-21T10:04:25.692390Z"
    },
    "papermill": {
     "duration": 12.524369,
     "end_time": "2022-08-21T10:04:25.696500",
     "exception": false,
     "start_time": "2022-08-21T10:04:13.172131",
     "status": "completed"
    },
    "tags": []
   },
   "outputs": [
    {
     "name": "stdout",
     "output_type": "stream",
     "text": [
      "Imputing...\n",
      "Dropping product code...\n",
      "OHE...\n",
      "Oversampling...\n"
     ]
    }
   ],
   "source": [
    "imputer = KNNImputer(n_neighbors=3)\n",
    "oversampler = SMOTE(random_state=RANDOM_STATE)\n",
    "\n",
    "X, test, y = prepare_data(X, test, y, imputer=imputer, oversampler=None)\n",
    "\n",
    "X['m_5_3_mult_null'] = X['m_3_missing']*X['m_5_missing']\n",
    "X['measurement_3_5'] = X['measurement_3']*X['measurement_5']\n",
    "\n",
    "test['m_5_3_mult_null'] = test['m_3_missing']*test['m_5_missing']\n",
    "test['measurement_3_5'] = test['measurement_3']*test['measurement_5']\n",
    "\n",
    "print(\"Oversampling...\")\n",
    "X_oversampled, y_oversampled = oversampler.fit_resample(X, y)"
   ]
  },
  {
   "cell_type": "code",
   "execution_count": 7,
   "id": "05bda2a2",
   "metadata": {
    "execution": {
     "iopub.execute_input": "2022-08-21T10:04:25.709138Z",
     "iopub.status.busy": "2022-08-21T10:04:25.708399Z",
     "iopub.status.idle": "2022-08-21T10:04:25.831083Z",
     "shell.execute_reply": "2022-08-21T10:04:25.829939Z"
    },
    "papermill": {
     "duration": 0.131922,
     "end_time": "2022-08-21T10:04:25.833773",
     "exception": false,
     "start_time": "2022-08-21T10:04:25.701851",
     "status": "completed"
    },
    "tags": []
   },
   "outputs": [
    {
     "data": {
      "text/html": [
       "<div>\n",
       "<style scoped>\n",
       "    .dataframe tbody tr th:only-of-type {\n",
       "        vertical-align: middle;\n",
       "    }\n",
       "\n",
       "    .dataframe tbody tr th {\n",
       "        vertical-align: top;\n",
       "    }\n",
       "\n",
       "    .dataframe thead th {\n",
       "        text-align: right;\n",
       "    }\n",
       "</style>\n",
       "<table border=\"1\" class=\"dataframe\">\n",
       "  <thead>\n",
       "    <tr style=\"text-align: right;\">\n",
       "      <th></th>\n",
       "      <th>onehotencoder__x0_material_7</th>\n",
       "      <th>onehotencoder__x1_material_6</th>\n",
       "      <th>onehotencoder__x1_material_8</th>\n",
       "      <th>loading</th>\n",
       "      <th>attribute_2</th>\n",
       "      <th>attribute_3</th>\n",
       "      <th>measurement_0</th>\n",
       "      <th>measurement_1</th>\n",
       "      <th>measurement_2</th>\n",
       "      <th>measurement_3</th>\n",
       "      <th>...</th>\n",
       "      <th>measurement_12</th>\n",
       "      <th>measurement_13</th>\n",
       "      <th>measurement_14</th>\n",
       "      <th>measurement_15</th>\n",
       "      <th>measurement_16</th>\n",
       "      <th>measurement_17</th>\n",
       "      <th>m_3_missing</th>\n",
       "      <th>m_5_missing</th>\n",
       "      <th>m_5_3_mult_null</th>\n",
       "      <th>measurement_3_5</th>\n",
       "    </tr>\n",
       "  </thead>\n",
       "  <tbody>\n",
       "    <tr>\n",
       "      <th>count</th>\n",
       "      <td>26570.000000</td>\n",
       "      <td>26570.000000</td>\n",
       "      <td>26570.000000</td>\n",
       "      <td>26570.000000</td>\n",
       "      <td>26570.000000</td>\n",
       "      <td>26570.000000</td>\n",
       "      <td>26570.000000</td>\n",
       "      <td>26570.000000</td>\n",
       "      <td>26570.000000</td>\n",
       "      <td>26570.000000</td>\n",
       "      <td>...</td>\n",
       "      <td>26570.000000</td>\n",
       "      <td>26570.000000</td>\n",
       "      <td>26570.000000</td>\n",
       "      <td>26570.000000</td>\n",
       "      <td>26570.000000</td>\n",
       "      <td>26570.000000</td>\n",
       "      <td>26570.000000</td>\n",
       "      <td>26570.000000</td>\n",
       "      <td>26570.000000</td>\n",
       "      <td>26570.000000</td>\n",
       "    </tr>\n",
       "    <tr>\n",
       "      <th>mean</th>\n",
       "      <td>0.802409</td>\n",
       "      <td>0.201091</td>\n",
       "      <td>0.408920</td>\n",
       "      <td>127.825788</td>\n",
       "      <td>6.754046</td>\n",
       "      <td>7.240459</td>\n",
       "      <td>7.415883</td>\n",
       "      <td>8.232518</td>\n",
       "      <td>6.256568</td>\n",
       "      <td>17.790553</td>\n",
       "      <td>...</td>\n",
       "      <td>11.704226</td>\n",
       "      <td>15.648266</td>\n",
       "      <td>16.042048</td>\n",
       "      <td>14.999500</td>\n",
       "      <td>16.458011</td>\n",
       "      <td>701.532666</td>\n",
       "      <td>0.014339</td>\n",
       "      <td>0.025442</td>\n",
       "      <td>0.000414</td>\n",
       "      <td>304.722203</td>\n",
       "    </tr>\n",
       "    <tr>\n",
       "      <th>std</th>\n",
       "      <td>0.398190</td>\n",
       "      <td>0.400824</td>\n",
       "      <td>0.491644</td>\n",
       "      <td>38.902440</td>\n",
       "      <td>1.471852</td>\n",
       "      <td>1.456493</td>\n",
       "      <td>4.116690</td>\n",
       "      <td>4.199401</td>\n",
       "      <td>3.309109</td>\n",
       "      <td>0.996526</td>\n",
       "      <td>...</td>\n",
       "      <td>1.459269</td>\n",
       "      <td>1.129384</td>\n",
       "      <td>1.458258</td>\n",
       "      <td>1.510824</td>\n",
       "      <td>1.661219</td>\n",
       "      <td>119.617351</td>\n",
       "      <td>0.118888</td>\n",
       "      <td>0.157467</td>\n",
       "      <td>0.020343</td>\n",
       "      <td>24.639553</td>\n",
       "    </tr>\n",
       "    <tr>\n",
       "      <th>min</th>\n",
       "      <td>0.000000</td>\n",
       "      <td>0.000000</td>\n",
       "      <td>0.000000</td>\n",
       "      <td>33.160000</td>\n",
       "      <td>5.000000</td>\n",
       "      <td>5.000000</td>\n",
       "      <td>0.000000</td>\n",
       "      <td>0.000000</td>\n",
       "      <td>0.000000</td>\n",
       "      <td>13.968000</td>\n",
       "      <td>...</td>\n",
       "      <td>5.167000</td>\n",
       "      <td>10.890000</td>\n",
       "      <td>9.140000</td>\n",
       "      <td>9.104000</td>\n",
       "      <td>9.701000</td>\n",
       "      <td>196.787000</td>\n",
       "      <td>0.000000</td>\n",
       "      <td>0.000000</td>\n",
       "      <td>0.000000</td>\n",
       "      <td>217.050246</td>\n",
       "    </tr>\n",
       "    <tr>\n",
       "      <th>25%</th>\n",
       "      <td>1.000000</td>\n",
       "      <td>0.000000</td>\n",
       "      <td>0.000000</td>\n",
       "      <td>100.122500</td>\n",
       "      <td>6.000000</td>\n",
       "      <td>6.000000</td>\n",
       "      <td>4.000000</td>\n",
       "      <td>5.000000</td>\n",
       "      <td>4.000000</td>\n",
       "      <td>17.121000</td>\n",
       "      <td>...</td>\n",
       "      <td>10.742000</td>\n",
       "      <td>14.911000</td>\n",
       "      <td>15.091000</td>\n",
       "      <td>13.997000</td>\n",
       "      <td>15.322000</td>\n",
       "      <td>623.794250</td>\n",
       "      <td>0.000000</td>\n",
       "      <td>0.000000</td>\n",
       "      <td>0.000000</td>\n",
       "      <td>287.842455</td>\n",
       "    </tr>\n",
       "    <tr>\n",
       "      <th>50%</th>\n",
       "      <td>1.000000</td>\n",
       "      <td>0.000000</td>\n",
       "      <td>0.000000</td>\n",
       "      <td>122.450000</td>\n",
       "      <td>6.000000</td>\n",
       "      <td>8.000000</td>\n",
       "      <td>7.000000</td>\n",
       "      <td>8.000000</td>\n",
       "      <td>6.000000</td>\n",
       "      <td>17.784000</td>\n",
       "      <td>...</td>\n",
       "      <td>11.717000</td>\n",
       "      <td>15.624000</td>\n",
       "      <td>16.028000</td>\n",
       "      <td>14.978000</td>\n",
       "      <td>16.438333</td>\n",
       "      <td>701.409167</td>\n",
       "      <td>0.000000</td>\n",
       "      <td>0.000000</td>\n",
       "      <td>0.000000</td>\n",
       "      <td>304.206700</td>\n",
       "    </tr>\n",
       "    <tr>\n",
       "      <th>75%</th>\n",
       "      <td>1.000000</td>\n",
       "      <td>0.000000</td>\n",
       "      <td>1.000000</td>\n",
       "      <td>149.020000</td>\n",
       "      <td>8.000000</td>\n",
       "      <td>8.000000</td>\n",
       "      <td>10.000000</td>\n",
       "      <td>11.000000</td>\n",
       "      <td>8.000000</td>\n",
       "      <td>18.461917</td>\n",
       "      <td>...</td>\n",
       "      <td>12.685000</td>\n",
       "      <td>16.337000</td>\n",
       "      <td>17.032000</td>\n",
       "      <td>15.971000</td>\n",
       "      <td>17.565000</td>\n",
       "      <td>779.625500</td>\n",
       "      <td>0.000000</td>\n",
       "      <td>0.000000</td>\n",
       "      <td>0.000000</td>\n",
       "      <td>320.981200</td>\n",
       "    </tr>\n",
       "    <tr>\n",
       "      <th>max</th>\n",
       "      <td>1.000000</td>\n",
       "      <td>1.000000</td>\n",
       "      <td>1.000000</td>\n",
       "      <td>385.860000</td>\n",
       "      <td>9.000000</td>\n",
       "      <td>9.000000</td>\n",
       "      <td>29.000000</td>\n",
       "      <td>29.000000</td>\n",
       "      <td>24.000000</td>\n",
       "      <td>21.499000</td>\n",
       "      <td>...</td>\n",
       "      <td>17.663000</td>\n",
       "      <td>22.713000</td>\n",
       "      <td>22.303000</td>\n",
       "      <td>21.626000</td>\n",
       "      <td>24.094000</td>\n",
       "      <td>1312.794000</td>\n",
       "      <td>1.000000</td>\n",
       "      <td>1.000000</td>\n",
       "      <td>1.000000</td>\n",
       "      <td>403.084284</td>\n",
       "    </tr>\n",
       "  </tbody>\n",
       "</table>\n",
       "<p>8 rows × 28 columns</p>\n",
       "</div>"
      ],
      "text/plain": [
       "       onehotencoder__x0_material_7  onehotencoder__x1_material_6  \\\n",
       "count                  26570.000000                  26570.000000   \n",
       "mean                       0.802409                      0.201091   \n",
       "std                        0.398190                      0.400824   \n",
       "min                        0.000000                      0.000000   \n",
       "25%                        1.000000                      0.000000   \n",
       "50%                        1.000000                      0.000000   \n",
       "75%                        1.000000                      0.000000   \n",
       "max                        1.000000                      1.000000   \n",
       "\n",
       "       onehotencoder__x1_material_8       loading   attribute_2   attribute_3  \\\n",
       "count                  26570.000000  26570.000000  26570.000000  26570.000000   \n",
       "mean                       0.408920    127.825788      6.754046      7.240459   \n",
       "std                        0.491644     38.902440      1.471852      1.456493   \n",
       "min                        0.000000     33.160000      5.000000      5.000000   \n",
       "25%                        0.000000    100.122500      6.000000      6.000000   \n",
       "50%                        0.000000    122.450000      6.000000      8.000000   \n",
       "75%                        1.000000    149.020000      8.000000      8.000000   \n",
       "max                        1.000000    385.860000      9.000000      9.000000   \n",
       "\n",
       "       measurement_0  measurement_1  measurement_2  measurement_3  ...  \\\n",
       "count   26570.000000   26570.000000   26570.000000   26570.000000  ...   \n",
       "mean        7.415883       8.232518       6.256568      17.790553  ...   \n",
       "std         4.116690       4.199401       3.309109       0.996526  ...   \n",
       "min         0.000000       0.000000       0.000000      13.968000  ...   \n",
       "25%         4.000000       5.000000       4.000000      17.121000  ...   \n",
       "50%         7.000000       8.000000       6.000000      17.784000  ...   \n",
       "75%        10.000000      11.000000       8.000000      18.461917  ...   \n",
       "max        29.000000      29.000000      24.000000      21.499000  ...   \n",
       "\n",
       "       measurement_12  measurement_13  measurement_14  measurement_15  \\\n",
       "count    26570.000000    26570.000000    26570.000000    26570.000000   \n",
       "mean        11.704226       15.648266       16.042048       14.999500   \n",
       "std          1.459269        1.129384        1.458258        1.510824   \n",
       "min          5.167000       10.890000        9.140000        9.104000   \n",
       "25%         10.742000       14.911000       15.091000       13.997000   \n",
       "50%         11.717000       15.624000       16.028000       14.978000   \n",
       "75%         12.685000       16.337000       17.032000       15.971000   \n",
       "max         17.663000       22.713000       22.303000       21.626000   \n",
       "\n",
       "       measurement_16  measurement_17   m_3_missing   m_5_missing  \\\n",
       "count    26570.000000    26570.000000  26570.000000  26570.000000   \n",
       "mean        16.458011      701.532666      0.014339      0.025442   \n",
       "std          1.661219      119.617351      0.118888      0.157467   \n",
       "min          9.701000      196.787000      0.000000      0.000000   \n",
       "25%         15.322000      623.794250      0.000000      0.000000   \n",
       "50%         16.438333      701.409167      0.000000      0.000000   \n",
       "75%         17.565000      779.625500      0.000000      0.000000   \n",
       "max         24.094000     1312.794000      1.000000      1.000000   \n",
       "\n",
       "       m_5_3_mult_null  measurement_3_5  \n",
       "count     26570.000000     26570.000000  \n",
       "mean          0.000414       304.722203  \n",
       "std           0.020343        24.639553  \n",
       "min           0.000000       217.050246  \n",
       "25%           0.000000       287.842455  \n",
       "50%           0.000000       304.206700  \n",
       "75%           0.000000       320.981200  \n",
       "max           1.000000       403.084284  \n",
       "\n",
       "[8 rows x 28 columns]"
      ]
     },
     "execution_count": 7,
     "metadata": {},
     "output_type": "execute_result"
    }
   ],
   "source": [
    "X.describe()"
   ]
  },
  {
   "cell_type": "code",
   "execution_count": 8,
   "id": "2dda5598",
   "metadata": {
    "execution": {
     "iopub.execute_input": "2022-08-21T10:04:25.846157Z",
     "iopub.status.busy": "2022-08-21T10:04:25.845776Z",
     "iopub.status.idle": "2022-08-21T10:04:25.902683Z",
     "shell.execute_reply": "2022-08-21T10:04:25.901374Z"
    },
    "papermill": {
     "duration": 0.066242,
     "end_time": "2022-08-21T10:04:25.905370",
     "exception": false,
     "start_time": "2022-08-21T10:04:25.839128",
     "status": "completed"
    },
    "tags": []
   },
   "outputs": [],
   "source": [
    "def scale_data(data):\n",
    "    scaler = StandardScaler()\n",
    "    data.loc[:] = scaler.fit_transform(data)\n",
    "    return data\n",
    "\n",
    "X = scale_data(X)\n",
    "X_oversampled = scale_data(X_oversampled)\n",
    "\n",
    "test = scale_data(test)"
   ]
  },
  {
   "cell_type": "code",
   "execution_count": 9,
   "id": "a50e6665",
   "metadata": {
    "execution": {
     "iopub.execute_input": "2022-08-21T10:04:25.917562Z",
     "iopub.status.busy": "2022-08-21T10:04:25.917158Z",
     "iopub.status.idle": "2022-08-21T10:04:25.928964Z",
     "shell.execute_reply": "2022-08-21T10:04:25.927614Z"
    },
    "papermill": {
     "duration": 0.020616,
     "end_time": "2022-08-21T10:04:25.931392",
     "exception": false,
     "start_time": "2022-08-21T10:04:25.910776",
     "status": "completed"
    },
    "tags": []
   },
   "outputs": [],
   "source": [
    "cols_to_drop = [\"onehotencoder__x0_material_7\", \"onehotencoder__x1_material_6\", \"onehotencoder__x1_material_8\", \"attribute_2\", \"attribute_3\"]\n",
    "X = X.drop(columns=cols_to_drop, axis=1)\n",
    "X_oversampled = X_oversampled.drop(columns=cols_to_drop, axis=1)\n",
    "test = test.drop(columns=cols_to_drop, axis=1)"
   ]
  },
  {
   "cell_type": "code",
   "execution_count": 10,
   "id": "f33867c7",
   "metadata": {
    "execution": {
     "iopub.execute_input": "2022-08-21T10:04:25.943754Z",
     "iopub.status.busy": "2022-08-21T10:04:25.943324Z",
     "iopub.status.idle": "2022-08-21T10:04:25.985420Z",
     "shell.execute_reply": "2022-08-21T10:04:25.984016Z"
    },
    "papermill": {
     "duration": 0.051358,
     "end_time": "2022-08-21T10:04:25.988078",
     "exception": false,
     "start_time": "2022-08-21T10:04:25.936720",
     "status": "completed"
    },
    "tags": []
   },
   "outputs": [],
   "source": [
    "X_train, X_test, y_train, y_test = train_test_split(X, y, test_size=0.2, random_state=RANDOM_STATE, stratify=y)\n",
    "X_train_oversampled, X_test_oversampled, y_train_oversampled, y_test_oversampled = train_test_split(X_oversampled, y_oversampled, test_size=0.2, random_state=RANDOM_STATE, stratify=y_oversampled)"
   ]
  },
  {
   "cell_type": "code",
   "execution_count": 11,
   "id": "d4eda3b2",
   "metadata": {
    "execution": {
     "iopub.execute_input": "2022-08-21T10:04:26.000361Z",
     "iopub.status.busy": "2022-08-21T10:04:25.999953Z",
     "iopub.status.idle": "2022-08-21T10:04:26.006110Z",
     "shell.execute_reply": "2022-08-21T10:04:26.004995Z"
    },
    "papermill": {
     "duration": 0.015082,
     "end_time": "2022-08-21T10:04:26.008516",
     "exception": false,
     "start_time": "2022-08-21T10:04:25.993434",
     "status": "completed"
    },
    "tags": []
   },
   "outputs": [],
   "source": [
    "parameters = {\n",
    "    'penalty' : ['l1','l2'], \n",
    "    'C'       : np.linspace(-1, 1, 10),\n",
    "    'solver'  : ['newton-cg', 'lbfgs', 'liblinear'],\n",
    "    'max_iter': [500 + 50*i for i in range(1, 3)]\n",
    "}"
   ]
  },
  {
   "cell_type": "code",
   "execution_count": 12,
   "id": "c225ca7e",
   "metadata": {
    "execution": {
     "iopub.execute_input": "2022-08-21T10:04:26.021272Z",
     "iopub.status.busy": "2022-08-21T10:04:26.020366Z",
     "iopub.status.idle": "2022-08-21T10:04:37.273286Z",
     "shell.execute_reply": "2022-08-21T10:04:37.271900Z"
    },
    "papermill": {
     "duration": 11.2622,
     "end_time": "2022-08-21T10:04:37.276176",
     "exception": false,
     "start_time": "2022-08-21T10:04:26.013976",
     "status": "completed"
    },
    "tags": []
   },
   "outputs": [
    {
     "data": {
      "text/plain": [
       "GridSearchCV(cv=5, estimator=LogisticRegression(), n_jobs=-1,\n",
       "             param_grid={'C': array([-1.        , -0.77777778, -0.55555556, -0.33333333, -0.11111111,\n",
       "        0.11111111,  0.33333333,  0.55555556,  0.77777778,  1.        ]),\n",
       "                         'max_iter': [550, 600], 'penalty': ['l1', 'l2'],\n",
       "                         'solver': ['newton-cg', 'lbfgs', 'liblinear']},\n",
       "             scoring='roc_auc')"
      ]
     },
     "execution_count": 12,
     "metadata": {},
     "output_type": "execute_result"
    }
   ],
   "source": [
    "model_logistic = LogisticRegression()\n",
    "\n",
    "model_logistic = GridSearchCV(model_logistic,\n",
    "                             parameters,\n",
    "                             cv=5,\n",
    "                             scoring='roc_auc',\n",
    "                             n_jobs=-1)\n",
    "model_logistic.fit(X_train, y_train)"
   ]
  },
  {
   "cell_type": "code",
   "execution_count": 13,
   "id": "cc075378",
   "metadata": {
    "execution": {
     "iopub.execute_input": "2022-08-21T10:04:37.289746Z",
     "iopub.status.busy": "2022-08-21T10:04:37.289242Z",
     "iopub.status.idle": "2022-08-21T10:04:37.296421Z",
     "shell.execute_reply": "2022-08-21T10:04:37.295119Z"
    },
    "papermill": {
     "duration": 0.017622,
     "end_time": "2022-08-21T10:04:37.299599",
     "exception": false,
     "start_time": "2022-08-21T10:04:37.281977",
     "status": "completed"
    },
    "tags": []
   },
   "outputs": [
    {
     "name": "stdout",
     "output_type": "stream",
     "text": [
      "Best parameters {'C': 0.11111111111111116, 'max_iter': 600, 'penalty': 'l1', 'solver': 'liblinear'}\n",
      "Mean cross-validated accuracy score of the best_estimator: 0.589\n"
     ]
    }
   ],
   "source": [
    "print(f'Best parameters {model_logistic.best_params_}')\n",
    "print(\n",
    "    f'Mean cross-validated accuracy score of the best_estimator: ' + \n",
    "    f'{model_logistic.best_score_:.3f}'\n",
    ")\n"
   ]
  },
  {
   "cell_type": "code",
   "execution_count": 14,
   "id": "959698ac",
   "metadata": {
    "execution": {
     "iopub.execute_input": "2022-08-21T10:04:37.312717Z",
     "iopub.status.busy": "2022-08-21T10:04:37.312040Z",
     "iopub.status.idle": "2022-08-21T10:04:37.414040Z",
     "shell.execute_reply": "2022-08-21T10:04:37.412800Z"
    },
    "papermill": {
     "duration": 0.111187,
     "end_time": "2022-08-21T10:04:37.416325",
     "exception": false,
     "start_time": "2022-08-21T10:04:37.305138",
     "status": "completed"
    },
    "tags": []
   },
   "outputs": [
    {
     "data": {
      "text/plain": [
       "LogisticRegression(C=0.11111111111111116, max_iter=600, penalty='l1',\n",
       "                   solver='liblinear')"
      ]
     },
     "execution_count": 14,
     "metadata": {},
     "output_type": "execute_result"
    }
   ],
   "source": [
    "best_params = model_logistic.best_params_\n",
    "\n",
    "submission_model = LogisticRegression(**best_params)\n",
    "submission_model.fit(X_train, y_train)"
   ]
  },
  {
   "cell_type": "code",
   "execution_count": 15,
   "id": "7db11379",
   "metadata": {
    "execution": {
     "iopub.execute_input": "2022-08-21T10:04:37.430300Z",
     "iopub.status.busy": "2022-08-21T10:04:37.429299Z",
     "iopub.status.idle": "2022-08-21T10:04:37.437103Z",
     "shell.execute_reply": "2022-08-21T10:04:37.435787Z"
    },
    "papermill": {
     "duration": 0.017321,
     "end_time": "2022-08-21T10:04:37.439496",
     "exception": false,
     "start_time": "2022-08-21T10:04:37.422175",
     "status": "completed"
    },
    "tags": []
   },
   "outputs": [],
   "source": [
    "def create_submission_data(model):\n",
    "    probs = model.predict_proba(test)\n",
    "    \n",
    "    return probs[:, 1]\n",
    "\n",
    "def create_submission_data_regression(model):\n",
    "    probs = model.predict(test)\n",
    "    \n",
    "    return probs\n",
    "\n",
    "def create_submission(model, filename, sub_method):\n",
    "    test_probs = sub_method(model)\n",
    "    \n",
    "    submission = pd.DataFrame({'id': test.index+26570,\n",
    "                               'failure': test_probs})\n",
    "    submission.to_csv(filename, index=False)"
   ]
  },
  {
   "cell_type": "code",
   "execution_count": 16,
   "id": "8947cd05",
   "metadata": {
    "execution": {
     "iopub.execute_input": "2022-08-21T10:04:37.452504Z",
     "iopub.status.busy": "2022-08-21T10:04:37.451769Z",
     "iopub.status.idle": "2022-08-21T10:04:37.595738Z",
     "shell.execute_reply": "2022-08-21T10:04:37.594356Z"
    },
    "papermill": {
     "duration": 0.154001,
     "end_time": "2022-08-21T10:04:37.599057",
     "exception": false,
     "start_time": "2022-08-21T10:04:37.445056",
     "status": "completed"
    },
    "tags": []
   },
   "outputs": [],
   "source": [
    "create_submission(submission_model, 'two_more_features_dropedalot.csv', create_submission_data)"
   ]
  }
 ],
 "metadata": {
  "kernelspec": {
   "display_name": "Python 3",
   "language": "python",
   "name": "python3"
  },
  "language_info": {
   "codemirror_mode": {
    "name": "ipython",
    "version": 3
   },
   "file_extension": ".py",
   "mimetype": "text/x-python",
   "name": "python",
   "nbconvert_exporter": "python",
   "pygments_lexer": "ipython3",
   "version": "3.7.12"
  },
  "papermill": {
   "default_parameters": {},
   "duration": 38.837158,
   "end_time": "2022-08-21T10:04:40.226792",
   "environment_variables": {},
   "exception": null,
   "input_path": "__notebook__.ipynb",
   "output_path": "__notebook__.ipynb",
   "parameters": {},
   "start_time": "2022-08-21T10:04:01.389634",
   "version": "2.3.4"
  }
 },
 "nbformat": 4,
 "nbformat_minor": 5
}

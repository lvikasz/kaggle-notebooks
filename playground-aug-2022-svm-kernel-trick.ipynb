{
 "cells": [
  {
   "cell_type": "code",
   "execution_count": 1,
   "id": "2c315057",
   "metadata": {
    "_cell_guid": "b1076dfc-b9ad-4769-8c92-a6c4dae69d19",
    "_uuid": "8f2839f25d086af736a60e9eeb907d3b93b6e0e5",
    "execution": {
     "iopub.execute_input": "2022-08-21T10:03:29.774769Z",
     "iopub.status.busy": "2022-08-21T10:03:29.773714Z",
     "iopub.status.idle": "2022-08-21T10:03:32.585391Z",
     "shell.execute_reply": "2022-08-21T10:03:32.583828Z"
    },
    "papermill": {
     "duration": 2.822223,
     "end_time": "2022-08-21T10:03:32.588994",
     "exception": false,
     "start_time": "2022-08-21T10:03:29.766771",
     "status": "completed"
    },
    "tags": []
   },
   "outputs": [
    {
     "data": {
      "text/html": [
       "<style type='text/css'>\n",
       ".datatable table.frame { margin-bottom: 0; }\n",
       ".datatable table.frame thead { border-bottom: none; }\n",
       ".datatable table.frame tr.coltypes td {  color: #FFFFFF;  line-height: 6px;  padding: 0 0.5em;}\n",
       ".datatable .bool    { background: #DDDD99; }\n",
       ".datatable .object  { background: #565656; }\n",
       ".datatable .int     { background: #5D9E5D; }\n",
       ".datatable .float   { background: #4040CC; }\n",
       ".datatable .str     { background: #CC4040; }\n",
       ".datatable .time    { background: #40CC40; }\n",
       ".datatable .row_index {  background: var(--jp-border-color3);  border-right: 1px solid var(--jp-border-color0);  color: var(--jp-ui-font-color3);  font-size: 9px;}\n",
       ".datatable .frame tbody td { text-align: left; }\n",
       ".datatable .frame tr.coltypes .row_index {  background: var(--jp-border-color0);}\n",
       ".datatable th:nth-child(2) { padding-left: 12px; }\n",
       ".datatable .hellipsis {  color: var(--jp-cell-editor-border-color);}\n",
       ".datatable .vellipsis {  background: var(--jp-layout-color0);  color: var(--jp-cell-editor-border-color);}\n",
       ".datatable .na {  color: var(--jp-cell-editor-border-color);  font-size: 80%;}\n",
       ".datatable .sp {  opacity: 0.25;}\n",
       ".datatable .footer { font-size: 9px; }\n",
       ".datatable .frame_dimensions {  background: var(--jp-border-color3);  border-top: 1px solid var(--jp-border-color0);  color: var(--jp-ui-font-color3);  display: inline-block;  opacity: 0.6;  padding: 1px 10px 1px 5px;}\n",
       "</style>\n"
      ],
      "text/plain": [
       "<IPython.core.display.HTML object>"
      ]
     },
     "metadata": {},
     "output_type": "display_data"
    }
   ],
   "source": [
    "from sklearn.experimental import enable_iterative_imputer\n",
    "from sklearn.preprocessing import OneHotEncoder, StandardScaler\n",
    "from sklearn.model_selection import train_test_split\n",
    "from sklearn.pipeline import make_pipeline\n",
    "from sklearn.model_selection import cross_validate, KFold\n",
    "from sklearn.compose import make_column_transformer\n",
    "from sklearn.impute import SimpleImputer, IterativeImputer, KNNImputer\n",
    "from sklearn.ensemble import HistGradientBoostingClassifier\n",
    "from sklearn.linear_model import LogisticRegression\n",
    "from sklearn.decomposition import PCA\n",
    "from sklearn import svm\n",
    "\n",
    "import xgboost as xgb\n",
    "import lightgbm as lgb\n",
    "\n",
    "from imblearn.over_sampling import RandomOverSampler\n",
    "\n",
    "import pandas as pd\n",
    "import numpy as np\n",
    "from matplotlib import pyplot as plt\n",
    "import seaborn as sns\n",
    "\n",
    "import warnings\n",
    "warnings.filterwarnings(\"ignore\")\n",
    "\n",
    "RANDOM_STATE = 9485\n"
   ]
  },
  {
   "cell_type": "code",
   "execution_count": 2,
   "id": "2592652f",
   "metadata": {
    "execution": {
     "iopub.execute_input": "2022-08-21T10:03:32.600224Z",
     "iopub.status.busy": "2022-08-21T10:03:32.599305Z",
     "iopub.status.idle": "2022-08-21T10:03:32.934032Z",
     "shell.execute_reply": "2022-08-21T10:03:32.932543Z"
    },
    "papermill": {
     "duration": 0.343248,
     "end_time": "2022-08-21T10:03:32.936982",
     "exception": false,
     "start_time": "2022-08-21T10:03:32.593734",
     "status": "completed"
    },
    "tags": []
   },
   "outputs": [],
   "source": [
    "train_raw = pd.read_csv(\"../input/tabular-playground-series-aug-2022/train.csv\", index_col='id')\n",
    "test_raw = pd.read_csv(\"../input/tabular-playground-series-aug-2022/test.csv\", index_col='id')\n",
    "\n",
    "X_train = train_raw.drop(columns=['failure'])\n",
    "X_sub = test_raw\n",
    "\n",
    "y_train = train_raw['failure']"
   ]
  },
  {
   "cell_type": "code",
   "execution_count": 3,
   "id": "6f90900e",
   "metadata": {
    "execution": {
     "iopub.execute_input": "2022-08-21T10:03:32.947003Z",
     "iopub.status.busy": "2022-08-21T10:03:32.946617Z",
     "iopub.status.idle": "2022-08-21T10:03:32.953653Z",
     "shell.execute_reply": "2022-08-21T10:03:32.952720Z"
    },
    "papermill": {
     "duration": 0.015123,
     "end_time": "2022-08-21T10:03:32.956321",
     "exception": false,
     "start_time": "2022-08-21T10:03:32.941198",
     "status": "completed"
    },
    "tags": []
   },
   "outputs": [],
   "source": [
    "int_cols = [f for f in train_raw.columns if train_raw[f].dtype == int and f != 'failure']\n",
    "float_cols = [f for f in train_raw.columns if train_raw[f].dtype == float]\n",
    "categorical_cols = ['attribute_0', 'attribute_1']"
   ]
  },
  {
   "cell_type": "code",
   "execution_count": 4,
   "id": "cf5e190a",
   "metadata": {
    "execution": {
     "iopub.execute_input": "2022-08-21T10:03:32.966271Z",
     "iopub.status.busy": "2022-08-21T10:03:32.965841Z",
     "iopub.status.idle": "2022-08-21T10:03:32.972899Z",
     "shell.execute_reply": "2022-08-21T10:03:32.971684Z"
    },
    "papermill": {
     "duration": 0.015112,
     "end_time": "2022-08-21T10:03:32.975529",
     "exception": false,
     "start_time": "2022-08-21T10:03:32.960417",
     "status": "completed"
    },
    "tags": []
   },
   "outputs": [],
   "source": [
    "def ohe(X_train, X_test, columns):\n",
    "    transformer = make_column_transformer(\n",
    "        (OneHotEncoder(handle_unknown='ignore', \n",
    "                       drop='first', \n",
    "                       categories=[['material_5', 'material_7'],\n",
    "                                   ['material_5', 'material_6', 'material_8']]), columns),\n",
    "        remainder='passthrough')\n",
    "\n",
    "    X_train = pd.DataFrame(\n",
    "        transformer.fit_transform(X_train), \n",
    "        columns=transformer.get_feature_names()\n",
    "    )\n",
    "    X_test = pd.DataFrame(\n",
    "        transformer.transform(X_test),\n",
    "        columns=transformer.get_feature_names()\n",
    "    )\n",
    "    \n",
    "    return X_train, X_test"
   ]
  },
  {
   "cell_type": "code",
   "execution_count": 5,
   "id": "9e055eca",
   "metadata": {
    "execution": {
     "iopub.execute_input": "2022-08-21T10:03:32.985844Z",
     "iopub.status.busy": "2022-08-21T10:03:32.984690Z",
     "iopub.status.idle": "2022-08-21T10:03:32.993168Z",
     "shell.execute_reply": "2022-08-21T10:03:32.992361Z"
    },
    "papermill": {
     "duration": 0.015945,
     "end_time": "2022-08-21T10:03:32.995515",
     "exception": false,
     "start_time": "2022-08-21T10:03:32.979570",
     "status": "completed"
    },
    "tags": []
   },
   "outputs": [],
   "source": [
    "def impute_per_product_code(X, imputer):\n",
    "    \"\"\"Impute missing values in TPS2208 data.\n",
    "    \n",
    "    Imputation is performed over separate \"per-product-code\" batches, and is designed to leave all non-imputed \n",
    "    data in the exact same format as before imputation.\"\"\"\n",
    "    # source: https://www.kaggle.com/code/purist1024/per-product-code-imputation\n",
    "    def transform(X):\n",
    "        return pd.DataFrame(imputer.fit_transform(X), index=X.index, columns=X.columns)\n",
    "\n",
    "    cats = [\"product_code\", \"attribute_0\", \"attribute_1\", \"attribute_2\", \"attribute_3\"]\n",
    "    ints = [\"measurement_0\", \"measurement_1\", \"measurement_2\"]\n",
    "    right = pd.concat([transform(gdf.drop(columns=cats)) for g, gdf in X.groupby(\"product_code\")],\n",
    "                      axis=\"rows\")\n",
    "    right[ints] = right[ints].round().astype(int)\n",
    "    return pd.concat([X[cats], right], axis=\"columns\").reindex(columns=X.columns)"
   ]
  },
  {
   "cell_type": "code",
   "execution_count": 6,
   "id": "fba52f50",
   "metadata": {
    "execution": {
     "iopub.execute_input": "2022-08-21T10:03:33.006303Z",
     "iopub.status.busy": "2022-08-21T10:03:33.005465Z",
     "iopub.status.idle": "2022-08-21T10:03:33.013476Z",
     "shell.execute_reply": "2022-08-21T10:03:33.012444Z"
    },
    "papermill": {
     "duration": 0.016524,
     "end_time": "2022-08-21T10:03:33.015973",
     "exception": false,
     "start_time": "2022-08-21T10:03:32.999449",
     "status": "completed"
    },
    "tags": []
   },
   "outputs": [],
   "source": [
    "def prepare_data(X_train, X_test, y_train, *, imputer, oversampler):\n",
    "    if imputer != None:\n",
    "        print(\"Imputing...\")\n",
    "        X_train = impute_per_product_code(X_train, imputer)\n",
    "        X_test = impute_per_product_code(X_test, imputer)\n",
    "        \n",
    "    print(\"Dropping product code...\")\n",
    "    X_train = X_train.drop(columns=['product_code'], axis=1)\n",
    "    X_test = X_test.drop(columns=['product_code'], axis=1)\n",
    "    \n",
    "    print(\"OHE...\")\n",
    "    X_train, X_test = ohe(X_train, X_test, categorical_cols)\n",
    "    \n",
    "    if oversampler != None:\n",
    "        print(\"Oversampling...\")\n",
    "        X_train, y_train = oversample(X_train, y_train, oversampler)\n",
    "    \n",
    "    return X_train, X_test, y_train"
   ]
  },
  {
   "cell_type": "code",
   "execution_count": 7,
   "id": "ac031a06",
   "metadata": {
    "execution": {
     "iopub.execute_input": "2022-08-21T10:03:33.026006Z",
     "iopub.status.busy": "2022-08-21T10:03:33.025260Z",
     "iopub.status.idle": "2022-08-21T10:03:44.367087Z",
     "shell.execute_reply": "2022-08-21T10:03:44.365131Z"
    },
    "papermill": {
     "duration": 11.349682,
     "end_time": "2022-08-21T10:03:44.369671",
     "exception": false,
     "start_time": "2022-08-21T10:03:33.019989",
     "status": "completed"
    },
    "tags": []
   },
   "outputs": [
    {
     "name": "stdout",
     "output_type": "stream",
     "text": [
      "Imputing...\n",
      "Dropping product code...\n",
      "OHE...\n"
     ]
    }
   ],
   "source": [
    "X_train, X_sub, y_train = prepare_data(X_train, X_sub, y_train, imputer=KNNImputer(n_neighbors=3), oversampler=None)\n",
    "X_train, X_test, y_train, y_test = train_test_split(X_train, y_train, test_size = 0.25, random_state=RANDOM_STATE)"
   ]
  },
  {
   "cell_type": "code",
   "execution_count": 8,
   "id": "2eeb4e42",
   "metadata": {
    "execution": {
     "iopub.execute_input": "2022-08-21T10:03:44.379770Z",
     "iopub.status.busy": "2022-08-21T10:03:44.379066Z",
     "iopub.status.idle": "2022-08-21T10:03:44.387781Z",
     "shell.execute_reply": "2022-08-21T10:03:44.386454Z"
    },
    "papermill": {
     "duration": 0.016405,
     "end_time": "2022-08-21T10:03:44.390151",
     "exception": false,
     "start_time": "2022-08-21T10:03:44.373746",
     "status": "completed"
    },
    "tags": []
   },
   "outputs": [],
   "source": [
    "def test_model(model):\n",
    "    scorers = ['neg_mean_absolute_error', 'neg_root_mean_squared_error', 'r2', 'accuracy', 'roc_auc', 'neg_log_loss']\n",
    "    scores = cross_validate(model, X=X_train, y=y_train, cv=5, n_jobs=-1, scoring=scorers)\n",
    "    \n",
    "    print(\"-------------\")\n",
    "    print(scores)\n",
    "    print(\"-------------\")\n",
    "\n",
    "    print(\"METRICS: \")\n",
    "    print(\"ROC_AUC \\t\", end=\"\")\n",
    "    print(\"Scores: \", scores['test_roc_auc'], end=\"\\t\")\n",
    "    print(\"Mean: \", scores['test_roc_auc'].mean())\n",
    "    \n",
    "    print(\"LOG_LOSS \\t\", end=\"\")\n",
    "    print(\"Scores: \", -1*scores['test_neg_log_loss'], end='\\t')\n",
    "    print(\"Mean: \", -1*scores['test_neg_log_loss'].mean())"
   ]
  },
  {
   "cell_type": "code",
   "execution_count": 9,
   "id": "ff3a0c4f",
   "metadata": {
    "execution": {
     "iopub.execute_input": "2022-08-21T10:03:44.400575Z",
     "iopub.status.busy": "2022-08-21T10:03:44.399736Z",
     "iopub.status.idle": "2022-08-21T10:03:49.075908Z",
     "shell.execute_reply": "2022-08-21T10:03:49.073871Z"
    },
    "papermill": {
     "duration": 4.684414,
     "end_time": "2022-08-21T10:03:49.078747",
     "exception": false,
     "start_time": "2022-08-21T10:03:44.394333",
     "status": "completed"
    },
    "tags": []
   },
   "outputs": [
    {
     "name": "stdout",
     "output_type": "stream",
     "text": [
      "-------------\n",
      "{'fit_time': array([1.04648471, 0.9423418 , 0.92545056, 0.96483827, 0.72898126]), 'score_time': array([0.07289362, 0.07331777, 0.07782745, 0.06910467, 0.05734277]), 'test_neg_mean_absolute_error': array([-0.21525339, -0.21174109, -0.21329987, -0.21430364, -0.21455458]), 'test_neg_root_mean_squared_error': array([-0.46395408, -0.46015334, -0.46184399, -0.46292941, -0.46320037]), 'test_r2': array([-0.29078119, -0.26971949, -0.278832  , -0.28485004, -0.28635454]), 'test_accuracy': array([0.78474661, 0.78825891, 0.78670013, 0.78569636, 0.78544542]), 'test_roc_auc': array([0.5547061 , 0.57963827, 0.54237843, 0.56754883, 0.54522359]), 'test_neg_log_loss': array([-0.52088412, -0.51317996, -0.52367991, -0.51681232, -0.5224441 ])}\n",
      "-------------\n",
      "METRICS: \n",
      "ROC_AUC \tScores:  [0.5547061  0.57963827 0.54237843 0.56754883 0.54522359]\tMean:  0.5578990456240358\n",
      "LOG_LOSS \tScores:  [0.52088412 0.51317996 0.52367991 0.51681232 0.5224441 ]\tMean:  0.519400080684699\n"
     ]
    }
   ],
   "source": [
    "clf = lgb.LGBMClassifier()\n",
    "lgb_model = make_pipeline(StandardScaler(), clf)\n",
    "test_model(lgb_model)"
   ]
  },
  {
   "cell_type": "code",
   "execution_count": 10,
   "id": "7c856c3e",
   "metadata": {
    "execution": {
     "iopub.execute_input": "2022-08-21T10:03:49.090028Z",
     "iopub.status.busy": "2022-08-21T10:03:49.089557Z",
     "iopub.status.idle": "2022-08-21T10:07:05.443547Z",
     "shell.execute_reply": "2022-08-21T10:07:05.442598Z"
    },
    "papermill": {
     "duration": 196.363763,
     "end_time": "2022-08-21T10:07:05.447112",
     "exception": false,
     "start_time": "2022-08-21T10:03:49.083349",
     "status": "completed"
    },
    "tags": []
   },
   "outputs": [
    {
     "name": "stdout",
     "output_type": "stream",
     "text": [
      "..........................................\n",
      "Warning: using -h 0 may be faster\n",
      "\n",
      "Warning: using -h 0 may be faster\n",
      "*\n",
      "optimization finished, #iter = 12369\n",
      "obj = -5337.999934, rho = 1.000006\n",
      "nSV = 7266, nBSV = 4102\n",
      "Total nSV = 7266\n",
      "*\n",
      "optimization finished, #iter = 12337\n",
      "obj = -5359.999817, rho = 1.000001\n",
      "nSV = 7296, nBSV = 4081\n",
      "Total nSV = 7296\n",
      "....\n",
      "Warning: using -h 0 may be faster\n",
      "*\n",
      "optimization finished, #iter = 12562\n",
      "obj = -5406.000432, rho = 1.000003\n",
      "nSV = 7276, nBSV = 4184\n",
      "Total nSV = 7276\n",
      "....\n",
      "Warning: using -h 0 may be faster\n",
      ".*\n",
      "optimization finished, #iter = 12456\n",
      "obj = -5384.000493, rho = 0.999998\n",
      "nSV = 7235, nBSV = 4200\n",
      "Total nSV = 7235\n",
      "....................................\n",
      "Warning: using -h 0 may be faster\n",
      "..*\n",
      "optimization finished, #iter = 12391\n",
      "obj = -5353.999503, rho = 0.999999\n",
      "nSV = 7258, nBSV = 4113\n",
      "Total nSV = 7258\n",
      ".\n",
      "Warning: using -h 0 may be faster\n",
      ".*\n",
      "optimization finished, #iter = 12652\n",
      "obj = -5447.999956, rho = 1.000004\n",
      "nSV = 7302, nBSV = 4227\n",
      "Total nSV = 7302\n",
      "..\n",
      "Warning: using -h 0 may be faster\n",
      ".*\n",
      "optimization finished, #iter = 12218\n",
      "obj = -5323.999631, rho = 1.000006\n",
      "nSV = 7279, nBSV = 4048\n",
      "Total nSV = 7279\n",
      "...\n",
      "Warning: using -h 0 may be faster\n",
      ".*\n",
      "optimization finished, #iter = 12492\n",
      "obj = -5388.001038, rho = 1.000005\n",
      "nSV = 7308, nBSV = 4161\n",
      "Total nSV = 7308\n",
      ".....................................\n",
      "Warning: using -h 0 may be faster\n",
      ".*\n",
      "optimization finished, #iter = 12769\n",
      "obj = -5490.000293, rho = 1.000002\n",
      "nSV = 7405, nBSV = 4236\n",
      "Total nSV = 7405\n",
      "....\n",
      "Warning: using -h 0 may be faster\n",
      ".\n",
      "Warning: using -h 0 may be faster\n",
      "*\n",
      "optimization finished, #iter = 12464\n",
      "obj = -5393.999877, rho = 1.000005\n",
      "nSV = 7259, nBSV = 4185\n",
      "Total nSV = 7259\n",
      "*\n",
      "optimization finished, #iter = 12343\n",
      "obj = -5361.999860, rho = 1.000004\n",
      "nSV = 7250, nBSV = 4104\n",
      "Total nSV = 7250\n",
      "....\n",
      "Warning: using -h 0 may be faster\n",
      "*\n",
      "optimization finished, #iter = 12362\n",
      "obj = -5326.000502, rho = 1.000001\n",
      "nSV = 7217, nBSV = 4100\n",
      "Total nSV = 7217\n",
      "..................................\n",
      "Warning: using -h 0 may be faster\n",
      "..*\n",
      "optimization finished, #iter = 12436\n",
      "obj = -5396.000251, rho = 1.000002\n",
      "nSV = 7304, nBSV = 4145\n",
      "Total nSV = 7304\n",
      ".........\n",
      "Warning: using -h 0 may be faster\n",
      "*\n",
      "optimization finished, #iter = 12389\n",
      "obj = -5371.999789, rho = 0.999997\n",
      "nSV = 7247, nBSV = 4137\n",
      "Total nSV = 7247\n",
      "\n",
      "Warning: using -h 0 may be faster\n",
      "..*\n",
      "optimization finished, #iter = 12592\n",
      "obj = -5449.999949, rho = 1.000001\n",
      "nSV = 7360, nBSV = 4203\n",
      "Total nSV = 7360\n",
      "..\n",
      "Warning: using -h 0 may be faster\n",
      "*\n",
      "optimization finished, #iter = 12608\n",
      "obj = -5454.000499, rho = 1.000001\n",
      "nSV = 7348, nBSV = 4212\n",
      "Total nSV = 7348\n",
      "..................................\n",
      "Warning: using -h 0 may be faster\n",
      ".*\n",
      "optimization finished, #iter = 12433\n",
      "obj = -5375.999906, rho = 1.000003\n",
      "nSV = 7299, nBSV = 4149\n",
      "Total nSV = 7299\n",
      "......\n",
      "Warning: using -h 0 may be faster\n",
      "*\n",
      "optimization finished, #iter = 12524\n",
      "obj = -5423.999263, rho = 1.000002\n",
      "nSV = 7292, nBSV = 4183\n",
      "Total nSV = 7292\n",
      "......\n",
      "Warning: using -h 0 may be faster\n",
      ".*\n",
      "optimization finished, #iter = 12571\n",
      "obj = -5433.999960, rho = 1.000003\n",
      "nSV = 7340, nBSV = 4217\n",
      "Total nSV = 7340\n",
      ".\n",
      "Warning: using -h 0 may be faster\n",
      "*\n",
      "optimization finished, #iter = 12539\n",
      "obj = -5424.000577, rho = 1.000008\n",
      "nSV = 7349, nBSV = 4166\n",
      "Total nSV = 7349\n",
      ".........................................................................\n",
      "Warning: using -h 0 may be faster\n",
      "...*\n",
      "optimization finished, #iter = 24917\n",
      "obj = -6744.000305, rho = -0.999993\n",
      "nSV = 8876, nBSV = 5514\n",
      "Total nSV = 8876\n",
      ".......\n",
      "Warning: using -h 0 may be faster\n",
      ".....*\n",
      "optimization finished, #iter = 24861\n",
      "obj = -6743.999270, rho = -0.999999\n",
      "nSV = 8838, nBSV = 5541\n",
      "Total nSV = 8838\n",
      "..\n",
      "Warning: using -h 0 may be faster\n",
      "..*\n",
      "optimization finished, #iter = 24794\n",
      "obj = -6744.000334, rho = -0.999999\n",
      "nSV = 8868, nBSV = 5565\n",
      "Total nSV = 8868\n",
      ".\n",
      "Warning: using -h 0 may be faster\n",
      "*\n",
      "optimization finished, #iter = 24924\n",
      "obj = -6744.000715, rho = -0.999993\n",
      "nSV = 8894, nBSV = 5533\n",
      "Total nSV = 8894\n",
      "............\n",
      "Warning: using -h 0 may be faster\n",
      "*\n",
      "optimization finished, #iter = 12468\n",
      "obj = -5387.999776, rho = 1.000003\n",
      "nSV = 7265, nBSV = 4158\n",
      "Total nSV = 7265\n",
      "............\n",
      "Warning: using -h 0 may be faster\n",
      "*\n",
      "optimization finished, #iter = 12516\n",
      "obj = -5407.999312, rho = 0.999996\n",
      "nSV = 7272, nBSV = 4206\n",
      "Total nSV = 7272\n",
      "............\n",
      "Warning: using -h 0 may be faster\n",
      "*\n",
      "optimization finished, #iter = 12435\n",
      "obj = -5384.000642, rho = 1.000002\n",
      "nSV = 7318, nBSV = 4149\n",
      "Total nSV = 7318\n",
      "............\n",
      "Warning: using -h 0 may be faster\n",
      "*\n",
      "optimization finished, #iter = 12596\n",
      "obj = -5430.000937, rho = 1.000001\n",
      "nSV = 7340, nBSV = 4195\n",
      "Total nSV = 7340\n",
      "............\n",
      "Warning: using -h 0 may be faster\n",
      "*\n",
      "optimization finished, #iter = 12482\n",
      "obj = -5366.000546, rho = 1.000001\n",
      "nSV = 7228, nBSV = 4148\n",
      "Total nSV = 7228\n",
      "........................\n",
      "Warning: using -h 0 may be faster\n",
      "*\n",
      "optimization finished, #iter = 24817\n",
      "obj = -6744.000951, rho = -0.999997\n",
      "nSV = 8844, nBSV = 5550\n",
      "Total nSV = 8844\n",
      "-------------\n",
      "{'fit_time': array([125.95702624, 124.391855  , 122.03426719, 118.35809445,\n",
      "        66.79594159]), 'score_time': array([5.92925549, 7.29186201, 7.97005796, 7.30309176, 3.67906237]), 'test_neg_mean_absolute_error': array([-0.21149022, -0.21149022, -0.21154329, -0.21154329, -0.21154329]), 'test_neg_root_mean_squared_error': array([-0.45988065, -0.45988065, -0.45993835, -0.45993835, -0.45993835]), 'test_r2': array([-0.26821508, -0.26821508, -0.26830045, -0.26830045, -0.26830045]), 'test_accuracy': array([0.78850978, 0.78850978, 0.78845671, 0.78845671, 0.78845671]), 'test_roc_auc': array([0.52002284, 0.4702389 , 0.49069244, 0.50472004, 0.51325628]), 'test_neg_log_loss': array([-0.51587108, -0.51762546, -0.51642947, -0.51614394, -0.51596427])}\n",
      "-------------\n",
      "METRICS: \n",
      "ROC_AUC \tScores:  [0.52002284 0.4702389  0.49069244 0.50472004 0.51325628]\tMean:  0.49978610003179813\n",
      "LOG_LOSS \tScores:  [0.51587108 0.51762546 0.51642947 0.51614394 0.51596427]\tMean:  0.5164068454355619\n"
     ]
    }
   ],
   "source": [
    "svc_linear = svm.SVC(kernel='linear', verbose=True, probability=True)\n",
    "svc_linear_model = make_pipeline(StandardScaler(), svc_linear)\n",
    "test_model(svc_linear_model)"
   ]
  },
  {
   "cell_type": "code",
   "execution_count": 11,
   "id": "d54e9a10",
   "metadata": {
    "execution": {
     "iopub.execute_input": "2022-08-21T10:07:05.498089Z",
     "iopub.status.busy": "2022-08-21T10:07:05.497719Z",
     "iopub.status.idle": "2022-08-21T10:10:54.820060Z",
     "shell.execute_reply": "2022-08-21T10:10:54.818663Z"
    },
    "papermill": {
     "duration": 229.373951,
     "end_time": "2022-08-21T10:10:54.845225",
     "exception": false,
     "start_time": "2022-08-21T10:07:05.471274",
     "status": "completed"
    },
    "tags": []
   },
   "outputs": [
    {
     "name": "stdout",
     "output_type": "stream",
     "text": [
      "-------------\n",
      "{'fit_time': array([138.91631103, 136.46825552, 151.72241664, 137.0678637 ,\n",
      "        77.68220735]), 'score_time': array([8.00008225, 9.22992563, 5.67079735, 8.50964689, 5.89509964]), 'test_neg_mean_absolute_error': array([-0.30481686, -0.30180632, -0.30489335, -0.3174404 , -0.29686324]), 'test_neg_root_mean_squared_error': array([-0.55210222, -0.54936902, -0.55217149, -0.5634185 , -0.54485157]), 'test_r2': array([-0.82785448, -0.80980159, -0.82797751, -0.90320292, -0.77983325]), 'test_accuracy': array([0.69518314, 0.69819368, 0.69510665, 0.6825596 , 0.70313676]), 'test_roc_auc': array([0.50995018, 0.51574589, 0.51831385, 0.49864726, 0.51096649]), 'test_neg_log_loss': array([-0.51613585, -0.51540741, -0.51591622, -0.51635904, -0.51620543])}\n",
      "-------------\n",
      "METRICS: \n",
      "ROC_AUC \tScores:  [0.50995018 0.51574589 0.51831385 0.49864726 0.51096649]\tMean:  0.5107247341314514\n",
      "LOG_LOSS \tScores:  [0.51613585 0.51540741 0.51591622 0.51635904 0.51620543]\tMean:  0.5160047884697513\n"
     ]
    }
   ],
   "source": [
    "svc_sigmoid = svm.SVC(kernel='sigmoid', probability=True)\n",
    "svc_sigmoid_model = make_pipeline(StandardScaler(), svc_sigmoid)\n",
    "test_model(svc_sigmoid_model)"
   ]
  },
  {
   "cell_type": "code",
   "execution_count": 12,
   "id": "bb1d6494",
   "metadata": {
    "execution": {
     "iopub.execute_input": "2022-08-21T10:10:54.894970Z",
     "iopub.status.busy": "2022-08-21T10:10:54.894476Z",
     "iopub.status.idle": "2022-08-21T11:08:42.251645Z",
     "shell.execute_reply": "2022-08-21T11:08:42.250225Z"
    },
    "papermill": {
     "duration": 3467.41241,
     "end_time": "2022-08-21T11:08:42.281039",
     "exception": false,
     "start_time": "2022-08-21T10:10:54.868629",
     "status": "completed"
    },
    "tags": []
   },
   "outputs": [
    {
     "name": "stdout",
     "output_type": "stream",
     "text": [
      "D= 2\n",
      "-------------\n",
      "{'fit_time': array([85.40615463, 74.04613543, 82.46758914, 79.12405825, 47.1870656 ]), 'score_time': array([5.11140323, 6.3988831 , 6.66240597, 7.02953053, 3.70147347]), 'test_neg_mean_absolute_error': array([-0.21149022, -0.21149022, -0.21154329, -0.21154329, -0.21154329]), 'test_neg_root_mean_squared_error': array([-0.45988065, -0.45988065, -0.45993835, -0.45993835, -0.45993835]), 'test_r2': array([-0.26821508, -0.26821508, -0.26830045, -0.26830045, -0.26830045]), 'test_accuracy': array([0.78850978, 0.78850978, 0.78845671, 0.78845671, 0.78845671]), 'test_roc_auc': array([0.48464588, 0.48755354, 0.48018504, 0.4884487 , 0.48797111]), 'test_neg_log_loss': array([-0.51663819, -0.5161002 , -0.51614519, -0.51638504, -0.51615596])}\n",
      "-------------\n",
      "METRICS: \n",
      "ROC_AUC \tScores:  [0.48464588 0.48755354 0.48018504 0.4884487  0.48797111]\tMean:  0.4857608534800977\n",
      "LOG_LOSS \tScores:  [0.51663819 0.5161002  0.51614519 0.51638504 0.51615596]\tMean:  0.5162849152195446\n",
      "=============================================================================\n",
      "D= 3\n",
      "-------------\n",
      "{'fit_time': array([183.76496387, 187.43860841, 196.03732777, 183.28378701,\n",
      "       107.36793923]), 'score_time': array([6.83520818, 5.17071962, 3.98680401, 6.97998071, 3.72557855]), 'test_neg_mean_absolute_error': array([-0.21199197, -0.21149022, -0.21154329, -0.21154329, -0.21154329]), 'test_neg_root_mean_squared_error': array([-0.46042586, -0.45988065, -0.45993835, -0.45993835, -0.45993835]), 'test_r2': array([-0.2712239 , -0.26821508, -0.26830045, -0.26830045, -0.26830045]), 'test_accuracy': array([0.78800803, 0.78850978, 0.78845671, 0.78845671, 0.78845671]), 'test_roc_auc': array([0.51731634, 0.53788173, 0.5378415 , 0.52653937, 0.52351299]), 'test_neg_log_loss': array([-0.51576443, -0.51511392, -0.51546119, -0.51544138, -0.5155953 ])}\n",
      "-------------\n",
      "METRICS: \n",
      "ROC_AUC \tScores:  [0.51731634 0.53788173 0.5378415  0.52653937 0.52351299]\tMean:  0.5286183870934849\n",
      "LOG_LOSS \tScores:  [0.51576443 0.51511392 0.51546119 0.51544138 0.5155953 ]\tMean:  0.5154752445143579\n",
      "=============================================================================\n",
      "D= 4\n",
      "-------------\n",
      "{'fit_time': array([176.53510475, 182.9328537 , 182.8512578 , 184.09429669,\n",
      "       111.14614558]), 'score_time': array([8.25205588, 8.09968042, 8.39423966, 7.98317194, 4.57124829]), 'test_neg_mean_absolute_error': array([-0.22277973, -0.22528851, -0.22484316, -0.22183187, -0.22333752]), 'test_neg_root_mean_squared_error': array([-0.47199548, -0.47464567, -0.4741763 , -0.47099031, -0.47258599]), 'test_r2': array([-0.3359134 , -0.35095746, -0.34803938, -0.32998528, -0.33901233]), 'test_accuracy': array([0.77722027, 0.77471149, 0.77515684, 0.77816813, 0.77666248]), 'test_roc_auc': array([0.50232511, 0.51760847, 0.54062852, 0.52187445, 0.5146732 ]), 'test_neg_log_loss': array([-0.51685551, -0.51560117, -0.51569285, -0.51572377, -0.51581442])}\n",
      "-------------\n",
      "METRICS: \n",
      "ROC_AUC \tScores:  [0.50232511 0.51760847 0.54062852 0.52187445 0.5146732 ]\tMean:  0.5194219513974818\n",
      "LOG_LOSS \tScores:  [0.51685551 0.51560117 0.51569285 0.51572377 0.51581442]\tMean:  0.5159375436814162\n",
      "=============================================================================\n",
      "D= 5\n",
      "-------------\n",
      "{'fit_time': array([265.38057065, 298.06173348, 270.92209053, 274.84634614,\n",
      "       159.31802678]), 'score_time': array([ 9.27495551,  5.63521719, 10.02637029,  9.31892419,  5.16787148]), 'test_neg_mean_absolute_error': array([-0.22579027, -0.22905168, -0.22961104, -0.22584693, -0.22559598]), 'test_neg_root_mean_squared_error': array([-0.47517393, -0.47859344, -0.47917746, -0.47523355, -0.47496946]), 'test_r2': array([-0.35396628, -0.37352357, -0.37662504, -0.35405742, -0.35255291]), 'test_accuracy': array([0.77420973, 0.77094832, 0.77038896, 0.77415307, 0.77440402]), 'test_roc_auc': array([0.51389878, 0.53867771, 0.53921538, 0.52727218, 0.54169055]), 'test_neg_log_loss': array([-0.51639399, -0.51473711, -0.5151298 , -0.51585316, -0.51501426])}\n",
      "-------------\n",
      "METRICS: \n",
      "ROC_AUC \tScores:  [0.51389878 0.53867771 0.53921538 0.52727218 0.54169055]\tMean:  0.5321509203372995\n",
      "LOG_LOSS \tScores:  [0.51639399 0.51473711 0.5151298  0.51585316 0.51501426]\tMean:  0.515425662133419\n",
      "=============================================================================\n",
      "D= 6\n",
      "-------------\n",
      "{'fit_time': array([309.24330688, 331.87289119, 333.02212167, 316.10682702,\n",
      "       189.72464442]), 'score_time': array([10.58450246,  5.90650296,  8.03962064, 10.90408373,  5.83005166]), 'test_neg_mean_absolute_error': array([-0.23306573, -0.23607627, -0.23237139, -0.23437892, -0.23513174]), 'test_neg_root_mean_squared_error': array([-0.48276882, -0.4858768 , -0.48204916, -0.48412697, -0.48490385]), 'test_r2': array([-0.39759408, -0.41564696, -0.39317463, -0.4052107 , -0.40972422]), 'test_accuracy': array([0.76693427, 0.76392373, 0.76762861, 0.76562108, 0.76486826]), 'test_roc_auc': array([0.51261366, 0.52431414, 0.5405734 , 0.52725595, 0.52925051]), 'test_neg_log_loss': array([-0.51689354, -0.51568103, -0.51553646, -0.5161142 , -0.51570427])}\n",
      "-------------\n",
      "METRICS: \n",
      "ROC_AUC \tScores:  [0.51261366 0.52431414 0.5405734  0.52725595 0.52925051]\tMean:  0.5268015302468112\n",
      "LOG_LOSS \tScores:  [0.51689354 0.51568103 0.51553646 0.5161142  0.51570427]\tMean:  0.5159858994311781\n",
      "=============================================================================\n",
      "D= 7\n",
      "-------------\n",
      "{'fit_time': array([317.80110717, 323.26421309, 329.13370419, 318.73422265,\n",
      "       186.83803344]), 'score_time': array([10.57406354,  9.27561307,  8.20403004, 10.3293457 ,  6.10056233]), 'test_neg_mean_absolute_error': array([-0.22980432, -0.23130958, -0.23161857, -0.22961104, -0.22860728]), 'test_neg_root_mean_squared_error': array([-0.47937909, -0.48094655, -0.48126767, -0.47917746, -0.47812893]), 'test_r2': array([-0.37803679, -0.38706323, -0.3886611 , -0.37662504, -0.37060701]), 'test_accuracy': array([0.77019568, 0.76869042, 0.76838143, 0.77038896, 0.77139272]), 'test_roc_auc': array([0.50814724, 0.53762433, 0.54215455, 0.52711399, 0.54302478]), 'test_neg_log_loss': array([-0.51719963, -0.51558902, -0.51536276, -0.51621256, -0.51543582])}\n",
      "-------------\n",
      "METRICS: \n",
      "ROC_AUC \tScores:  [0.50814724 0.53762433 0.54215455 0.52711399 0.54302478]\tMean:  0.531612977398931\n",
      "LOG_LOSS \tScores:  [0.51719963 0.51558902 0.51536276 0.51621256 0.51543582]\tMean:  0.5159599606093873\n",
      "=============================================================================\n",
      "D= 8\n",
      "-------------\n",
      "{'fit_time': array([367.33484554, 396.23959661, 373.59569788, 384.13982034,\n",
      "       225.86845469]), 'score_time': array([11.78237724,  7.43188071, 12.70784426,  7.85637641,  6.84773088]), 'test_neg_mean_absolute_error': array([-0.23356749, -0.23833417, -0.23538269, -0.23864492, -0.23337516]), 'test_neg_root_mean_squared_error': array([-0.4832882 , -0.48819481, -0.48516253, -0.48851297, -0.48308918]), 'test_r2': array([-0.4006029 , -0.42918663, -0.41122873, -0.43078734, -0.39919266]), 'test_accuracy': array([0.76643251, 0.76166583, 0.76461731, 0.76135508, 0.76662484]), 'test_roc_auc': array([0.51664491, 0.53247364, 0.53293571, 0.52281869, 0.5346875 ]), 'test_neg_log_loss': array([-0.51671161, -0.51581595, -0.5156801 , -0.51631371, -0.51572168])}\n",
      "-------------\n",
      "METRICS: \n",
      "ROC_AUC \tScores:  [0.51664491 0.53247364 0.53293571 0.52281869 0.5346875 ]\tMean:  0.5279120893797916\n",
      "LOG_LOSS \tScores:  [0.51671161 0.51581595 0.5156801  0.51631371 0.51572168]\tMean:  0.5160486087665942\n",
      "=============================================================================\n",
      "D= 9\n",
      "-------------\n",
      "{'fit_time': array([391.44744229, 404.02771497, 411.56296611, 400.85359049,\n",
      "       234.63574767]), 'score_time': array([12.35875893, 11.61892104,  8.92443538, 14.1827538 ,  6.91346526]), 'test_neg_mean_absolute_error': array([-0.23005519, -0.23130958, -0.23161857, -0.23186951, -0.22961104]), 'test_neg_root_mean_squared_error': array([-0.47964069, -0.48094655, -0.48126767, -0.48152831, -0.47917746]), 'test_r2': array([-0.3795412 , -0.38706323, -0.3886611 , -0.39016561, -0.37662504]), 'test_accuracy': array([0.76994481, 0.76869042, 0.76838143, 0.76813049, 0.77038896]), 'test_roc_auc': array([0.50967202, 0.53893474, 0.53367418, 0.52695052, 0.54236748]), 'test_neg_log_loss': array([-0.51697978, -0.51585857, -0.51571194, -0.51617448, -0.5157911 ])}\n",
      "-------------\n",
      "METRICS: \n",
      "ROC_AUC \tScores:  [0.50967202 0.53893474 0.53367418 0.52695052 0.54236748]\tMean:  0.5303197881908288\n",
      "LOG_LOSS \tScores:  [0.51697978 0.51585857 0.51571194 0.51617448 0.5157911 ]\tMean:  0.5161031761712958\n",
      "=============================================================================\n"
     ]
    }
   ],
   "source": [
    "for d in range(2, 10):\n",
    "    print(\"D=\", d)\n",
    "    svc_d = svm.SVC(kernel='poly', probability=True, degree=d)\n",
    "    svc_d_model = make_pipeline(StandardScaler(), svc_d)\n",
    "    test_model(svc_d_model)\n",
    "    print(\"=============================================================================\")"
   ]
  }
 ],
 "metadata": {
  "kernelspec": {
   "display_name": "Python 3",
   "language": "python",
   "name": "python3"
  },
  "language_info": {
   "codemirror_mode": {
    "name": "ipython",
    "version": 3
   },
   "file_extension": ".py",
   "mimetype": "text/x-python",
   "name": "python",
   "nbconvert_exporter": "python",
   "pygments_lexer": "ipython3",
   "version": "3.7.12"
  },
  "papermill": {
   "default_parameters": {},
   "duration": 3924.749202,
   "end_time": "2022-08-21T11:08:44.938255",
   "environment_variables": {},
   "exception": null,
   "input_path": "__notebook__.ipynb",
   "output_path": "__notebook__.ipynb",
   "parameters": {},
   "start_time": "2022-08-21T10:03:20.189053",
   "version": "2.3.4"
  }
 },
 "nbformat": 4,
 "nbformat_minor": 5
}

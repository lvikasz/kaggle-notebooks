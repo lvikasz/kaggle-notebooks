{
 "cells": [
  {
   "cell_type": "code",
   "execution_count": 1,
   "id": "49d2b69c",
   "metadata": {
    "_cell_guid": "b1076dfc-b9ad-4769-8c92-a6c4dae69d19",
    "_uuid": "8f2839f25d086af736a60e9eeb907d3b93b6e0e5",
    "execution": {
     "iopub.execute_input": "2022-08-21T10:03:49.811822Z",
     "iopub.status.busy": "2022-08-21T10:03:49.810881Z",
     "iopub.status.idle": "2022-08-21T10:03:51.542885Z",
     "shell.execute_reply": "2022-08-21T10:03:51.541788Z"
    },
    "papermill": {
     "duration": 1.746969,
     "end_time": "2022-08-21T10:03:51.545991",
     "exception": false,
     "start_time": "2022-08-21T10:03:49.799022",
     "status": "completed"
    },
    "tags": []
   },
   "outputs": [],
   "source": [
    "from sklearn.preprocessing import OneHotEncoder, StandardScaler\n",
    "from sklearn.model_selection import train_test_split, GridSearchCV\n",
    "from sklearn.pipeline import make_pipeline\n",
    "from sklearn.model_selection import cross_validate, KFold\n",
    "from sklearn.compose import make_column_transformer\n",
    "from sklearn.impute import  KNNImputer\n",
    "from sklearn.decomposition import PCA\n",
    "from imblearn.over_sampling import SMOTE\n",
    "from sklearn.ensemble import VotingClassifier\n",
    "\n",
    "from sklearn.linear_model import LogisticRegression, PoissonRegressor\n",
    "\n",
    "\n",
    "import pandas as pd\n",
    "import numpy as np\n",
    "from matplotlib import pyplot as plt\n",
    "import seaborn as sns\n",
    "\n",
    "import warnings\n",
    "warnings.filterwarnings(\"ignore\")\n",
    "\n",
    "RANDOM_STATE = 1"
   ]
  },
  {
   "cell_type": "code",
   "execution_count": 2,
   "id": "4630ba43",
   "metadata": {
    "execution": {
     "iopub.execute_input": "2022-08-21T10:03:51.563581Z",
     "iopub.status.busy": "2022-08-21T10:03:51.563196Z",
     "iopub.status.idle": "2022-08-21T10:03:51.836103Z",
     "shell.execute_reply": "2022-08-21T10:03:51.834788Z"
    },
    "papermill": {
     "duration": 0.285339,
     "end_time": "2022-08-21T10:03:51.839283",
     "exception": false,
     "start_time": "2022-08-21T10:03:51.553944",
     "status": "completed"
    },
    "tags": []
   },
   "outputs": [],
   "source": [
    "train = pd.read_csv(\"../input/tabular-playground-series-aug-2022/train.csv\", index_col='id')\n",
    "test = pd.read_csv(\"../input/tabular-playground-series-aug-2022/test.csv\", index_col='id')\n",
    "\n",
    "X = train.drop(columns=['failure'])\n",
    "y = train['failure']"
   ]
  },
  {
   "cell_type": "code",
   "execution_count": 3,
   "id": "b596eb7e",
   "metadata": {
    "execution": {
     "iopub.execute_input": "2022-08-21T10:03:51.856417Z",
     "iopub.status.busy": "2022-08-21T10:03:51.856013Z",
     "iopub.status.idle": "2022-08-21T10:03:51.865951Z",
     "shell.execute_reply": "2022-08-21T10:03:51.864859Z"
    },
    "papermill": {
     "duration": 0.021141,
     "end_time": "2022-08-21T10:03:51.868308",
     "exception": false,
     "start_time": "2022-08-21T10:03:51.847167",
     "status": "completed"
    },
    "tags": []
   },
   "outputs": [],
   "source": [
    "# https://www.kaggle.com/competitions/tabular-playground-series-aug-2022/discussion/342319\n",
    "X['m_3_missing'] = X.measurement_3.isna()\n",
    "X['m_5_missing'] = X.measurement_5.isna()\n",
    "\n",
    "test['m_3_missing'] = test.measurement_3.isna()\n",
    "test['m_5_missing'] = test.measurement_5.isna()"
   ]
  },
  {
   "cell_type": "code",
   "execution_count": 4,
   "id": "045666e6",
   "metadata": {
    "execution": {
     "iopub.execute_input": "2022-08-21T10:03:51.885458Z",
     "iopub.status.busy": "2022-08-21T10:03:51.885100Z",
     "iopub.status.idle": "2022-08-21T10:03:51.891562Z",
     "shell.execute_reply": "2022-08-21T10:03:51.890686Z"
    },
    "papermill": {
     "duration": 0.01788,
     "end_time": "2022-08-21T10:03:51.893952",
     "exception": false,
     "start_time": "2022-08-21T10:03:51.876072",
     "status": "completed"
    },
    "tags": []
   },
   "outputs": [],
   "source": [
    "int_cols = [f for f in train.columns if train[f].dtype == int and f != 'failure']\n",
    "float_cols = [f for f in train.columns if train[f].dtype == float]\n",
    "categorical_cols = ['attribute_0', 'attribute_1']"
   ]
  },
  {
   "cell_type": "code",
   "execution_count": 5,
   "id": "deb37c49",
   "metadata": {
    "execution": {
     "iopub.execute_input": "2022-08-21T10:03:51.911484Z",
     "iopub.status.busy": "2022-08-21T10:03:51.911132Z",
     "iopub.status.idle": "2022-08-21T10:03:51.924517Z",
     "shell.execute_reply": "2022-08-21T10:03:51.923744Z"
    },
    "papermill": {
     "duration": 0.024762,
     "end_time": "2022-08-21T10:03:51.926677",
     "exception": false,
     "start_time": "2022-08-21T10:03:51.901915",
     "status": "completed"
    },
    "tags": []
   },
   "outputs": [],
   "source": [
    "def ohe(X_train, X_test, columns):\n",
    "    transformer = make_column_transformer(\n",
    "        (OneHotEncoder(handle_unknown='ignore', \n",
    "                       drop='first', \n",
    "                       categories=[['material_5', 'material_7'],\n",
    "                                   ['material_5', 'material_6', 'material_8']]), columns),\n",
    "        remainder='passthrough')\n",
    "\n",
    "    X_train = pd.DataFrame(\n",
    "        transformer.fit_transform(X_train), \n",
    "        columns=transformer.get_feature_names()\n",
    "    )\n",
    "    X_test = pd.DataFrame(\n",
    "        transformer.transform(X_test),\n",
    "        columns=transformer.get_feature_names()\n",
    "    )\n",
    "    \n",
    "    return X_train, X_test\n",
    "\n",
    "def impute(X, imputer):\n",
    "    # source: https://www.kaggle.com/code/purist1024/per-product-code-imputation\n",
    "    \n",
    "    def transform(X):\n",
    "        return pd.DataFrame(imputer.fit_transform(X), index=X.index, columns=X.columns)\n",
    "\n",
    "    cats = [\"product_code\", \"attribute_0\", \"attribute_1\", \"attribute_2\", \"attribute_3\"]\n",
    "    ints = [\"measurement_0\", \"measurement_1\", \"measurement_2\"]\n",
    "    right = pd.concat([transform(gdf.drop(columns=cats)) for g, gdf in X.groupby(\"product_code\")],\n",
    "                      axis=\"rows\")\n",
    "    right[ints] = right[ints].round().astype(int)\n",
    "    return pd.concat([X[cats], right], axis=\"columns\").reindex(columns=X.columns)\n",
    "\n",
    "def oversample(X_train, y_train, oversampler):\n",
    "    return oversampler.fit_resample(X_train, y_train)\n",
    "\n",
    "def prepare_data(X_train, X_test, y_train, *, imputer, oversampler):\n",
    "    if imputer != None:\n",
    "        print(\"Imputing...\")\n",
    "        X_train = impute(X_train, imputer)\n",
    "        X_test = impute(X_test, imputer)\n",
    "    \n",
    "    print(\"Dropping product code...\")\n",
    "    X_train = X_train.drop(columns=['product_code'], axis=1)\n",
    "    X_test = X_test.drop(columns=['product_code'], axis=1)\n",
    "    \n",
    "    print(\"OHE...\")\n",
    "    X_train, X_test = ohe(X_train, X_test, categorical_cols)\n",
    "\n",
    "    if oversampler != None:\n",
    "        print(\"Oversampling...\")\n",
    "        X_train, y_train = oversampler(X_train, y_train, oversampler)\n",
    "    \n",
    "    return X_train, X_test, y_train"
   ]
  },
  {
   "cell_type": "code",
   "execution_count": 6,
   "id": "0e21fc1b",
   "metadata": {
    "execution": {
     "iopub.execute_input": "2022-08-21T10:03:51.943529Z",
     "iopub.status.busy": "2022-08-21T10:03:51.943143Z",
     "iopub.status.idle": "2022-08-21T10:04:04.394655Z",
     "shell.execute_reply": "2022-08-21T10:04:04.393816Z"
    },
    "papermill": {
     "duration": 12.462834,
     "end_time": "2022-08-21T10:04:04.397228",
     "exception": false,
     "start_time": "2022-08-21T10:03:51.934394",
     "status": "completed"
    },
    "tags": []
   },
   "outputs": [
    {
     "name": "stdout",
     "output_type": "stream",
     "text": [
      "Imputing...\n",
      "Dropping product code...\n",
      "OHE...\n",
      "Oversampling...\n"
     ]
    }
   ],
   "source": [
    "imputer = KNNImputer(n_neighbors=3)\n",
    "oversampler = SMOTE(random_state=RANDOM_STATE)\n",
    "\n",
    "X, test, y = prepare_data(X, test, y, imputer=imputer, oversampler=None)\n",
    "\n",
    "print(\"Oversampling...\")\n",
    "X_oversampled, y_oversampled = oversampler.fit_resample(X, y)"
   ]
  },
  {
   "cell_type": "code",
   "execution_count": 7,
   "id": "348ffe1e",
   "metadata": {
    "execution": {
     "iopub.execute_input": "2022-08-21T10:04:04.415809Z",
     "iopub.status.busy": "2022-08-21T10:04:04.414803Z",
     "iopub.status.idle": "2022-08-21T10:04:04.466836Z",
     "shell.execute_reply": "2022-08-21T10:04:04.465718Z"
    },
    "papermill": {
     "duration": 0.064205,
     "end_time": "2022-08-21T10:04:04.469585",
     "exception": false,
     "start_time": "2022-08-21T10:04:04.405380",
     "status": "completed"
    },
    "tags": []
   },
   "outputs": [],
   "source": [
    "def scale_data(data):\n",
    "    scaler = StandardScaler()\n",
    "    data.loc[:] = scaler.fit_transform(data)\n",
    "    return data\n",
    "\n",
    "X = scale_data(X)\n",
    "X_oversampled = scale_data(X_oversampled)\n",
    "\n",
    "test = scale_data(test)"
   ]
  },
  {
   "cell_type": "code",
   "execution_count": 8,
   "id": "a690a2f9",
   "metadata": {
    "execution": {
     "iopub.execute_input": "2022-08-21T10:04:04.487927Z",
     "iopub.status.busy": "2022-08-21T10:04:04.486851Z",
     "iopub.status.idle": "2022-08-21T10:04:04.508982Z",
     "shell.execute_reply": "2022-08-21T10:04:04.507997Z"
    },
    "papermill": {
     "duration": 0.033976,
     "end_time": "2022-08-21T10:04:04.511577",
     "exception": false,
     "start_time": "2022-08-21T10:04:04.477601",
     "status": "completed"
    },
    "tags": []
   },
   "outputs": [],
   "source": [
    "# should've stratify\n",
    "X_train, X_test, y_train, y_test = train_test_split(X, y, test_size=0.2, random_state=RANDOM_STATE)\n",
    "X_train_oversampled, X_test_oversampled, y_train_oversampled, y_test_oversampled = train_test_split(X_oversampled, y_oversampled, test_size=0.2, random_state=RANDOM_STATE)"
   ]
  },
  {
   "cell_type": "markdown",
   "id": "b5699a83",
   "metadata": {
    "papermill": {
     "duration": 0.00844,
     "end_time": "2022-08-21T10:04:04.528375",
     "exception": false,
     "start_time": "2022-08-21T10:04:04.519935",
     "status": "completed"
    },
    "tags": []
   },
   "source": [
    "### Grid Search for Poisson Regressor"
   ]
  },
  {
   "cell_type": "code",
   "execution_count": 9,
   "id": "fa516539",
   "metadata": {
    "execution": {
     "iopub.execute_input": "2022-08-21T10:04:04.546134Z",
     "iopub.status.busy": "2022-08-21T10:04:04.545713Z",
     "iopub.status.idle": "2022-08-21T10:04:04.551973Z",
     "shell.execute_reply": "2022-08-21T10:04:04.550634Z"
    },
    "papermill": {
     "duration": 0.018091,
     "end_time": "2022-08-21T10:04:04.554404",
     "exception": false,
     "start_time": "2022-08-21T10:04:04.536313",
     "status": "completed"
    },
    "tags": []
   },
   "outputs": [],
   "source": [
    "# https://www.kaggle.com/code/vencerlanz09/0-58624-poisson-regressor-eda-explanation\n",
    "parameters = {\n",
    "    \"alpha\":np.linspace(0.1, 5),\n",
    "    \"fit_intercept\": [True],  # Important to be True since the PoissonRegressor do not have a predict_proba method\n",
    "    \"max_iter\": [50*i for i in range(1, 29)],\n",
    "    \"tol\":[1e-1, 1e-2, 1e-3, 1e-4, 1e-5],\n",
    "    \"verbose\":[0],\n",
    "}"
   ]
  },
  {
   "cell_type": "code",
   "execution_count": 10,
   "id": "abf6464f",
   "metadata": {
    "execution": {
     "iopub.execute_input": "2022-08-21T10:04:04.572213Z",
     "iopub.status.busy": "2022-08-21T10:04:04.571834Z",
     "iopub.status.idle": "2022-08-21T10:08:42.093969Z",
     "shell.execute_reply": "2022-08-21T10:08:42.092206Z"
    },
    "papermill": {
     "duration": 277.556924,
     "end_time": "2022-08-21T10:08:42.119409",
     "exception": false,
     "start_time": "2022-08-21T10:04:04.562485",
     "status": "completed"
    },
    "tags": []
   },
   "outputs": [
    {
     "name": "stdout",
     "output_type": "stream",
     "text": [
      "CPU times: user 50.4 s, sys: 3.38 s, total: 53.8 s\n",
      "Wall time: 4min 37s\n"
     ]
    },
    {
     "data": {
      "text/plain": [
       "GridSearchCV(cv=5, estimator=PoissonRegressor(), n_jobs=-1,\n",
       "             param_grid={'alpha': array([0.1, 0.2, 0.3, 0.4, 0.5, 0.6, 0.7, 0.8, 0.9, 1. , 1.1, 1.2, 1.3,\n",
       "       1.4, 1.5, 1.6, 1.7, 1.8, 1.9, 2. , 2.1, 2.2, 2.3, 2.4, 2.5, 2.6,\n",
       "       2.7, 2.8, 2.9, 3. , 3.1, 3.2, 3.3, 3.4, 3.5, 3.6, 3.7, 3.8, 3.9,\n",
       "       4. , 4.1, 4.2, 4.3, 4.4, 4.5, 4.6, 4.7, 4.8, 4.9, 5. ]),\n",
       "                         'fit_intercept': [True],\n",
       "                         'max_iter': [50, 100, 150, 200, 250, 300, 350, 400,\n",
       "                                      450, 500, 550, 600, 650, 700, 750, 800,\n",
       "                                      850, 900, 950, 1000, 1050, 1100, 1150,\n",
       "                                      1200, 1250, 1300, 1350, 1400],\n",
       "                         'tol': [0.1, 0.01, 0.001, 0.0001, 1e-05],\n",
       "                         'verbose': [0]},\n",
       "             scoring='roc_auc')"
      ]
     },
     "execution_count": 10,
     "metadata": {},
     "output_type": "execute_result"
    }
   ],
   "source": [
    "%%time\n",
    "model_poisson = PoissonRegressor()\n",
    "\n",
    "model_poisson = GridSearchCV(model_poisson,\n",
    "                             parameters,\n",
    "                             cv=5,\n",
    "                             scoring='roc_auc',\n",
    "                             n_jobs=-1)\n",
    "model_poisson.fit(X_train, y_train)"
   ]
  },
  {
   "cell_type": "code",
   "execution_count": 11,
   "id": "54053cb5",
   "metadata": {
    "execution": {
     "iopub.execute_input": "2022-08-21T10:08:42.163722Z",
     "iopub.status.busy": "2022-08-21T10:08:42.163007Z",
     "iopub.status.idle": "2022-08-21T10:08:42.170569Z",
     "shell.execute_reply": "2022-08-21T10:08:42.169835Z"
    },
    "papermill": {
     "duration": 0.032779,
     "end_time": "2022-08-21T10:08:42.172696",
     "exception": false,
     "start_time": "2022-08-21T10:08:42.139917",
     "status": "completed"
    },
    "tags": []
   },
   "outputs": [
    {
     "name": "stdout",
     "output_type": "stream",
     "text": [
      "Best parameters {'alpha': 0.1, 'fit_intercept': True, 'max_iter': 50, 'tol': 0.001, 'verbose': 0}\n",
      "Mean cross-validated accuracy score of the best_estimator: 0.589\n"
     ]
    }
   ],
   "source": [
    "print(f'Best parameters {model_poisson.best_params_}')\n",
    "print(\n",
    "    f'Mean cross-validated accuracy score of the best_estimator: ' + \n",
    "    f'{model_poisson.best_score_:.3f}'\n",
    ")"
   ]
  },
  {
   "cell_type": "code",
   "execution_count": 12,
   "id": "0c8b88ab",
   "metadata": {
    "execution": {
     "iopub.execute_input": "2022-08-21T10:08:42.190661Z",
     "iopub.status.busy": "2022-08-21T10:08:42.190256Z",
     "iopub.status.idle": "2022-08-21T10:15:45.864243Z",
     "shell.execute_reply": "2022-08-21T10:15:45.863092Z"
    },
    "papermill": {
     "duration": 423.708171,
     "end_time": "2022-08-21T10:15:45.889007",
     "exception": false,
     "start_time": "2022-08-21T10:08:42.180836",
     "status": "completed"
    },
    "tags": []
   },
   "outputs": [
    {
     "name": "stdout",
     "output_type": "stream",
     "text": [
      "CPU times: user 1min 24s, sys: 7.52 s, total: 1min 32s\n",
      "Wall time: 7min 3s\n"
     ]
    },
    {
     "data": {
      "text/plain": [
       "GridSearchCV(cv=5, estimator=PoissonRegressor(), n_jobs=-1,\n",
       "             param_grid={'alpha': array([0.1, 0.2, 0.3, 0.4, 0.5, 0.6, 0.7, 0.8, 0.9, 1. , 1.1, 1.2, 1.3,\n",
       "       1.4, 1.5, 1.6, 1.7, 1.8, 1.9, 2. , 2.1, 2.2, 2.3, 2.4, 2.5, 2.6,\n",
       "       2.7, 2.8, 2.9, 3. , 3.1, 3.2, 3.3, 3.4, 3.5, 3.6, 3.7, 3.8, 3.9,\n",
       "       4. , 4.1, 4.2, 4.3, 4.4, 4.5, 4.6, 4.7, 4.8, 4.9, 5. ]),\n",
       "                         'fit_intercept': [True],\n",
       "                         'max_iter': [50, 100, 150, 200, 250, 300, 350, 400,\n",
       "                                      450, 500, 550, 600, 650, 700, 750, 800,\n",
       "                                      850, 900, 950, 1000, 1050, 1100, 1150,\n",
       "                                      1200, 1250, 1300, 1350, 1400],\n",
       "                         'tol': [0.1, 0.01, 0.001, 0.0001, 1e-05],\n",
       "                         'verbose': [0]},\n",
       "             scoring='roc_auc')"
      ]
     },
     "execution_count": 12,
     "metadata": {},
     "output_type": "execute_result"
    }
   ],
   "source": [
    "%%time\n",
    "model_poisson_oversampled = PoissonRegressor()\n",
    "\n",
    "model_poisson_oversampled = GridSearchCV(model_poisson_oversampled,\n",
    "                             parameters,\n",
    "                             cv=5,\n",
    "                             scoring='roc_auc',\n",
    "                             n_jobs=-1)\n",
    "model_poisson_oversampled.fit(X_train_oversampled, y_train_oversampled)"
   ]
  },
  {
   "cell_type": "code",
   "execution_count": 13,
   "id": "167cd7ca",
   "metadata": {
    "execution": {
     "iopub.execute_input": "2022-08-21T10:15:45.933922Z",
     "iopub.status.busy": "2022-08-21T10:15:45.933244Z",
     "iopub.status.idle": "2022-08-21T10:15:45.947334Z",
     "shell.execute_reply": "2022-08-21T10:15:45.946550Z"
    },
    "papermill": {
     "duration": 0.039293,
     "end_time": "2022-08-21T10:15:45.949480",
     "exception": false,
     "start_time": "2022-08-21T10:15:45.910187",
     "status": "completed"
    },
    "tags": []
   },
   "outputs": [
    {
     "name": "stdout",
     "output_type": "stream",
     "text": [
      "Best parameters {'alpha': 0.2, 'fit_intercept': True, 'max_iter': 50, 'tol': 0.01, 'verbose': 0}\n",
      "Mean cross-validated accuracy score of the best_estimator: 0.592\n"
     ]
    }
   ],
   "source": [
    "print(f'Best parameters {model_poisson_oversampled.best_params_}')\n",
    "print(\n",
    "    f'Mean cross-validated accuracy score of the best_estimator: ' + \n",
    "    f'{model_poisson_oversampled.best_score_:.3f}'\n",
    ")"
   ]
  },
  {
   "cell_type": "code",
   "execution_count": 14,
   "id": "5c449fae",
   "metadata": {
    "execution": {
     "iopub.execute_input": "2022-08-21T10:15:45.968131Z",
     "iopub.status.busy": "2022-08-21T10:15:45.967440Z",
     "iopub.status.idle": "2022-08-21T10:15:45.992083Z",
     "shell.execute_reply": "2022-08-21T10:15:45.990541Z"
    },
    "papermill": {
     "duration": 0.038868,
     "end_time": "2022-08-21T10:15:45.996808",
     "exception": false,
     "start_time": "2022-08-21T10:15:45.957940",
     "status": "completed"
    },
    "tags": []
   },
   "outputs": [
    {
     "data": {
      "text/plain": [
       "0.5890320067801101"
      ]
     },
     "execution_count": 14,
     "metadata": {},
     "output_type": "execute_result"
    }
   ],
   "source": [
    "from sklearn.metrics import roc_auc_score\n",
    "# 0.5954237526605417\n",
    "y_pred_over = model_poisson_oversampled.predict(X_test_oversampled)\n",
    "roc_auc_score(y_test_oversampled, y_pred_over)"
   ]
  },
  {
   "cell_type": "markdown",
   "id": "2735f7cc",
   "metadata": {
    "papermill": {
     "duration": 0.020901,
     "end_time": "2022-08-21T10:15:46.040737",
     "exception": false,
     "start_time": "2022-08-21T10:15:46.019836",
     "status": "completed"
    },
    "tags": []
   },
   "source": [
    "### LogisticRegression"
   ]
  },
  {
   "cell_type": "code",
   "execution_count": 15,
   "id": "3b36032d",
   "metadata": {
    "execution": {
     "iopub.execute_input": "2022-08-21T10:15:46.086351Z",
     "iopub.status.busy": "2022-08-21T10:15:46.085687Z",
     "iopub.status.idle": "2022-08-21T10:15:46.096412Z",
     "shell.execute_reply": "2022-08-21T10:15:46.095094Z"
    },
    "papermill": {
     "duration": 0.036626,
     "end_time": "2022-08-21T10:15:46.099028",
     "exception": false,
     "start_time": "2022-08-21T10:15:46.062402",
     "status": "completed"
    },
    "tags": []
   },
   "outputs": [],
   "source": [
    "parameters = {\n",
    "    'penalty' : ['l1','l2'], \n",
    "    'C'       : np.linspace(-0.5, 0.5, 6),\n",
    "    'solver'  : ['newton-cg', 'lbfgs', 'liblinear', 'sag', 'saga'],\n",
    "    'max_iter': [500 + 50*i for i in range(1, 6)]\n",
    "}"
   ]
  },
  {
   "cell_type": "code",
   "execution_count": 16,
   "id": "401aaa1f",
   "metadata": {
    "execution": {
     "iopub.execute_input": "2022-08-21T10:15:46.118103Z",
     "iopub.status.busy": "2022-08-21T10:15:46.117326Z",
     "iopub.status.idle": "2022-08-21T10:16:17.742503Z",
     "shell.execute_reply": "2022-08-21T10:16:17.741359Z"
    },
    "papermill": {
     "duration": 31.645767,
     "end_time": "2022-08-21T10:16:17.753242",
     "exception": false,
     "start_time": "2022-08-21T10:15:46.107475",
     "status": "completed"
    },
    "tags": []
   },
   "outputs": [
    {
     "data": {
      "text/plain": [
       "GridSearchCV(cv=5, estimator=LogisticRegression(), n_jobs=-1,\n",
       "             param_grid={'C': array([-0.5, -0.3, -0.1,  0.1,  0.3,  0.5]),\n",
       "                         'max_iter': [550, 600, 650, 700, 750],\n",
       "                         'penalty': ['l1', 'l2'],\n",
       "                         'solver': ['newton-cg', 'lbfgs', 'liblinear', 'sag',\n",
       "                                    'saga']},\n",
       "             scoring='roc_auc')"
      ]
     },
     "execution_count": 16,
     "metadata": {},
     "output_type": "execute_result"
    }
   ],
   "source": [
    "model_logistic = LogisticRegression()\n",
    "\n",
    "model_logistic = GridSearchCV(model_logistic,\n",
    "                             parameters,\n",
    "                             cv=5,\n",
    "                             scoring='roc_auc',\n",
    "                             n_jobs=-1)\n",
    "model_logistic.fit(X_train, y_train)"
   ]
  },
  {
   "cell_type": "code",
   "execution_count": 17,
   "id": "1afd320a",
   "metadata": {
    "execution": {
     "iopub.execute_input": "2022-08-21T10:16:17.772744Z",
     "iopub.status.busy": "2022-08-21T10:16:17.771615Z",
     "iopub.status.idle": "2022-08-21T10:16:17.778301Z",
     "shell.execute_reply": "2022-08-21T10:16:17.777134Z"
    },
    "papermill": {
     "duration": 0.018805,
     "end_time": "2022-08-21T10:16:17.780623",
     "exception": false,
     "start_time": "2022-08-21T10:16:17.761818",
     "status": "completed"
    },
    "tags": []
   },
   "outputs": [
    {
     "name": "stdout",
     "output_type": "stream",
     "text": [
      "Best parameters {'C': 0.10000000000000009, 'max_iter': 750, 'penalty': 'l1', 'solver': 'saga'}\n",
      "Mean cross-validated accuracy score of the best_estimator: 0.590\n"
     ]
    }
   ],
   "source": [
    "print(f'Best parameters {model_logistic.best_params_}')\n",
    "print(\n",
    "    f'Mean cross-validated accuracy score of the best_estimator: ' + \n",
    "    f'{model_logistic.best_score_:.3f}'\n",
    ")"
   ]
  },
  {
   "cell_type": "code",
   "execution_count": 18,
   "id": "ee9ee05b",
   "metadata": {
    "execution": {
     "iopub.execute_input": "2022-08-21T10:16:17.800314Z",
     "iopub.status.busy": "2022-08-21T10:16:17.799474Z",
     "iopub.status.idle": "2022-08-21T10:17:21.675888Z",
     "shell.execute_reply": "2022-08-21T10:17:21.674829Z"
    },
    "papermill": {
     "duration": 63.896383,
     "end_time": "2022-08-21T10:17:21.685869",
     "exception": false,
     "start_time": "2022-08-21T10:16:17.789486",
     "status": "completed"
    },
    "tags": []
   },
   "outputs": [
    {
     "name": "stdout",
     "output_type": "stream",
     "text": [
      "CPU times: user 3.79 s, sys: 270 ms, total: 4.07 s\n",
      "Wall time: 1min 3s\n"
     ]
    },
    {
     "data": {
      "text/plain": [
       "GridSearchCV(cv=5, estimator=LogisticRegression(), n_jobs=-1,\n",
       "             param_grid={'C': array([-0.5, -0.3, -0.1,  0.1,  0.3,  0.5]),\n",
       "                         'max_iter': [550, 600, 650, 700, 750],\n",
       "                         'penalty': ['l1', 'l2'],\n",
       "                         'solver': ['newton-cg', 'lbfgs', 'liblinear', 'sag',\n",
       "                                    'saga']},\n",
       "             scoring='roc_auc')"
      ]
     },
     "execution_count": 18,
     "metadata": {},
     "output_type": "execute_result"
    }
   ],
   "source": [
    "%%time\n",
    "model_logistic_oversampled = LogisticRegression()\n",
    "\n",
    "model_logistic_oversampled = GridSearchCV(model_logistic_oversampled,\n",
    "                             parameters,\n",
    "                             cv=5,\n",
    "                             scoring='roc_auc',\n",
    "                             n_jobs=-1)\n",
    "model_logistic_oversampled.fit(X_train_oversampled, y_train_oversampled)"
   ]
  },
  {
   "cell_type": "code",
   "execution_count": 19,
   "id": "f547882e",
   "metadata": {
    "execution": {
     "iopub.execute_input": "2022-08-21T10:17:21.705712Z",
     "iopub.status.busy": "2022-08-21T10:17:21.704789Z",
     "iopub.status.idle": "2022-08-21T10:17:21.710787Z",
     "shell.execute_reply": "2022-08-21T10:17:21.709568Z"
    },
    "papermill": {
     "duration": 0.018676,
     "end_time": "2022-08-21T10:17:21.713279",
     "exception": false,
     "start_time": "2022-08-21T10:17:21.694603",
     "status": "completed"
    },
    "tags": []
   },
   "outputs": [
    {
     "name": "stdout",
     "output_type": "stream",
     "text": [
      "Best parameters {'C': 0.10000000000000009, 'max_iter': 750, 'penalty': 'l1', 'solver': 'liblinear'}\n",
      "Mean cross-validated accuracy score of the best_estimator: 0.592\n"
     ]
    }
   ],
   "source": [
    "print(f'Best parameters {model_logistic_oversampled.best_params_}')\n",
    "print(\n",
    "    f'Mean cross-validated accuracy score of the best_estimator: ' + \n",
    "    f'{model_logistic_oversampled.best_score_:.3f}'\n",
    ")"
   ]
  },
  {
   "cell_type": "markdown",
   "id": "6534c02d",
   "metadata": {
    "papermill": {
     "duration": 0.008511,
     "end_time": "2022-08-21T10:17:21.730765",
     "exception": false,
     "start_time": "2022-08-21T10:17:21.722254",
     "status": "completed"
    },
    "tags": []
   },
   "source": [
    "### Voting classifier without oversampling"
   ]
  },
  {
   "cell_type": "code",
   "execution_count": 20,
   "id": "7e244bfa",
   "metadata": {
    "execution": {
     "iopub.execute_input": "2022-08-21T10:17:21.750457Z",
     "iopub.status.busy": "2022-08-21T10:17:21.749821Z",
     "iopub.status.idle": "2022-08-21T10:17:21.756146Z",
     "shell.execute_reply": "2022-08-21T10:17:21.755313Z"
    },
    "papermill": {
     "duration": 0.018666,
     "end_time": "2022-08-21T10:17:21.758217",
     "exception": false,
     "start_time": "2022-08-21T10:17:21.739551",
     "status": "completed"
    },
    "tags": []
   },
   "outputs": [],
   "source": [
    "poisson_best_params = {'alpha': 0.1, 'fit_intercept': True, 'max_iter': 50, 'tol': 0.001, 'verbose': 0}\n",
    "poisson_over_best_params = {'alpha': 0.2, 'fit_intercept': True, 'max_iter': 50, 'tol': 0.01, 'verbose': 0}\n",
    "\n",
    "logistic_best_params = {'C': 0.10000000000000009, 'max_iter': 750, 'penalty': 'l1', 'solver': 'saga'}\n",
    "logistic_over_best_params = {'C': 0.10000000000000009, 'max_iter': 700, 'penalty': 'l1', 'solver': 'liblinear'}"
   ]
  },
  {
   "cell_type": "code",
   "execution_count": 21,
   "id": "b5402b27",
   "metadata": {
    "execution": {
     "iopub.execute_input": "2022-08-21T10:17:21.777665Z",
     "iopub.status.busy": "2022-08-21T10:17:21.777046Z",
     "iopub.status.idle": "2022-08-21T10:17:22.455326Z",
     "shell.execute_reply": "2022-08-21T10:17:22.454129Z"
    },
    "papermill": {
     "duration": 0.690618,
     "end_time": "2022-08-21T10:17:22.457572",
     "exception": false,
     "start_time": "2022-08-21T10:17:21.766954",
     "status": "completed"
    },
    "tags": []
   },
   "outputs": [
    {
     "data": {
      "text/plain": [
       "LogisticRegression(C=0.10000000000000009, max_iter=700, penalty='l1',\n",
       "                   solver='liblinear')"
      ]
     },
     "execution_count": 21,
     "metadata": {},
     "output_type": "execute_result"
    }
   ],
   "source": [
    "poisson = PoissonRegressor(**poisson_best_params)\n",
    "poisson.fit(X_train, y_train)\n",
    "\n",
    "poisson_over = PoissonRegressor(**poisson_over_best_params)\n",
    "poisson_over.fit(X_train_oversampled, y_train_oversampled)\n",
    "\n",
    "logistic = LogisticRegression(**logistic_best_params)\n",
    "logistic.fit(X_train, y_train)\n",
    "\n",
    "logistic_over = LogisticRegression(**logistic_over_best_params)\n",
    "logistic_over.fit(X_train_oversampled, y_train_oversampled)"
   ]
  },
  {
   "cell_type": "code",
   "execution_count": 22,
   "id": "15e91fbb",
   "metadata": {
    "execution": {
     "iopub.execute_input": "2022-08-21T10:17:22.478437Z",
     "iopub.status.busy": "2022-08-21T10:17:22.477808Z",
     "iopub.status.idle": "2022-08-21T10:17:22.504513Z",
     "shell.execute_reply": "2022-08-21T10:17:22.502943Z"
    },
    "papermill": {
     "duration": 0.041736,
     "end_time": "2022-08-21T10:17:22.508920",
     "exception": false,
     "start_time": "2022-08-21T10:17:22.467184",
     "status": "completed"
    },
    "tags": []
   },
   "outputs": [
    {
     "name": "stdout",
     "output_type": "stream",
     "text": [
      "LogisticRegression(C=0.10000000000000009, max_iter=750, penalty='l1',\n",
      "                   solver='saga')\n",
      "0.6162844276887632\n",
      "LogisticRegression(C=0.10000000000000009, max_iter=700, penalty='l1',\n",
      "                   solver='liblinear')\n",
      "0.5457107399407236\n"
     ]
    }
   ],
   "source": [
    "for clf in [logistic, logistic_over]:\n",
    "    print(clf)\n",
    "    y_pred = clf.predict(X_test)\n",
    "\n",
    "    print(roc_auc_score(y_pred, y_test))"
   ]
  },
  {
   "cell_type": "code",
   "execution_count": null,
   "id": "ff6de47b",
   "metadata": {
    "papermill": {
     "duration": 0.022908,
     "end_time": "2022-08-21T10:17:22.555849",
     "exception": false,
     "start_time": "2022-08-21T10:17:22.532941",
     "status": "completed"
    },
    "tags": []
   },
   "outputs": [],
   "source": []
  },
  {
   "cell_type": "markdown",
   "id": "756bd4d0",
   "metadata": {
    "papermill": {
     "duration": 0.022554,
     "end_time": "2022-08-21T10:17:22.601578",
     "exception": false,
     "start_time": "2022-08-21T10:17:22.579024",
     "status": "completed"
    },
    "tags": []
   },
   "source": [
    "### Submission"
   ]
  },
  {
   "cell_type": "code",
   "execution_count": 23,
   "id": "a7daa740",
   "metadata": {
    "execution": {
     "iopub.execute_input": "2022-08-21T10:17:22.630625Z",
     "iopub.status.busy": "2022-08-21T10:17:22.630251Z",
     "iopub.status.idle": "2022-08-21T10:17:23.625198Z",
     "shell.execute_reply": "2022-08-21T10:17:23.624064Z"
    },
    "papermill": {
     "duration": 1.008206,
     "end_time": "2022-08-21T10:17:23.627807",
     "exception": false,
     "start_time": "2022-08-21T10:17:22.619601",
     "status": "completed"
    },
    "tags": []
   },
   "outputs": [
    {
     "data": {
      "text/plain": [
       "LogisticRegression(C=0.10000000000000009, max_iter=700, penalty='l1',\n",
       "                   solver='liblinear')"
      ]
     },
     "execution_count": 23,
     "metadata": {},
     "output_type": "execute_result"
    }
   ],
   "source": [
    "poisson = PoissonRegressor(**poisson_best_params)\n",
    "poisson.fit(X, y)\n",
    "\n",
    "poisson_over = PoissonRegressor(**poisson_over_best_params)\n",
    "poisson_over.fit(X_oversampled, y_oversampled)\n",
    "\n",
    "logistic = LogisticRegression(**logistic_best_params)\n",
    "logistic.fit(X, y)\n",
    "\n",
    "logistic_over = LogisticRegression(**logistic_over_best_params)\n",
    "logistic_over.fit(X_oversampled, y_oversampled)"
   ]
  },
  {
   "cell_type": "code",
   "execution_count": 24,
   "id": "ca0d9dd0",
   "metadata": {
    "execution": {
     "iopub.execute_input": "2022-08-21T10:17:23.648163Z",
     "iopub.status.busy": "2022-08-21T10:17:23.647732Z",
     "iopub.status.idle": "2022-08-21T10:17:23.654283Z",
     "shell.execute_reply": "2022-08-21T10:17:23.653219Z"
    },
    "papermill": {
     "duration": 0.019477,
     "end_time": "2022-08-21T10:17:23.656516",
     "exception": false,
     "start_time": "2022-08-21T10:17:23.637039",
     "status": "completed"
    },
    "tags": []
   },
   "outputs": [],
   "source": [
    "def create_submission_data(model):\n",
    "    probs = model.predict_proba(test)\n",
    "    \n",
    "    return probs[:, 1]\n",
    "\n",
    "def create_submission_data_regression(model):\n",
    "    probs = model.predict(test)\n",
    "    \n",
    "    return probs\n",
    "\n",
    "def create_submission(model, filename, sub_method):\n",
    "    test_probs = sub_method(model)\n",
    "    \n",
    "    submission = pd.DataFrame({'id': test.index+26570,\n",
    "                               'failure': test_probs})\n",
    "    submission.to_csv(filename, index=False)"
   ]
  },
  {
   "cell_type": "code",
   "execution_count": 25,
   "id": "8569d5fe",
   "metadata": {
    "execution": {
     "iopub.execute_input": "2022-08-21T10:17:23.676814Z",
     "iopub.status.busy": "2022-08-21T10:17:23.676205Z",
     "iopub.status.idle": "2022-08-21T10:17:23.810622Z",
     "shell.execute_reply": "2022-08-21T10:17:23.809516Z"
    },
    "papermill": {
     "duration": 0.14758,
     "end_time": "2022-08-21T10:17:23.813284",
     "exception": false,
     "start_time": "2022-08-21T10:17:23.665704",
     "status": "completed"
    },
    "tags": []
   },
   "outputs": [],
   "source": [
    "create_submission(poisson_over, 'poiss_over.csv', create_submission_data_regression)"
   ]
  },
  {
   "cell_type": "code",
   "execution_count": 26,
   "id": "04166238",
   "metadata": {
    "execution": {
     "iopub.execute_input": "2022-08-21T10:17:23.833396Z",
     "iopub.status.busy": "2022-08-21T10:17:23.833009Z",
     "iopub.status.idle": "2022-08-21T10:17:23.856465Z",
     "shell.execute_reply": "2022-08-21T10:17:23.854940Z"
    },
    "papermill": {
     "duration": 0.038048,
     "end_time": "2022-08-21T10:17:23.860625",
     "exception": false,
     "start_time": "2022-08-21T10:17:23.822577",
     "status": "completed"
    },
    "tags": []
   },
   "outputs": [],
   "source": [
    "prob_log = create_submission_data(logistic)\n",
    "prob_log_over = create_submission_data(logistic_over)\n",
    "\n",
    "prob_poiss = create_submission_data_regression(poisson)\n",
    "prob_poiss_over = create_submission_data_regression(poisson_over)"
   ]
  },
  {
   "cell_type": "code",
   "execution_count": 27,
   "id": "7473d3b5",
   "metadata": {
    "execution": {
     "iopub.execute_input": "2022-08-21T10:17:23.910898Z",
     "iopub.status.busy": "2022-08-21T10:17:23.909644Z",
     "iopub.status.idle": "2022-08-21T10:17:23.922615Z",
     "shell.execute_reply": "2022-08-21T10:17:23.921132Z"
    },
    "papermill": {
     "duration": 0.04292,
     "end_time": "2022-08-21T10:17:23.927045",
     "exception": false,
     "start_time": "2022-08-21T10:17:23.884125",
     "status": "completed"
    },
    "tags": []
   },
   "outputs": [],
   "source": [
    "mean_probs = (prob_log*0.58468 + prob_log_over*0.58468 + prob_poiss*0.58565 + prob_poiss_over*0.58662)/(0.58468 + 0.58468 + 0.58565 + 0.58662)"
   ]
  },
  {
   "cell_type": "code",
   "execution_count": 28,
   "id": "6bf14a51",
   "metadata": {
    "execution": {
     "iopub.execute_input": "2022-08-21T10:17:23.975139Z",
     "iopub.status.busy": "2022-08-21T10:17:23.974751Z",
     "iopub.status.idle": "2022-08-21T10:17:24.030309Z",
     "shell.execute_reply": "2022-08-21T10:17:24.029182Z"
    },
    "papermill": {
     "duration": 0.083005,
     "end_time": "2022-08-21T10:17:24.033102",
     "exception": false,
     "start_time": "2022-08-21T10:17:23.950097",
     "status": "completed"
    },
    "tags": []
   },
   "outputs": [],
   "source": [
    "submission = pd.DataFrame({'id': test.index+26570,\n",
    "                               'failure': mean_probs})\n",
    "submission.to_csv('mean', index=False)"
   ]
  }
 ],
 "metadata": {
  "kernelspec": {
   "display_name": "Python 3",
   "language": "python",
   "name": "python3"
  },
  "language_info": {
   "codemirror_mode": {
    "name": "ipython",
    "version": 3
   },
   "file_extension": ".py",
   "mimetype": "text/x-python",
   "name": "python",
   "nbconvert_exporter": "python",
   "pygments_lexer": "ipython3",
   "version": "3.7.12"
  },
  "papermill": {
   "default_parameters": {},
   "duration": 825.971667,
   "end_time": "2022-08-21T10:17:26.665288",
   "environment_variables": {},
   "exception": null,
   "input_path": "__notebook__.ipynb",
   "output_path": "__notebook__.ipynb",
   "parameters": {},
   "start_time": "2022-08-21T10:03:40.693621",
   "version": "2.3.4"
  }
 },
 "nbformat": 4,
 "nbformat_minor": 5
}
